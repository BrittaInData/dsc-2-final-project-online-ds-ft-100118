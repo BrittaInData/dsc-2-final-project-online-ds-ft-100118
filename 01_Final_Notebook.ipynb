{
 "cells": [
  {
   "cell_type": "markdown",
   "metadata": {},
   "source": [
    "## Final Project Module 2: Statistical Analysis and Hypothesis Testing\n",
    "\n",
    "\n",
    "* Student name: BRITTA BETTENDORF\n",
    "* Student pace: FULL TIME\n",
    "* Instructor name: RAFAEL CARRASCO"
   ]
  },
  {
   "cell_type": "markdown",
   "metadata": {},
   "source": [
    "### The Scientific Method\n",
    "<img src=\"The+Scientific+Method.jpg\" height=\"50%\" width=\"50%\">"
   ]
  },
  {
   "cell_type": "markdown",
   "metadata": {},
   "source": [
    "Based on this schema, my steps will be the same for every posed question:\n",
    "#### 1. Doing some exploratory RESEARCH\n",
    "- Exploring the existing data\n",
    "- Feature engineering\n",
    "\n",
    "#### 2. Defining the HYPOTHESIS\n",
    "- Phrasing null hypothesis and alternative hypothesis\n",
    "- Explaing why to use a one-tailed test (if directional hypothesis) or a two-tailed test (if non-directional hypothesis)\n",
    "- Setting significance level\n",
    "\n",
    "#### 3. STATISTICAL TESTING\n",
    "- Reasoning the appropriate statistical test\n",
    "- Checking its assumptions\n",
    "- Calculating test statistic and p-value\n",
    "- Calculating effect size\n",
    "\n",
    "#### 4. Drawing CONCLUSIONS \n",
    "- Evaluating the results and interpret them"
   ]
  },
  {
   "cell_type": "markdown",
   "metadata": {},
   "source": [
    "## Project Northwind Database"
   ]
  },
  {
   "cell_type": "markdown",
   "metadata": {},
   "source": [
    "The Northwind database is a sample database used by Microsoft to demonstrate the features of some of its products, including SQL Server and Microsoft Access. The database contains the sales data for a fictitious company called Northwind Traders, which imports and exports specialty foods from around the world."
   ]
  },
  {
   "cell_type": "code",
   "execution_count": 1,
   "metadata": {},
   "outputs": [],
   "source": [
    "# import libraries\n",
    "import sqlalchemy\n",
    "import pandas as pd\n",
    "import numpy as np\n",
    "\n",
    "from sqlalchemy import create_engine\n",
    "from sqlalchemy import inspect\n",
    "\n",
    "import matplotlib.pyplot as plt\n",
    "import seaborn as sns\n",
    "plt.style.use('seaborn')"
   ]
  },
  {
   "cell_type": "code",
   "execution_count": 2,
   "metadata": {},
   "outputs": [
    {
     "name": "stdout",
     "output_type": "stream",
     "text": [
      "['Category', 'Customer', 'CustomerCustomerDemo', 'CustomerDemographic', 'Employee', 'EmployeeTerritory', 'Order', 'OrderDetail', 'Product', 'Region', 'Shipper', 'Supplier', 'Territory']\n"
     ]
    }
   ],
   "source": [
    "# connecting to the Database using SQLAlchemy\n",
    "engine = create_engine(\"sqlite:///Northwind_small.sqlite\")\n",
    "\n",
    "# create an inspector object\n",
    "inspector = inspect(engine)\n",
    "\n",
    "# get names of tables in database\n",
    "print(inspector.get_table_names())"
   ]
  },
  {
   "cell_type": "code",
   "execution_count": 3,
   "metadata": {},
   "outputs": [],
   "source": [
    "# write a quick function that prints the columns of a table and each column's type\n",
    "\n",
    "def get_columns_info(table_name):    \n",
    "    \"\"\" Function takes in table name and prints columns' names\n",
    "    and datatypes \"\"\"\n",
    "    \n",
    "    cols_list = inspector.get_columns(table_name)    \n",
    "    print(f\"Table Name: {table_name}\\n\")\n",
    "    for col in cols_list:\n",
    "        print(f\"Name: {col['name']} \\t Type: {col['type']}\")"
   ]
  },
  {
   "cell_type": "code",
   "execution_count": 4,
   "metadata": {},
   "outputs": [
    {
     "name": "stdout",
     "output_type": "stream",
     "text": [
      "Table Name: OrderDetail\n",
      "\n",
      "Name: Id \t Type: VARCHAR(8000)\n",
      "Name: OrderId \t Type: INTEGER\n",
      "Name: ProductId \t Type: INTEGER\n",
      "Name: UnitPrice \t Type: DECIMAL\n",
      "Name: Quantity \t Type: INTEGER\n",
      "Name: Discount \t Type: FLOAT\n"
     ]
    }
   ],
   "source": [
    "# calling the function to test it\n",
    "get_columns_info('OrderDetail')"
   ]
  },
  {
   "cell_type": "markdown",
   "metadata": {},
   "source": [
    "## 1. Question: Preferences vs. Sales"
   ]
  },
  {
   "cell_type": "markdown",
   "metadata": {},
   "source": [
    "> Do customers spend significantly more money on imported products than on domestic ones? So might there be a chance to sell more by focussing on imported products?"
   ]
  },
  {
   "cell_type": "markdown",
   "metadata": {},
   "source": [
    "### 1.1 - Exploratory Research"
   ]
  },
  {
   "cell_type": "code",
   "execution_count": 5,
   "metadata": {},
   "outputs": [
    {
     "name": "stdout",
     "output_type": "stream",
     "text": [
      "Table Name: Order\n",
      "\n",
      "Name: Id \t Type: INTEGER\n",
      "Name: CustomerId \t Type: VARCHAR(8000)\n",
      "Name: EmployeeId \t Type: INTEGER\n",
      "Name: OrderDate \t Type: VARCHAR(8000)\n",
      "Name: RequiredDate \t Type: VARCHAR(8000)\n",
      "Name: ShippedDate \t Type: VARCHAR(8000)\n",
      "Name: ShipVia \t Type: INTEGER\n",
      "Name: Freight \t Type: DECIMAL\n",
      "Name: ShipName \t Type: VARCHAR(8000)\n",
      "Name: ShipAddress \t Type: VARCHAR(8000)\n",
      "Name: ShipCity \t Type: VARCHAR(8000)\n",
      "Name: ShipRegion \t Type: VARCHAR(8000)\n",
      "Name: ShipPostalCode \t Type: VARCHAR(8000)\n",
      "Name: ShipCountry \t Type: VARCHAR(8000)\n"
     ]
    }
   ],
   "source": [
    "get_columns_info('Order')"
   ]
  },
  {
   "cell_type": "code",
   "execution_count": 6,
   "metadata": {
    "scrolled": false
   },
   "outputs": [],
   "source": [
    "# joining \"Supplier\", \"Product\", \"OrderDetail\", \"Order\" and \"Customer\" tables \n",
    "# using the pd.read_sql_query() method and giving them meaningful column names in that step\n",
    "\n",
    "df1 = pd.read_sql_query('''SELECT p.Id product_id, p.ProductName product_name, s.Id supplier_id, \n",
    "                            s.Country supplier_country, s.Region supplier_region, od.Quantity order_quantity,\n",
    "                            od.UnitPrice unit_price, c.Id customer_id, c.Country customer_country, \n",
    "                            c.Region customer_region\n",
    "                            FROM Supplier s\n",
    "                            JOIN Product p ON s.Id = p.SupplierId\n",
    "                            JOIN OrderDetail od ON p.Id = od.ProductId\n",
    "                            JOIN [Order] o ON od.OrderId = o.Id\n",
    "                            JOIN Customer c ON o.CustomerId = c.Id\n",
    "                            ;''', engine)"
   ]
  },
  {
   "cell_type": "code",
   "execution_count": 7,
   "metadata": {},
   "outputs": [
    {
     "name": "stdout",
     "output_type": "stream",
     "text": [
      "1. Rows and Columns:\n",
      "(2078, 10)\n",
      "...............................\n",
      "\n",
      "2. Info:\n",
      "<class 'pandas.core.frame.DataFrame'>\n",
      "RangeIndex: 2078 entries, 0 to 2077\n",
      "Data columns (total 10 columns):\n",
      "product_id          2078 non-null int64\n",
      "product_name        2078 non-null object\n",
      "supplier_id         2078 non-null int64\n",
      "supplier_country    2078 non-null object\n",
      "supplier_region     2078 non-null object\n",
      "order_quantity      2078 non-null int64\n",
      "unit_price          2078 non-null float64\n",
      "customer_id         2078 non-null object\n",
      "customer_country    2078 non-null object\n",
      "customer_region     2078 non-null object\n",
      "dtypes: float64(1), int64(3), object(6)\n",
      "memory usage: 162.4+ KB\n",
      "None\n",
      "...............................\n",
      "\n",
      "3. Dataframe:\n"
     ]
    },
    {
     "data": {
      "text/html": [
       "<div>\n",
       "<style scoped>\n",
       "    .dataframe tbody tr th:only-of-type {\n",
       "        vertical-align: middle;\n",
       "    }\n",
       "\n",
       "    .dataframe tbody tr th {\n",
       "        vertical-align: top;\n",
       "    }\n",
       "\n",
       "    .dataframe thead th {\n",
       "        text-align: right;\n",
       "    }\n",
       "</style>\n",
       "<table border=\"1\" class=\"dataframe\">\n",
       "  <thead>\n",
       "    <tr style=\"text-align: right;\">\n",
       "      <th></th>\n",
       "      <th>product_id</th>\n",
       "      <th>product_name</th>\n",
       "      <th>supplier_id</th>\n",
       "      <th>supplier_country</th>\n",
       "      <th>supplier_region</th>\n",
       "      <th>order_quantity</th>\n",
       "      <th>unit_price</th>\n",
       "      <th>customer_id</th>\n",
       "      <th>customer_country</th>\n",
       "      <th>customer_region</th>\n",
       "    </tr>\n",
       "  </thead>\n",
       "  <tbody>\n",
       "    <tr>\n",
       "      <th>0</th>\n",
       "      <td>11</td>\n",
       "      <td>Queso Cabrales</td>\n",
       "      <td>5</td>\n",
       "      <td>Spain</td>\n",
       "      <td>Southern Europe</td>\n",
       "      <td>12</td>\n",
       "      <td>14.0</td>\n",
       "      <td>VINET</td>\n",
       "      <td>France</td>\n",
       "      <td>Western Europe</td>\n",
       "    </tr>\n",
       "    <tr>\n",
       "      <th>1</th>\n",
       "      <td>42</td>\n",
       "      <td>Singaporean Hokkien Fried Mee</td>\n",
       "      <td>20</td>\n",
       "      <td>Singapore</td>\n",
       "      <td>South-East Asia</td>\n",
       "      <td>10</td>\n",
       "      <td>9.8</td>\n",
       "      <td>VINET</td>\n",
       "      <td>France</td>\n",
       "      <td>Western Europe</td>\n",
       "    </tr>\n",
       "    <tr>\n",
       "      <th>2</th>\n",
       "      <td>72</td>\n",
       "      <td>Mozzarella di Giovanni</td>\n",
       "      <td>14</td>\n",
       "      <td>Italy</td>\n",
       "      <td>Southern Europe</td>\n",
       "      <td>5</td>\n",
       "      <td>34.8</td>\n",
       "      <td>VINET</td>\n",
       "      <td>France</td>\n",
       "      <td>Western Europe</td>\n",
       "    </tr>\n",
       "    <tr>\n",
       "      <th>3</th>\n",
       "      <td>14</td>\n",
       "      <td>Tofu</td>\n",
       "      <td>6</td>\n",
       "      <td>Japan</td>\n",
       "      <td>Eastern Asia</td>\n",
       "      <td>9</td>\n",
       "      <td>18.6</td>\n",
       "      <td>TOMSP</td>\n",
       "      <td>Germany</td>\n",
       "      <td>Western Europe</td>\n",
       "    </tr>\n",
       "    <tr>\n",
       "      <th>4</th>\n",
       "      <td>51</td>\n",
       "      <td>Manjimup Dried Apples</td>\n",
       "      <td>24</td>\n",
       "      <td>Australia</td>\n",
       "      <td>NSW</td>\n",
       "      <td>40</td>\n",
       "      <td>42.4</td>\n",
       "      <td>TOMSP</td>\n",
       "      <td>Germany</td>\n",
       "      <td>Western Europe</td>\n",
       "    </tr>\n",
       "  </tbody>\n",
       "</table>\n",
       "</div>"
      ],
      "text/plain": [
       "   product_id                   product_name  supplier_id supplier_country  \\\n",
       "0          11                 Queso Cabrales            5            Spain   \n",
       "1          42  Singaporean Hokkien Fried Mee           20        Singapore   \n",
       "2          72         Mozzarella di Giovanni           14            Italy   \n",
       "3          14                           Tofu            6            Japan   \n",
       "4          51          Manjimup Dried Apples           24        Australia   \n",
       "\n",
       "   supplier_region  order_quantity  unit_price customer_id customer_country  \\\n",
       "0  Southern Europe              12        14.0       VINET           France   \n",
       "1  South-East Asia              10         9.8       VINET           France   \n",
       "2  Southern Europe               5        34.8       VINET           France   \n",
       "3     Eastern Asia               9        18.6       TOMSP          Germany   \n",
       "4              NSW              40        42.4       TOMSP          Germany   \n",
       "\n",
       "  customer_region  \n",
       "0  Western Europe  \n",
       "1  Western Europe  \n",
       "2  Western Europe  \n",
       "3  Western Europe  \n",
       "4  Western Europe  "
      ]
     },
     "execution_count": 7,
     "metadata": {},
     "output_type": "execute_result"
    }
   ],
   "source": [
    "print('1. Rows and Columns:')\n",
    "print(df1.shape)\n",
    "print('...............................')\n",
    "print('\\n2. Info:')\n",
    "print(df1.info())\n",
    "print('...............................\\n\\n3. Dataframe:')\n",
    "df1.head()"
   ]
  },
  {
   "cell_type": "markdown",
   "metadata": {},
   "source": [
    "### Feature Engineering"
   ]
  },
  {
   "cell_type": "code",
   "execution_count": 8,
   "metadata": {},
   "outputs": [
    {
     "data": {
      "text/plain": [
       "imported    1945\n",
       "domestic     133\n",
       "Name: country_preference, dtype: int64"
      ]
     },
     "execution_count": 8,
     "metadata": {},
     "output_type": "execute_result"
    }
   ],
   "source": [
    "# Whenever supplier_country and customer_country match,\n",
    "# the new \"country_preference\" column will be labeled \"domestic\", otherwise \"imported\"\n",
    "df1['country_preference'] = np.where(df1['supplier_country'] == df1['customer_country'], 'domestic', 'imported')\n",
    "df1['country_preference'].value_counts()"
   ]
  },
  {
   "cell_type": "markdown",
   "metadata": {},
   "source": [
    "Okay, in terms of numbers this is **too obvious**, so let's make it more difficult and define imported vs. domestic via regions:"
   ]
  },
  {
   "cell_type": "code",
   "execution_count": 9,
   "metadata": {},
   "outputs": [
    {
     "data": {
      "text/plain": [
       "imported    1780\n",
       "domestic     298\n",
       "Name: region_preference, dtype: int64"
      ]
     },
     "execution_count": 9,
     "metadata": {},
     "output_type": "execute_result"
    }
   ],
   "source": [
    "# Whenever supplier_REGION and customer_REGION match,\n",
    "# the new \"region_preference\" column will be labeled \"domestic\", otherwise \"imported\"\n",
    "df1['region_preference'] = np.where(df1['supplier_region'] == df1['customer_region'], 'domestic', 'imported')\n",
    "df1['region_preference'].value_counts()"
   ]
  },
  {
   "cell_type": "code",
   "execution_count": 10,
   "metadata": {},
   "outputs": [
    {
     "data": {
      "text/html": [
       "<div>\n",
       "<style scoped>\n",
       "    .dataframe tbody tr th:only-of-type {\n",
       "        vertical-align: middle;\n",
       "    }\n",
       "\n",
       "    .dataframe tbody tr th {\n",
       "        vertical-align: top;\n",
       "    }\n",
       "\n",
       "    .dataframe thead th {\n",
       "        text-align: right;\n",
       "    }\n",
       "</style>\n",
       "<table border=\"1\" class=\"dataframe\">\n",
       "  <thead>\n",
       "    <tr style=\"text-align: right;\">\n",
       "      <th></th>\n",
       "      <th>product_id</th>\n",
       "      <th>product_name</th>\n",
       "      <th>supplier_id</th>\n",
       "      <th>supplier_country</th>\n",
       "      <th>supplier_region</th>\n",
       "      <th>order_quantity</th>\n",
       "      <th>unit_price</th>\n",
       "      <th>customer_id</th>\n",
       "      <th>customer_country</th>\n",
       "      <th>customer_region</th>\n",
       "      <th>country_preference</th>\n",
       "      <th>region_preference</th>\n",
       "      <th>spending</th>\n",
       "      <th>domestic_spending</th>\n",
       "      <th>imported_spending</th>\n",
       "    </tr>\n",
       "  </thead>\n",
       "  <tbody>\n",
       "    <tr>\n",
       "      <th>0</th>\n",
       "      <td>11</td>\n",
       "      <td>Queso Cabrales</td>\n",
       "      <td>5</td>\n",
       "      <td>Spain</td>\n",
       "      <td>Southern Europe</td>\n",
       "      <td>12</td>\n",
       "      <td>14.0</td>\n",
       "      <td>VINET</td>\n",
       "      <td>France</td>\n",
       "      <td>Western Europe</td>\n",
       "      <td>imported</td>\n",
       "      <td>imported</td>\n",
       "      <td>168.0</td>\n",
       "      <td>0.0</td>\n",
       "      <td>168.0</td>\n",
       "    </tr>\n",
       "    <tr>\n",
       "      <th>1</th>\n",
       "      <td>42</td>\n",
       "      <td>Singaporean Hokkien Fried Mee</td>\n",
       "      <td>20</td>\n",
       "      <td>Singapore</td>\n",
       "      <td>South-East Asia</td>\n",
       "      <td>10</td>\n",
       "      <td>9.8</td>\n",
       "      <td>VINET</td>\n",
       "      <td>France</td>\n",
       "      <td>Western Europe</td>\n",
       "      <td>imported</td>\n",
       "      <td>imported</td>\n",
       "      <td>98.0</td>\n",
       "      <td>0.0</td>\n",
       "      <td>98.0</td>\n",
       "    </tr>\n",
       "  </tbody>\n",
       "</table>\n",
       "</div>"
      ],
      "text/plain": [
       "   product_id                   product_name  supplier_id supplier_country  \\\n",
       "0          11                 Queso Cabrales            5            Spain   \n",
       "1          42  Singaporean Hokkien Fried Mee           20        Singapore   \n",
       "\n",
       "   supplier_region  order_quantity  unit_price customer_id customer_country  \\\n",
       "0  Southern Europe              12        14.0       VINET           France   \n",
       "1  South-East Asia              10         9.8       VINET           France   \n",
       "\n",
       "  customer_region country_preference region_preference  spending  \\\n",
       "0  Western Europe           imported          imported     168.0   \n",
       "1  Western Europe           imported          imported      98.0   \n",
       "\n",
       "   domestic_spending  imported_spending  \n",
       "0                0.0              168.0  \n",
       "1                0.0               98.0  "
      ]
     },
     "execution_count": 10,
     "metadata": {},
     "output_type": "execute_result"
    }
   ],
   "source": [
    "# constructing a column with the amount spent\n",
    "df1['spending'] = np.multiply(df1['order_quantity'], df1['unit_price'])\n",
    "\n",
    "# if preference is domestic, then fill domestic_spending with according spending - if not, make it zero\n",
    "df1['domestic_spending'] = np.where(df1['region_preference'] == 'domestic', df1['spending'], 0.0)\n",
    "\n",
    "# same vice versa\n",
    "df1['imported_spending'] = np.where(df1['region_preference'] == 'imported', df1['spending'], 0.0)\n",
    "\n",
    "df1.head(2)"
   ]
  },
  {
   "cell_type": "code",
   "execution_count": 11,
   "metadata": {},
   "outputs": [],
   "source": [
    "# drop all columns we don't need and group by customer\n",
    "df1_test = df1[['customer_id', 'domestic_spending', 'imported_spending']]\n",
    "df1_test = df1_test.groupby('customer_id').sum()"
   ]
  },
  {
   "cell_type": "code",
   "execution_count": 12,
   "metadata": {},
   "outputs": [
    {
     "name": "stdout",
     "output_type": "stream",
     "text": [
      "1. Rows and Columns:\n",
      "(85, 2)\n",
      "...............................\n",
      "\n",
      "2. Info:\n",
      "<class 'pandas.core.frame.DataFrame'>\n",
      "Index: 85 entries, ALFKI to WOLZA\n",
      "Data columns (total 2 columns):\n",
      "domestic_spending    85 non-null float64\n",
      "imported_spending    85 non-null float64\n",
      "dtypes: float64(2)\n",
      "memory usage: 2.0+ KB\n",
      "None\n",
      "...............................\n",
      "\n",
      "3. Dataframe:\n"
     ]
    },
    {
     "data": {
      "text/html": [
       "<div>\n",
       "<style scoped>\n",
       "    .dataframe tbody tr th:only-of-type {\n",
       "        vertical-align: middle;\n",
       "    }\n",
       "\n",
       "    .dataframe tbody tr th {\n",
       "        vertical-align: top;\n",
       "    }\n",
       "\n",
       "    .dataframe thead th {\n",
       "        text-align: right;\n",
       "    }\n",
       "</style>\n",
       "<table border=\"1\" class=\"dataframe\">\n",
       "  <thead>\n",
       "    <tr style=\"text-align: right;\">\n",
       "      <th></th>\n",
       "      <th>domestic_spending</th>\n",
       "      <th>imported_spending</th>\n",
       "    </tr>\n",
       "    <tr>\n",
       "      <th>customer_id</th>\n",
       "      <th></th>\n",
       "      <th></th>\n",
       "    </tr>\n",
       "  </thead>\n",
       "  <tbody>\n",
       "    <tr>\n",
       "      <th>ALFKI</th>\n",
       "      <td>2534.2</td>\n",
       "      <td>2062.00</td>\n",
       "    </tr>\n",
       "    <tr>\n",
       "      <th>ANATR</th>\n",
       "      <td>0.0</td>\n",
       "      <td>1402.95</td>\n",
       "    </tr>\n",
       "    <tr>\n",
       "      <th>AROUT</th>\n",
       "      <td>4335.0</td>\n",
       "      <td>9471.50</td>\n",
       "    </tr>\n",
       "    <tr>\n",
       "      <th>BERGS</th>\n",
       "      <td>879.5</td>\n",
       "      <td>26088.65</td>\n",
       "    </tr>\n",
       "    <tr>\n",
       "      <th>BLAUS</th>\n",
       "      <td>940.8</td>\n",
       "      <td>2299.00</td>\n",
       "    </tr>\n",
       "  </tbody>\n",
       "</table>\n",
       "</div>"
      ],
      "text/plain": [
       "             domestic_spending  imported_spending\n",
       "customer_id                                      \n",
       "ALFKI                   2534.2            2062.00\n",
       "ANATR                      0.0            1402.95\n",
       "AROUT                   4335.0            9471.50\n",
       "BERGS                    879.5           26088.65\n",
       "BLAUS                    940.8            2299.00"
      ]
     },
     "execution_count": 12,
     "metadata": {},
     "output_type": "execute_result"
    }
   ],
   "source": [
    "print('1. Rows and Columns:')\n",
    "print(df1_test.shape)\n",
    "print('...............................')\n",
    "print('\\n2. Info:')\n",
    "print(df1_test.info())\n",
    "print('...............................\\n\\n3. Dataframe:')\n",
    "df1_test.head()"
   ]
  },
  {
   "cell_type": "markdown",
   "metadata": {},
   "source": [
    "### 1.2 - Hypothesis"
   ]
  },
  {
   "cell_type": "markdown",
   "metadata": {},
   "source": [
    "$H_0$: People do not spend more money on imported food, so the difference of average spending is zero (or less).\n",
    "\n",
    "> $H_0: \\mu_d =< 0$\n",
    "\n",
    "$H_1$: People spend more money on imported products.\n",
    "\n",
    "> $H_1:  \\mu_d > 0$\n",
    "\n",
    "I set my significance level: \n",
    "\n",
    "> **$\\alpha$ = 0.05**\n",
    "\n",
    "As I specify the direction of the difference, it's a **one-tailed** test."
   ]
  },
  {
   "cell_type": "markdown",
   "metadata": {},
   "source": [
    "### 1.3 - Statistical Analysis"
   ]
  },
  {
   "cell_type": "markdown",
   "metadata": {},
   "source": [
    "### Appropriate Test"
   ]
  },
  {
   "cell_type": "markdown",
   "metadata": {},
   "source": [
    "To determine whether the mean difference between two unrelated groups is statistically significantly different from zero, the **independent t-test** is used.\n",
    "\n",
    "The test statistic t follows a **t-Distribution with ($n_1$ + $n_2$ - 2) degrees of freedom**, where $n_1$ ist the size of sample 1 and $n_2$ ist the size of sample 2. "
   ]
  },
  {
   "cell_type": "markdown",
   "metadata": {},
   "source": [
    "### t-test Assumptions"
   ]
  },
  {
   "cell_type": "markdown",
   "metadata": {},
   "source": [
    "* The **independent variable is categorical** with at least two levels (groups). <br> This assumption is met, as \"food_preference\" is either \"domestic\" or \"imported\".\n",
    "\n",
    "* The **dependent variable must be continuous** which is measured on an interval or ratio scale. <br> This assumption is met, as \"spending\" is metric.\n",
    "\n",
    "* The **dependent variable should not contain any significant outliers.**  <br> This can observed by using boxplots (see below).\n",
    "\n",
    "* The **variances between the two groups are equal**. <br> This can be tested using statistical tests e.g. Levene’s test (see below)."
   ]
  },
  {
   "cell_type": "code",
   "execution_count": 13,
   "metadata": {},
   "outputs": [
    {
     "data": {
      "image/png": "[encoded data removed]",
      "text/plain": [
       "<Figure size 720x216 with 1 Axes>"
      ]
     },
     "metadata": {
      "needs_background": "light"
     },
     "output_type": "display_data"
    }
   ],
   "source": [
    "# boxplots for checking outliers\n",
    "df1_test[['domestic_spending', 'imported_spending']].plot(kind='box', ylim=(0, 35000), figsize=(10,3));"
   ]
  },
  {
   "cell_type": "markdown",
   "metadata": {},
   "source": [
    "--> The no-outlier-Assumption is met."
   ]
  },
  {
   "cell_type": "code",
   "execution_count": 14,
   "metadata": {},
   "outputs": [
    {
     "data": {
      "text/plain": [
       "LeveneResult(statistic=11.696748186462553, pvalue=0.0007859534371347589)"
      ]
     },
     "execution_count": 14,
     "metadata": {},
     "output_type": "execute_result"
    }
   ],
   "source": [
    "# Levene Test for testing homogeneity of variances\n",
    "from scipy import stats\n",
    "stats.levene(df1_test['domestic_spending'], df1_test['imported_spending'])"
   ]
  },
  {
   "cell_type": "markdown",
   "metadata": {},
   "source": [
    "--> The test is significant meaning there is **no homogeneity of variances and we can't proceed**. A viable alternative would be to conduct a **Welch’s t-test**, also named \"unequal variances t-test\"."
   ]
  },
  {
   "cell_type": "markdown",
   "metadata": {},
   "source": [
    "### Welch’s t-test Assumptions"
   ]
  },
  {
   "cell_type": "markdown",
   "metadata": {},
   "source": [
    "The first three assumptions for the t-Test were already passed. Lastly we're testing:\n",
    "\n",
    "* The **distribution of the two groups should follow the normal distribution**. <br> This can be tested using Shapiro test (see below)."
   ]
  },
  {
   "cell_type": "code",
   "execution_count": 15,
   "metadata": {},
   "outputs": [
    {
     "data": {
      "text/plain": [
       "(0.4288530945777893, 1.4724160334067695e-16)"
      ]
     },
     "execution_count": 15,
     "metadata": {},
     "output_type": "execute_result"
    }
   ],
   "source": [
    "# testing normality for first group\n",
    "stats.shapiro(df1_test['domestic_spending'])"
   ]
  },
  {
   "cell_type": "code",
   "execution_count": 16,
   "metadata": {},
   "outputs": [
    {
     "data": {
      "text/plain": [
       "(0.6535995602607727, 7.408941082170939e-13)"
      ]
     },
     "execution_count": 16,
     "metadata": {},
     "output_type": "execute_result"
    }
   ],
   "source": [
    "# testing normality for second group\n",
    "stats.shapiro(df1_test['imported_spending'])"
   ]
  },
  {
   "cell_type": "markdown",
   "metadata": {},
   "source": [
    "--> Shapiro’s test is significant which indicates that the groups are **not normally distributed**."
   ]
  },
  {
   "cell_type": "code",
   "execution_count": 17,
   "metadata": {},
   "outputs": [
    {
     "data": {
      "image/png": "[encoded data removed]",
      "text/plain": [
       "<Figure size 432x288 with 1 Axes>"
      ]
     },
     "metadata": {
      "needs_background": "light"
     },
     "output_type": "display_data"
    }
   ],
   "source": [
    "# additional histograms for visual inspection for what we already know\n",
    "plt.figure(figsize=(6,4))\n",
    "df1_test['domestic_spending'].plot(kind='hist', color='green', alpha=0.6, legend=True)\n",
    "df1_test['imported_spending'].plot(kind='hist',  color='orange', alpha=0.4, legend=True)\n",
    "plt.title('Domestic and Imported Spendings');"
   ]
  },
  {
   "cell_type": "markdown",
   "metadata": {},
   "source": [
    "Yes, it's not normally distributed, but **Welch's t-test remains robust for skewed distributions** and large sample sizes. \n",
    "\n",
    "Nevertheless, we should keep in mind, reliability decreases for skewed distributions and smaller samples."
   ]
  },
  {
   "cell_type": "markdown",
   "metadata": {},
   "source": [
    "### Test Statistic"
   ]
  },
  {
   "cell_type": "markdown",
   "metadata": {},
   "source": [
    "To conduct a Welch's t-Test, we just use the stats.ttest_ind() method and passing “False” in the equal_var-argument. It returns the t statistic and a p-value - but (!) for a two-tailed test."
   ]
  },
  {
   "cell_type": "code",
   "execution_count": 18,
   "metadata": {},
   "outputs": [
    {
     "data": {
      "text/plain": [
       "4.519665767821693"
      ]
     },
     "execution_count": 18,
     "metadata": {},
     "output_type": "execute_result"
    }
   ],
   "source": [
    "# calculating t-value and two-tailed p-value \n",
    "t, p_two = stats.ttest_ind(df1_test['imported_spending'], df1_test['domestic_spending'], \n",
    "                           equal_var=False)\n",
    "t"
   ]
  },
  {
   "cell_type": "markdown",
   "metadata": {},
   "source": [
    "We now have the t-value. What's left are the degrees of freedom to finally get an accurate p-value for our one-tailed test."
   ]
  },
  {
   "cell_type": "code",
   "execution_count": 19,
   "metadata": {},
   "outputs": [
    {
     "data": {
      "text/plain": [
       "124.0"
      ]
     },
     "execution_count": 19,
     "metadata": {},
     "output_type": "execute_result"
    }
   ],
   "source": [
    "# writing a function that calculates degrees of freedom\n",
    "\n",
    "def welch_df(a, b):\n",
    "    \"\"\" Calculates the effective degrees of freedom for two samples. \"\"\"\n",
    "    s1 = a.var(ddof=1) \n",
    "    s2 = b.var(ddof=1)\n",
    "    n1 = a.size\n",
    "    n2 = b.size    \n",
    "    num = (s1/n1 + s2/n2)**2\n",
    "    denom = (s1/n1)**2/(n1 - 1) + (s2/ n2)**2/(n2 - 1)\n",
    "    df = num/denom\n",
    "    return round(df,0)\n",
    "\n",
    "df = welch_df(df1_test['imported_spending'], df1_test['domestic_spending'])\n",
    "df"
   ]
  },
  {
   "cell_type": "markdown",
   "metadata": {},
   "source": [
    "Eventually I calculate the p-value resp. the **area of rejecting the null hypothesis**. \n",
    "\n",
    "Given our directional alternative hypothesis: \n",
    "\n",
    "> $\\mu_d > 0$\n",
    "\n",
    "this area of rejecting is on the right (\" > 0 \"). \n",
    "\n",
    "In other words: I'm trying to get the probability that my test statistic exists GIVEN the null hypothesis is true. If this probabilty is very small, I won't continue assuming the null hypothesis but reject it and instead work with the alternative hypothesis."
   ]
  },
  {
   "cell_type": "code",
   "execution_count": 20,
   "metadata": {},
   "outputs": [
    {
     "data": {
      "text/plain": [
       "7.129045843212722e-06"
      ]
     },
     "execution_count": 20,
     "metadata": {},
     "output_type": "execute_result"
    }
   ],
   "source": [
    "# using the cumulative density function (CDF) with the t-value und df\n",
    "p = 1 - stats.t.cdf(t, df)\n",
    "p"
   ]
  },
  {
   "cell_type": "markdown",
   "metadata": {},
   "source": [
    "The findings **are statistically significant**! We can reject the null hypothesis in support of the alternative."
   ]
  },
  {
   "cell_type": "markdown",
   "metadata": {},
   "source": [
    "### Effect Size"
   ]
  },
  {
   "cell_type": "markdown",
   "metadata": {},
   "source": [
    "For different types of t-Tests, a widely used measure of effect size is Cohens'd.\n",
    "\n",
    "To calculate Cohen's d, the function below will take in the two samples we compare and by calculating the mean and standard deviation, eventually returns Cohen's d:"
   ]
  },
  {
   "cell_type": "code",
   "execution_count": 21,
   "metadata": {},
   "outputs": [],
   "source": [
    "from statistics import mean, stdev\n",
    "from math import sqrt\n",
    "\n",
    "def cohens_d(x, y):\n",
    "    \"\"\" Function takes in two samples as arguments and \n",
    "    calculates Cohens's as a measure of effect size. \"\"\"\n",
    "    cohens_d = (mean(x) - mean(y)) / (sqrt((stdev(x)**2 + stdev(y)**2) / 2))\n",
    "    print(cohens_d)"
   ]
  },
  {
   "cell_type": "code",
   "execution_count": 22,
   "metadata": {},
   "outputs": [
    {
     "name": "stdout",
     "output_type": "stream",
     "text": [
      "0.6932850810422416\n"
     ]
    }
   ],
   "source": [
    "cohens_d(df1_test['imported_spending'], df1_test['domestic_spending'])"
   ]
  },
  {
   "cell_type": "markdown",
   "metadata": {},
   "source": [
    "Not bad! A value > 0.5 is considered as medium effect, while a value > 0.8 already is considered a strong effect. \n",
    "\n",
    "**With 0.7 we're close to a strong effect.**"
   ]
  },
  {
   "cell_type": "markdown",
   "metadata": {},
   "source": [
    "### 1.4 - Conclusions"
   ]
  },
  {
   "cell_type": "code",
   "execution_count": 23,
   "metadata": {},
   "outputs": [
    {
     "data": {
      "text/html": [
       "<div>\n",
       "<style scoped>\n",
       "    .dataframe tbody tr th:only-of-type {\n",
       "        vertical-align: middle;\n",
       "    }\n",
       "\n",
       "    .dataframe tbody tr th {\n",
       "        vertical-align: top;\n",
       "    }\n",
       "\n",
       "    .dataframe thead th {\n",
       "        text-align: right;\n",
       "    }\n",
       "</style>\n",
       "<table border=\"1\" class=\"dataframe\">\n",
       "  <thead>\n",
       "    <tr style=\"text-align: right;\">\n",
       "      <th></th>\n",
       "      <th>domestic_spending</th>\n",
       "      <th>imported_spending</th>\n",
       "    </tr>\n",
       "  </thead>\n",
       "  <tbody>\n",
       "    <tr>\n",
       "      <th>count</th>\n",
       "      <td>85.000000</td>\n",
       "      <td>85.000000</td>\n",
       "    </tr>\n",
       "    <tr>\n",
       "      <th>mean</th>\n",
       "      <td>3296.524118</td>\n",
       "      <td>12134.546941</td>\n",
       "    </tr>\n",
       "    <tr>\n",
       "      <th>std</th>\n",
       "      <td>8142.956245</td>\n",
       "      <td>16084.684694</td>\n",
       "    </tr>\n",
       "    <tr>\n",
       "      <th>min</th>\n",
       "      <td>0.000000</td>\n",
       "      <td>100.800000</td>\n",
       "    </tr>\n",
       "    <tr>\n",
       "      <th>25%</th>\n",
       "      <td>99.000000</td>\n",
       "      <td>2580.400000</td>\n",
       "    </tr>\n",
       "    <tr>\n",
       "      <th>50%</th>\n",
       "      <td>543.500000</td>\n",
       "      <td>6973.630000</td>\n",
       "    </tr>\n",
       "    <tr>\n",
       "      <th>75%</th>\n",
       "      <td>2080.000000</td>\n",
       "      <td>14987.050000</td>\n",
       "    </tr>\n",
       "    <tr>\n",
       "      <th>max</th>\n",
       "      <td>56220.890000</td>\n",
       "      <td>97539.990000</td>\n",
       "    </tr>\n",
       "  </tbody>\n",
       "</table>\n",
       "</div>"
      ],
      "text/plain": [
       "       domestic_spending  imported_spending\n",
       "count          85.000000          85.000000\n",
       "mean         3296.524118       12134.546941\n",
       "std          8142.956245       16084.684694\n",
       "min             0.000000         100.800000\n",
       "25%            99.000000        2580.400000\n",
       "50%           543.500000        6973.630000\n",
       "75%          2080.000000       14987.050000\n",
       "max         56220.890000       97539.990000"
      ]
     },
     "execution_count": 23,
     "metadata": {},
     "output_type": "execute_result"
    }
   ],
   "source": [
    "df1_test.describe()"
   ]
  },
  {
   "cell_type": "markdown",
   "metadata": {},
   "source": [
    "**A one-tailed Welch's t-test on an $\\alpha$ = 0.05 was used to analyze customers' spending on domestic and imported products with the hypothesis that people spend more money on imported products:**\n",
    "\n",
    "* The average expenditures on imported products are much higher (12134 ± 16084 units) compared to the expenditures on domestic products (3296 ± 8142 units).\n",
    "\n",
    "* There is a **statistically highly significant difference** between domestic and imported expenditures with t(124) = 4.5197 and p = 0.000007129.\n",
    "\n",
    "* Therefore I may reject the null hypothesis in support of the alternative: People spend more money on exotic products.\n",
    "\n",
    "* Moreover, the calculated effect size is almost strong pointing to a **medium to high practical significance**.\n",
    "\n",
    "* My $\\alpha$ = 0.05 effectively is the probability that I mistakenly reject the null hypothesis when it is actually true. This is called the \"Type 1 Error\". <br> With 5% I accept only a very small probability for Type 1 Error. The opposite is the \"Type 2 Error\" where I may mistakenly support the null hypothesis when the alternative is actually true.\n",
    "\n",
    "**The results could be used to think about a strategy focussing on imported products for different regions to maximize revenues.**"
   ]
  },
  {
   "cell_type": "markdown",
   "metadata": {},
   "source": [
    "## 2. Question: Frequency vs. Profitability"
   ]
  },
  {
   "cell_type": "markdown",
   "metadata": {},
   "source": [
    "> Do people who order more frequently also generate more sales? If so, it would probably make sense to prompt customers selling more often, even for little money."
   ]
  },
  {
   "cell_type": "markdown",
   "metadata": {},
   "source": [
    "### 2.1 - Exploratory Research"
   ]
  },
  {
   "cell_type": "code",
   "execution_count": 24,
   "metadata": {},
   "outputs": [
    {
     "name": "stdout",
     "output_type": "stream",
     "text": [
      "Table Name: Customer\n",
      "\n",
      "Name: Id \t Type: VARCHAR(8000)\n",
      "Name: CompanyName \t Type: VARCHAR(8000)\n",
      "Name: ContactName \t Type: VARCHAR(8000)\n",
      "Name: ContactTitle \t Type: VARCHAR(8000)\n",
      "Name: Address \t Type: VARCHAR(8000)\n",
      "Name: City \t Type: VARCHAR(8000)\n",
      "Name: Region \t Type: VARCHAR(8000)\n",
      "Name: PostalCode \t Type: VARCHAR(8000)\n",
      "Name: Country \t Type: VARCHAR(8000)\n",
      "Name: Phone \t Type: VARCHAR(8000)\n",
      "Name: Fax \t Type: VARCHAR(8000)\n"
     ]
    }
   ],
   "source": [
    "get_columns_info('Customer')"
   ]
  },
  {
   "cell_type": "code",
   "execution_count": 25,
   "metadata": {
    "scrolled": false
   },
   "outputs": [],
   "source": [
    "# joining \"Order\", \"OrderDetail\" and \"Customer\" tables using the pd.read_sql_query() method \n",
    "# giving them meaningful column names in that step\n",
    "\n",
    "df2 = pd.read_sql_query('''SELECT c.Id customer_id, o.Id order_id,\n",
    "                            od.Quantity quantity, od.UnitPrice unit_price, od.discount discount\n",
    "                            FROM OrderDetail od \n",
    "                            JOIN [Order] o ON od.OrderId = o.Id\n",
    "                            JOIN Customer c ON o.CustomerId = c.Id\n",
    "                            ;''', engine)"
   ]
  },
  {
   "cell_type": "code",
   "execution_count": 26,
   "metadata": {},
   "outputs": [
    {
     "name": "stdout",
     "output_type": "stream",
     "text": [
      "1. Rows and Columns:\n",
      "(2078, 5)\n",
      "...............................\n",
      "\n",
      "2. Info:\n",
      "<class 'pandas.core.frame.DataFrame'>\n",
      "RangeIndex: 2078 entries, 0 to 2077\n",
      "Data columns (total 5 columns):\n",
      "customer_id    2078 non-null object\n",
      "order_id       2078 non-null int64\n",
      "quantity       2078 non-null int64\n",
      "unit_price     2078 non-null float64\n",
      "discount       2078 non-null float64\n",
      "dtypes: float64(2), int64(2), object(1)\n",
      "memory usage: 81.2+ KB\n",
      "None\n",
      "...............................\n",
      "\n",
      "3. Dataframe:\n"
     ]
    },
    {
     "data": {
      "text/html": [
       "<div>\n",
       "<style scoped>\n",
       "    .dataframe tbody tr th:only-of-type {\n",
       "        vertical-align: middle;\n",
       "    }\n",
       "\n",
       "    .dataframe tbody tr th {\n",
       "        vertical-align: top;\n",
       "    }\n",
       "\n",
       "    .dataframe thead th {\n",
       "        text-align: right;\n",
       "    }\n",
       "</style>\n",
       "<table border=\"1\" class=\"dataframe\">\n",
       "  <thead>\n",
       "    <tr style=\"text-align: right;\">\n",
       "      <th></th>\n",
       "      <th>customer_id</th>\n",
       "      <th>order_id</th>\n",
       "      <th>quantity</th>\n",
       "      <th>unit_price</th>\n",
       "      <th>discount</th>\n",
       "    </tr>\n",
       "  </thead>\n",
       "  <tbody>\n",
       "    <tr>\n",
       "      <th>0</th>\n",
       "      <td>VINET</td>\n",
       "      <td>10248</td>\n",
       "      <td>12</td>\n",
       "      <td>14.0</td>\n",
       "      <td>0.0</td>\n",
       "    </tr>\n",
       "    <tr>\n",
       "      <th>1</th>\n",
       "      <td>VINET</td>\n",
       "      <td>10248</td>\n",
       "      <td>10</td>\n",
       "      <td>9.8</td>\n",
       "      <td>0.0</td>\n",
       "    </tr>\n",
       "    <tr>\n",
       "      <th>2</th>\n",
       "      <td>VINET</td>\n",
       "      <td>10248</td>\n",
       "      <td>5</td>\n",
       "      <td>34.8</td>\n",
       "      <td>0.0</td>\n",
       "    </tr>\n",
       "    <tr>\n",
       "      <th>3</th>\n",
       "      <td>TOMSP</td>\n",
       "      <td>10249</td>\n",
       "      <td>9</td>\n",
       "      <td>18.6</td>\n",
       "      <td>0.0</td>\n",
       "    </tr>\n",
       "    <tr>\n",
       "      <th>4</th>\n",
       "      <td>TOMSP</td>\n",
       "      <td>10249</td>\n",
       "      <td>40</td>\n",
       "      <td>42.4</td>\n",
       "      <td>0.0</td>\n",
       "    </tr>\n",
       "  </tbody>\n",
       "</table>\n",
       "</div>"
      ],
      "text/plain": [
       "  customer_id  order_id  quantity  unit_price  discount\n",
       "0       VINET     10248        12        14.0       0.0\n",
       "1       VINET     10248        10         9.8       0.0\n",
       "2       VINET     10248         5        34.8       0.0\n",
       "3       TOMSP     10249         9        18.6       0.0\n",
       "4       TOMSP     10249        40        42.4       0.0"
      ]
     },
     "execution_count": 26,
     "metadata": {},
     "output_type": "execute_result"
    }
   ],
   "source": [
    "print('1. Rows and Columns:')\n",
    "print(df2.shape)\n",
    "print('...............................')\n",
    "print('\\n2. Info:')\n",
    "print(df2.info())\n",
    "print('...............................\\n\\n3. Dataframe:')\n",
    "df2.head()"
   ]
  },
  {
   "cell_type": "code",
   "execution_count": 27,
   "metadata": {},
   "outputs": [
    {
     "name": "stdout",
     "output_type": "stream",
     "text": [
      "Mean:   24.44705882352941\n",
      "Median: 20.0\n"
     ]
    }
   ],
   "source": [
    "# calculate the mean and median amount of orders\n",
    "mean = df2.groupby('customer_id')['order_id'].count().mean()\n",
    "median = df2.groupby('customer_id')['order_id'].count().median()\n",
    "print('Mean:  ', mean)\n",
    "print('Median:', median)"
   ]
  },
  {
   "cell_type": "markdown",
   "metadata": {},
   "source": [
    "It's usually more appropriate to stick to the median."
   ]
  },
  {
   "cell_type": "markdown",
   "metadata": {},
   "source": [
    "### Feature Engineering"
   ]
  },
  {
   "cell_type": "code",
   "execution_count": 28,
   "metadata": {},
   "outputs": [
    {
     "data": {
      "text/html": [
       "<div>\n",
       "<style scoped>\n",
       "    .dataframe tbody tr th:only-of-type {\n",
       "        vertical-align: middle;\n",
       "    }\n",
       "\n",
       "    .dataframe tbody tr th {\n",
       "        vertical-align: top;\n",
       "    }\n",
       "\n",
       "    .dataframe thead th {\n",
       "        text-align: right;\n",
       "    }\n",
       "</style>\n",
       "<table border=\"1\" class=\"dataframe\">\n",
       "  <thead>\n",
       "    <tr style=\"text-align: right;\">\n",
       "      <th></th>\n",
       "      <th>customer_id</th>\n",
       "      <th>order_id</th>\n",
       "      <th>quantity</th>\n",
       "      <th>unit_price</th>\n",
       "      <th>discount</th>\n",
       "      <th>spend_gross</th>\n",
       "      <th>spend_net</th>\n",
       "    </tr>\n",
       "  </thead>\n",
       "  <tbody>\n",
       "    <tr>\n",
       "      <th>0</th>\n",
       "      <td>VINET</td>\n",
       "      <td>10248</td>\n",
       "      <td>12</td>\n",
       "      <td>14.0</td>\n",
       "      <td>0.0</td>\n",
       "      <td>168.0</td>\n",
       "      <td>168.0</td>\n",
       "    </tr>\n",
       "    <tr>\n",
       "      <th>1</th>\n",
       "      <td>VINET</td>\n",
       "      <td>10248</td>\n",
       "      <td>10</td>\n",
       "      <td>9.8</td>\n",
       "      <td>0.0</td>\n",
       "      <td>98.0</td>\n",
       "      <td>98.0</td>\n",
       "    </tr>\n",
       "  </tbody>\n",
       "</table>\n",
       "</div>"
      ],
      "text/plain": [
       "  customer_id  order_id  quantity  unit_price  discount  spend_gross  \\\n",
       "0       VINET     10248        12        14.0       0.0        168.0   \n",
       "1       VINET     10248        10         9.8       0.0         98.0   \n",
       "\n",
       "   spend_net  \n",
       "0      168.0  \n",
       "1       98.0  "
      ]
     },
     "execution_count": 28,
     "metadata": {},
     "output_type": "execute_result"
    }
   ],
   "source": [
    "# multiplying quantity and unit price to get a column with gross spending\n",
    "df2['spend_gross'] = np.multiply(df2['quantity'], df2['unit_price'])\n",
    "\n",
    "# subtracting discount to get net spending\n",
    "df2['spend_net'] = np.subtract(df2['spend_gross'], df2['discount'])\n",
    "\n",
    "df2.head(2)"
   ]
  },
  {
   "cell_type": "code",
   "execution_count": 29,
   "metadata": {},
   "outputs": [
    {
     "data": {
      "text/html": [
       "<div>\n",
       "<style scoped>\n",
       "    .dataframe tbody tr th:only-of-type {\n",
       "        vertical-align: middle;\n",
       "    }\n",
       "\n",
       "    .dataframe tbody tr th {\n",
       "        vertical-align: top;\n",
       "    }\n",
       "\n",
       "    .dataframe thead th {\n",
       "        text-align: right;\n",
       "    }\n",
       "</style>\n",
       "<table border=\"1\" class=\"dataframe\">\n",
       "  <thead>\n",
       "    <tr style=\"text-align: right;\">\n",
       "      <th></th>\n",
       "      <th>spend_gross</th>\n",
       "      <th>spend_net</th>\n",
       "    </tr>\n",
       "    <tr>\n",
       "      <th>customer_id</th>\n",
       "      <th></th>\n",
       "      <th></th>\n",
       "    </tr>\n",
       "  </thead>\n",
       "  <tbody>\n",
       "    <tr>\n",
       "      <th>ALFKI</th>\n",
       "      <td>4596.20</td>\n",
       "      <td>4595.15</td>\n",
       "    </tr>\n",
       "    <tr>\n",
       "      <th>ANATR</th>\n",
       "      <td>1402.95</td>\n",
       "      <td>1402.95</td>\n",
       "    </tr>\n",
       "    <tr>\n",
       "      <th>AROUT</th>\n",
       "      <td>13806.50</td>\n",
       "      <td>13805.80</td>\n",
       "    </tr>\n",
       "  </tbody>\n",
       "</table>\n",
       "</div>"
      ],
      "text/plain": [
       "             spend_gross  spend_net\n",
       "customer_id                        \n",
       "ALFKI            4596.20    4595.15\n",
       "ANATR            1402.95    1402.95\n",
       "AROUT           13806.50   13805.80"
      ]
     },
     "execution_count": 29,
     "metadata": {},
     "output_type": "execute_result"
    }
   ],
   "source": [
    "# FIRST dataframe by spending\n",
    "df2_spending = df2.groupby('customer_id')[['spend_gross','spend_net']].sum()\n",
    "df2_spending.head(3)"
   ]
  },
  {
   "cell_type": "code",
   "execution_count": 30,
   "metadata": {},
   "outputs": [
    {
     "data": {
      "text/html": [
       "<div>\n",
       "<style scoped>\n",
       "    .dataframe tbody tr th:only-of-type {\n",
       "        vertical-align: middle;\n",
       "    }\n",
       "\n",
       "    .dataframe tbody tr th {\n",
       "        vertical-align: top;\n",
       "    }\n",
       "\n",
       "    .dataframe thead th {\n",
       "        text-align: right;\n",
       "    }\n",
       "</style>\n",
       "<table border=\"1\" class=\"dataframe\">\n",
       "  <thead>\n",
       "    <tr style=\"text-align: right;\">\n",
       "      <th></th>\n",
       "      <th>order_amount</th>\n",
       "    </tr>\n",
       "    <tr>\n",
       "      <th>customer_id</th>\n",
       "      <th></th>\n",
       "    </tr>\n",
       "  </thead>\n",
       "  <tbody>\n",
       "    <tr>\n",
       "      <th>ALFKI</th>\n",
       "      <td>12</td>\n",
       "    </tr>\n",
       "    <tr>\n",
       "      <th>ANATR</th>\n",
       "      <td>10</td>\n",
       "    </tr>\n",
       "    <tr>\n",
       "      <th>AROUT</th>\n",
       "      <td>30</td>\n",
       "    </tr>\n",
       "  </tbody>\n",
       "</table>\n",
       "</div>"
      ],
      "text/plain": [
       "             order_amount\n",
       "customer_id              \n",
       "ALFKI                  12\n",
       "ANATR                  10\n",
       "AROUT                  30"
      ]
     },
     "execution_count": 30,
     "metadata": {},
     "output_type": "execute_result"
    }
   ],
   "source": [
    "# SECOND dataframe by sales frequency\n",
    "df2_frequency = pd.DataFrame(df2.groupby('customer_id')['order_id'].count())\n",
    "df2_frequency.rename(columns={'order_id':'order_amount'}, inplace=True)\n",
    "df2_frequency.head(3)"
   ]
  },
  {
   "cell_type": "code",
   "execution_count": 31,
   "metadata": {},
   "outputs": [
    {
     "data": {
      "text/html": [
       "<div>\n",
       "<style scoped>\n",
       "    .dataframe tbody tr th:only-of-type {\n",
       "        vertical-align: middle;\n",
       "    }\n",
       "\n",
       "    .dataframe tbody tr th {\n",
       "        vertical-align: top;\n",
       "    }\n",
       "\n",
       "    .dataframe thead th {\n",
       "        text-align: right;\n",
       "    }\n",
       "</style>\n",
       "<table border=\"1\" class=\"dataframe\">\n",
       "  <thead>\n",
       "    <tr style=\"text-align: right;\">\n",
       "      <th></th>\n",
       "      <th>order_amount</th>\n",
       "      <th>sales_frequency</th>\n",
       "    </tr>\n",
       "    <tr>\n",
       "      <th>customer_id</th>\n",
       "      <th></th>\n",
       "      <th></th>\n",
       "    </tr>\n",
       "  </thead>\n",
       "  <tbody>\n",
       "    <tr>\n",
       "      <th>ALFKI</th>\n",
       "      <td>12</td>\n",
       "      <td>Below Median</td>\n",
       "    </tr>\n",
       "    <tr>\n",
       "      <th>ANATR</th>\n",
       "      <td>10</td>\n",
       "      <td>Below Median</td>\n",
       "    </tr>\n",
       "    <tr>\n",
       "      <th>AROUT</th>\n",
       "      <td>30</td>\n",
       "      <td>Above Median</td>\n",
       "    </tr>\n",
       "  </tbody>\n",
       "</table>\n",
       "</div>"
      ],
      "text/plain": [
       "             order_amount sales_frequency\n",
       "customer_id                              \n",
       "ALFKI                  12    Below Median\n",
       "ANATR                  10    Below Median\n",
       "AROUT                  30    Above Median"
      ]
     },
     "execution_count": 31,
     "metadata": {},
     "output_type": "execute_result"
    }
   ],
   "source": [
    "# creating a new column in second dataframe, \n",
    "# where all customer with a total amount of orders UP TO MEDIAN are classified as \"Below Median\"\n",
    "# and all customers with a total amount of orders GREATER THAN MEDIAN as \"Above Median\"\n",
    "\n",
    "df2_frequency['sales_frequency'] = df2_frequency['order_amount'].apply(lambda x: 'Below Median' \n",
    "                                                                       if x <= median \n",
    "                                                                       else 'Above Median')\n",
    "\n",
    "df2_frequency.head(3)"
   ]
  },
  {
   "cell_type": "code",
   "execution_count": 32,
   "metadata": {},
   "outputs": [
    {
     "data": {
      "text/plain": [
       "Below Median    43\n",
       "Above Median    42\n",
       "Name: sales_frequency, dtype: int64"
      ]
     },
     "execution_count": 32,
     "metadata": {},
     "output_type": "execute_result"
    }
   ],
   "source": [
    "df2_frequency.sales_frequency.value_counts()"
   ]
  },
  {
   "cell_type": "code",
   "execution_count": 33,
   "metadata": {},
   "outputs": [
    {
     "data": {
      "text/html": [
       "<div>\n",
       "<style scoped>\n",
       "    .dataframe tbody tr th:only-of-type {\n",
       "        vertical-align: middle;\n",
       "    }\n",
       "\n",
       "    .dataframe tbody tr th {\n",
       "        vertical-align: top;\n",
       "    }\n",
       "\n",
       "    .dataframe thead th {\n",
       "        text-align: right;\n",
       "    }\n",
       "</style>\n",
       "<table border=\"1\" class=\"dataframe\">\n",
       "  <thead>\n",
       "    <tr style=\"text-align: right;\">\n",
       "      <th></th>\n",
       "      <th>spend_gross</th>\n",
       "      <th>spend_net</th>\n",
       "      <th>order_amount</th>\n",
       "      <th>sales_frequency</th>\n",
       "    </tr>\n",
       "    <tr>\n",
       "      <th>customer_id</th>\n",
       "      <th></th>\n",
       "      <th></th>\n",
       "      <th></th>\n",
       "      <th></th>\n",
       "    </tr>\n",
       "  </thead>\n",
       "  <tbody>\n",
       "    <tr>\n",
       "      <th>ALFKI</th>\n",
       "      <td>4596.20</td>\n",
       "      <td>4595.15</td>\n",
       "      <td>12</td>\n",
       "      <td>Below Median</td>\n",
       "    </tr>\n",
       "    <tr>\n",
       "      <th>ANATR</th>\n",
       "      <td>1402.95</td>\n",
       "      <td>1402.95</td>\n",
       "      <td>10</td>\n",
       "      <td>Below Median</td>\n",
       "    </tr>\n",
       "    <tr>\n",
       "      <th>AROUT</th>\n",
       "      <td>13806.50</td>\n",
       "      <td>13805.80</td>\n",
       "      <td>30</td>\n",
       "      <td>Above Median</td>\n",
       "    </tr>\n",
       "  </tbody>\n",
       "</table>\n",
       "</div>"
      ],
      "text/plain": [
       "             spend_gross  spend_net  order_amount sales_frequency\n",
       "customer_id                                                      \n",
       "ALFKI            4596.20    4595.15            12    Below Median\n",
       "ANATR            1402.95    1402.95            10    Below Median\n",
       "AROUT           13806.50   13805.80            30    Above Median"
      ]
     },
     "execution_count": 33,
     "metadata": {},
     "output_type": "execute_result"
    }
   ],
   "source": [
    "# concat first and second dataframe\n",
    "df2_full = pd.concat([df2_spending, df2_frequency], axis=1)\n",
    "df2_full.head(3)"
   ]
  },
  {
   "cell_type": "code",
   "execution_count": 34,
   "metadata": {},
   "outputs": [
    {
     "data": {
      "text/plain": [
       "(85, 4)"
      ]
     },
     "execution_count": 34,
     "metadata": {},
     "output_type": "execute_result"
    }
   ],
   "source": [
    "df2_full.shape"
   ]
  },
  {
   "cell_type": "markdown",
   "metadata": {},
   "source": [
    "### 2.2 - Hypothesis"
   ]
  },
  {
   "cell_type": "markdown",
   "metadata": {},
   "source": [
    "$H_0$: People who order more frequently (= above the median) do not spend more money on average than people who order less frequent.\n",
    "\n",
    "> $H_0: \\mu_1 = \\mu_2$\n",
    "\n",
    "$H_1$: People who order more frequently also spend more money on average than people who order less frequent.\n",
    "\n",
    "> $H_0: \\mu_1 > \\mu_2$\n",
    "\n",
    "I set my significance level: \n",
    "\n",
    "> **$\\alpha$ = 0.05**\n",
    "\n",
    "As I specify the direction of the difference, it's a **one-tailed** test. "
   ]
  },
  {
   "cell_type": "markdown",
   "metadata": {},
   "source": [
    "### 2.3 - Statistical Analysis"
   ]
  },
  {
   "cell_type": "markdown",
   "metadata": {},
   "source": [
    "### Appropriate Test"
   ]
  },
  {
   "cell_type": "markdown",
   "metadata": {},
   "source": [
    "To determine whether the mean difference between two unrelated groups is statistically significantly different from zero, the **independent t-test** is used.\n",
    "\n",
    "The test statistic t follows a **t-Distribution with ($n_1$ + $n_2$ - 2) degrees of freedom**, where $n_1$ ist the size of sample 1 and $n_2$ ist the size of sample 2. "
   ]
  },
  {
   "cell_type": "markdown",
   "metadata": {},
   "source": [
    "### t-test Assumptions"
   ]
  },
  {
   "cell_type": "markdown",
   "metadata": {},
   "source": [
    "* The **independent variable is categorical** with at least two levels (groups). <br> This assumption is met, as sales frequency is categorized in either below or above median.\n",
    "\n",
    "* The **dependent variable must be continuous** which is measured on an interval or ratio scale. <br> This assumption is met, as \"spending\" is metric.\n",
    "\n",
    "* The **dependent variable should not contain any significant outliers.**  <br> This can observed by using boxplots (see below).\n",
    "\n",
    "* The **variances between the two groups are equal**. <br> This can be tested using statistical tests e.g. Levene’s test (see below).\n",
    "\n",
    "* The **distribution of the two groups should follow the normal distribution**. <br> This can be checked with histograms (see below)."
   ]
  },
  {
   "cell_type": "code",
   "execution_count": 35,
   "metadata": {},
   "outputs": [
    {
     "data": {
      "image/png": "[encoded data removed]",
      "text/plain": [
       "<Figure size 720x360 with 1 Axes>"
      ]
     },
     "metadata": {
      "needs_background": "light"
     },
     "output_type": "display_data"
    }
   ],
   "source": [
    "# boxplots for checking outliers\n",
    "df2_full.boxplot('spend_net', by='sales_frequency', figsize=(10,5))\n",
    "plt.ylim(0,40000);"
   ]
  },
  {
   "cell_type": "markdown",
   "metadata": {},
   "source": [
    "--> The no-outlier-Assumption is met."
   ]
  },
  {
   "cell_type": "code",
   "execution_count": 36,
   "metadata": {},
   "outputs": [
    {
     "data": {
      "text/plain": [
       "LeveneResult(statistic=0.0, pvalue=1.0)"
      ]
     },
     "execution_count": 36,
     "metadata": {},
     "output_type": "execute_result"
    }
   ],
   "source": [
    "# Levene Test for testing homogeneity of variances\n",
    "from scipy import stats\n",
    "\n",
    "# create criteria for each sample\n",
    "crit_above = df2_full['sales_frequency']=='Above Median'\n",
    "crit_below = df2_full['sales_frequency']=='Below Median'\n",
    "\n",
    "stats.levene(crit_above, crit_below)"
   ]
  },
  {
   "cell_type": "markdown",
   "metadata": {},
   "source": [
    "--> The test is not significant meaning there is homogeneity of variances and we can proceed."
   ]
  },
  {
   "cell_type": "code",
   "execution_count": 37,
   "metadata": {},
   "outputs": [
    {
     "data": {
      "image/png": "[encoded data removed]",
      "text/plain": [
       "<Figure size 1008x288 with 2 Axes>"
      ]
     },
     "metadata": {
      "needs_background": "light"
     },
     "output_type": "display_data"
    }
   ],
   "source": [
    "# seperate both samples\n",
    "series_above = df2_full['spend_net'].where(crit_above).dropna()\n",
    "series_below = df2_full['spend_net'].where(crit_below).dropna()\n",
    "\n",
    "# plot histograms\n",
    "fig, (ax1, ax2) = plt.subplots(1,2, figsize=(14,4))\n",
    "\n",
    "ax1.hist(series_above, color='crimson', alpha=0.6)\n",
    "ax1.set_xlabel('\\nSpending of frequent buyers', fontweight='bold')\n",
    "ax1.set_ylabel('Frequency\\n')\n",
    "\n",
    "ax2.hist(series_below, color='yellow', alpha=0.6)\n",
    "ax2.set_xlabel('\\nSpending of infrequent buyers', fontweight='bold')\n",
    "ax2.set_ylabel('Frequency\\n')\n",
    "\n",
    "plt.suptitle('Spending of Frequent and Infrequent Buyers', fontweight='bold');"
   ]
  },
  {
   "cell_type": "markdown",
   "metadata": {},
   "source": [
    "--> It's **not normally distributed**, but the independent t-test remains quiet robust for violations of normality. \n",
    "\n",
    "Nevertheless, we should keep in mind, as a parametric test the independent t-test delievers best to interpret results if both groups are normally distributed. Reliability decreases for skewed distributions."
   ]
  },
  {
   "cell_type": "markdown",
   "metadata": {},
   "source": [
    "### Test Statistic"
   ]
  },
  {
   "cell_type": "markdown",
   "metadata": {},
   "source": [
    "To conduct a t-Test, we just use the stats.ttest_ind() method. It returns the t statistic and a p-value - but (!) for a two-tailed test."
   ]
  },
  {
   "cell_type": "code",
   "execution_count": 38,
   "metadata": {},
   "outputs": [
    {
     "data": {
      "text/plain": [
       "5.430934452008424"
      ]
     },
     "execution_count": 38,
     "metadata": {},
     "output_type": "execute_result"
    }
   ],
   "source": [
    "# calculating t-value and two-tailed p-value \n",
    "from scipy import stats\n",
    "t, p_two = stats.ttest_ind(series_above, series_below)\n",
    "t"
   ]
  },
  {
   "cell_type": "markdown",
   "metadata": {},
   "source": [
    "We now have the t-value and only need to get the degrees of freedom for both samples to finally calculate an accurate p-value for our one-tailed test."
   ]
  },
  {
   "cell_type": "code",
   "execution_count": 39,
   "metadata": {},
   "outputs": [
    {
     "data": {
      "text/plain": [
       "42"
      ]
     },
     "execution_count": 39,
     "metadata": {},
     "output_type": "execute_result"
    }
   ],
   "source": [
    "# checking the length of the above-sample\n",
    "n1 = series_above.shape[0]\n",
    "n1"
   ]
  },
  {
   "cell_type": "code",
   "execution_count": 40,
   "metadata": {},
   "outputs": [
    {
     "data": {
      "text/plain": [
       "43"
      ]
     },
     "execution_count": 40,
     "metadata": {},
     "output_type": "execute_result"
    }
   ],
   "source": [
    "# checking the length of the below-sample\n",
    "n2 = series_below.shape[0]\n",
    "n2"
   ]
  },
  {
   "cell_type": "markdown",
   "metadata": {},
   "source": [
    "Lastly I calculate the p-value resp. the **area of rejecting the null hypothesis**. \n",
    "\n",
    "Given our directional alternative hypothesis: \n",
    "\n",
    "> $\\mu_1 > \\mu_2$ or stated differently: $\\mu_1 - \\mu_2 > 0$\n",
    "\n",
    "this area of rejecting is on the right (\" > 0 \"). \n",
    "\n",
    "In other words: I'm trying to get the probability that my test statistic exists GIVEN the null hypothesis is true. If this probabilty is very small, I won't continue assuming the null hypothesis but reject it and instead work with the alternative hypothesis."
   ]
  },
  {
   "cell_type": "code",
   "execution_count": 41,
   "metadata": {},
   "outputs": [
    {
     "data": {
      "text/plain": [
       "2.7358377197028716e-07"
      ]
     },
     "execution_count": 41,
     "metadata": {},
     "output_type": "execute_result"
    }
   ],
   "source": [
    "# using the cumulative density function (CDF) with the t-value und df's of both samples\n",
    "\n",
    "p = 1 - stats.t.cdf(t, n1+n2-2)\n",
    "p"
   ]
  },
  {
   "cell_type": "markdown",
   "metadata": {},
   "source": [
    "The independent t-test results are **significant!** Therefore, we can reject the null hypothesis in support of the alternative."
   ]
  },
  {
   "cell_type": "markdown",
   "metadata": {},
   "source": [
    "#### Effect Size"
   ]
  },
  {
   "cell_type": "markdown",
   "metadata": {},
   "source": [
    "To calculate the effect size, I use the function I created before for the first question:"
   ]
  },
  {
   "cell_type": "code",
   "execution_count": 42,
   "metadata": {},
   "outputs": [],
   "source": [
    "from statistics import mean, stdev\n",
    "from math import sqrt\n",
    "\n",
    "def cohens_d(x, y):\n",
    "    \"\"\" Function takes in two samples as arguments and \n",
    "    calculates Cohens's as a measure of effect size. \"\"\"\n",
    "    cohens_d = (mean(x) - mean(y)) / (sqrt((stdev(x)**2 + stdev(y)**2) / 2))\n",
    "    print(cohens_d)"
   ]
  },
  {
   "cell_type": "code",
   "execution_count": 43,
   "metadata": {},
   "outputs": [
    {
     "name": "stdout",
     "output_type": "stream",
     "text": [
      "1.1713479126118411\n"
     ]
    }
   ],
   "source": [
    "cohens_d(series_above, series_below)"
   ]
  },
  {
   "cell_type": "markdown",
   "metadata": {},
   "source": [
    "Cohen's d may also take values above 1 (it's defined from -∞ to +∞). In our case it's really an **eminently big effect**!"
   ]
  },
  {
   "cell_type": "markdown",
   "metadata": {},
   "source": [
    "### 2.4 - Conclusions"
   ]
  },
  {
   "cell_type": "code",
   "execution_count": 44,
   "metadata": {},
   "outputs": [
    {
     "name": "stdout",
     "output_type": "stream",
     "text": [
      "\n",
      "Frequent Customers' Spending:\n",
      "count        42.000000\n",
      "mean      26917.445238\n",
      "std       27175.137126\n",
      "min        6089.900000\n",
      "25%       12894.525000\n",
      "50%       18486.850000\n",
      "75%       28280.957500\n",
      "max      117477.440000\n",
      "Name: spend_net, dtype: float64\n",
      "\n",
      "Infrequent Customers' Spending:\n",
      "count       43.000000\n",
      "mean      4209.113953\n",
      "std       3631.026596\n",
      "min        100.800000\n",
      "25%       1645.150000\n",
      "50%       3361.000000\n",
      "75%       5169.650000\n",
      "max      18136.350000\n",
      "Name: spend_net, dtype: float64\n"
     ]
    }
   ],
   "source": [
    "print(\"\\nFrequent Customers' Spending:\")\n",
    "print(series_above.describe())\n",
    "print(\"\\nInfrequent Customers' Spending:\")\n",
    "print(series_below.describe())"
   ]
  },
  {
   "cell_type": "markdown",
   "metadata": {},
   "source": [
    "**A one-tailed t-test on an $\\alpha$ = 0.05 was used to analyze whether customers who order more frequently also spend more money on average than customers who order less frequent:**\n",
    "\n",
    "* A customer buying more often than the median value was classified as a frequent customer, every other customer as an infrequent customer.\n",
    "\n",
    "* The average spending of a frequent customer is much higher (26917 ± 27175 units) than the average spending of a frequent customer (4209 ± 3631 units). Note that the standard deviation of the first may also lead to negative spendings, perhaps due to discounts.\n",
    "\n",
    "* There was a **statistically highly significant difference** between both groups' expenditures with t(42) = 5.4309 and p = 0.00000055.\n",
    "\n",
    "* Therefore I may reject the null hypothesis in support of the alternative: Frequent buyers also spend more money in general.\n",
    "\n",
    "* Moreover, the calculated effect size is extremely high pointing to a **very big practical significance**.\n",
    "\n",
    "* My $\\alpha$ = 0.05 effectively is the probability that I mistakenly reject the null hypothesis when it is actually true. This is called the \"Type 1 Error\". <br> With 5% I accept only a very small probability for Type 1 Error. The opposite is the \"Type 2 Error\" where I may mistakenly support the null hypothesis when the alternative is actually true.\n",
    "\n",
    "**The results could be used to think about a strategy prompting customers just selling more often, even for little money, in order to generate higher revenues.**"
   ]
  },
  {
   "cell_type": "markdown",
   "metadata": {},
   "source": [
    "## 3. Question: Effect of Discount on Sales"
   ]
  },
  {
   "cell_type": "markdown",
   "metadata": {},
   "source": [
    "> Does the discount amount have a statistically significant effect on the number of products in an order? If so, at what level(s) of discount?"
   ]
  },
  {
   "cell_type": "markdown",
   "metadata": {},
   "source": [
    "### 3.1 - Exploratory Research"
   ]
  },
  {
   "cell_type": "code",
   "execution_count": 45,
   "metadata": {},
   "outputs": [],
   "source": [
    "# using the pd.read_sql_query() method to get the \"OrderDetail\" table only\n",
    "df3 = pd.read_sql_query('''SELECT * FROM OrderDetail;''', engine)"
   ]
  },
  {
   "cell_type": "code",
   "execution_count": 46,
   "metadata": {},
   "outputs": [
    {
     "name": "stdout",
     "output_type": "stream",
     "text": [
      "1. Rows and Columns:\n",
      "(2155, 6)\n",
      "...............................\n",
      "\n",
      "2. Info:\n",
      "<class 'pandas.core.frame.DataFrame'>\n",
      "RangeIndex: 2155 entries, 0 to 2154\n",
      "Data columns (total 6 columns):\n",
      "Id           2155 non-null object\n",
      "OrderId      2155 non-null int64\n",
      "ProductId    2155 non-null int64\n",
      "UnitPrice    2155 non-null float64\n",
      "Quantity     2155 non-null int64\n",
      "Discount     2155 non-null float64\n",
      "dtypes: float64(2), int64(3), object(1)\n",
      "memory usage: 101.1+ KB\n",
      "None\n",
      "...............................\n",
      "\n",
      "3. Dataframe:\n"
     ]
    },
    {
     "data": {
      "text/html": [
       "<div>\n",
       "<style scoped>\n",
       "    .dataframe tbody tr th:only-of-type {\n",
       "        vertical-align: middle;\n",
       "    }\n",
       "\n",
       "    .dataframe tbody tr th {\n",
       "        vertical-align: top;\n",
       "    }\n",
       "\n",
       "    .dataframe thead th {\n",
       "        text-align: right;\n",
       "    }\n",
       "</style>\n",
       "<table border=\"1\" class=\"dataframe\">\n",
       "  <thead>\n",
       "    <tr style=\"text-align: right;\">\n",
       "      <th></th>\n",
       "      <th>Id</th>\n",
       "      <th>OrderId</th>\n",
       "      <th>ProductId</th>\n",
       "      <th>UnitPrice</th>\n",
       "      <th>Quantity</th>\n",
       "      <th>Discount</th>\n",
       "    </tr>\n",
       "  </thead>\n",
       "  <tbody>\n",
       "    <tr>\n",
       "      <th>0</th>\n",
       "      <td>10248/11</td>\n",
       "      <td>10248</td>\n",
       "      <td>11</td>\n",
       "      <td>14.0</td>\n",
       "      <td>12</td>\n",
       "      <td>0.0</td>\n",
       "    </tr>\n",
       "    <tr>\n",
       "      <th>1</th>\n",
       "      <td>10248/42</td>\n",
       "      <td>10248</td>\n",
       "      <td>42</td>\n",
       "      <td>9.8</td>\n",
       "      <td>10</td>\n",
       "      <td>0.0</td>\n",
       "    </tr>\n",
       "    <tr>\n",
       "      <th>2</th>\n",
       "      <td>10248/72</td>\n",
       "      <td>10248</td>\n",
       "      <td>72</td>\n",
       "      <td>34.8</td>\n",
       "      <td>5</td>\n",
       "      <td>0.0</td>\n",
       "    </tr>\n",
       "    <tr>\n",
       "      <th>3</th>\n",
       "      <td>10249/14</td>\n",
       "      <td>10249</td>\n",
       "      <td>14</td>\n",
       "      <td>18.6</td>\n",
       "      <td>9</td>\n",
       "      <td>0.0</td>\n",
       "    </tr>\n",
       "    <tr>\n",
       "      <th>4</th>\n",
       "      <td>10249/51</td>\n",
       "      <td>10249</td>\n",
       "      <td>51</td>\n",
       "      <td>42.4</td>\n",
       "      <td>40</td>\n",
       "      <td>0.0</td>\n",
       "    </tr>\n",
       "  </tbody>\n",
       "</table>\n",
       "</div>"
      ],
      "text/plain": [
       "         Id  OrderId  ProductId  UnitPrice  Quantity  Discount\n",
       "0  10248/11    10248         11       14.0        12       0.0\n",
       "1  10248/42    10248         42        9.8        10       0.0\n",
       "2  10248/72    10248         72       34.8         5       0.0\n",
       "3  10249/14    10249         14       18.6         9       0.0\n",
       "4  10249/51    10249         51       42.4        40       0.0"
      ]
     },
     "execution_count": 46,
     "metadata": {},
     "output_type": "execute_result"
    }
   ],
   "source": [
    "print('1. Rows and Columns:')\n",
    "print(df3.shape)\n",
    "print('...............................')\n",
    "print('\\n2. Info:')\n",
    "print(df3.info())\n",
    "print('...............................\\n\\n3. Dataframe:')\n",
    "df3.head()"
   ]
  },
  {
   "cell_type": "code",
   "execution_count": 47,
   "metadata": {},
   "outputs": [
    {
     "data": {
      "text/plain": [
       "0.00    1317\n",
       "0.05     185\n",
       "0.10     173\n",
       "0.20     161\n",
       "0.15     157\n",
       "0.25     154\n",
       "0.03       3\n",
       "0.02       2\n",
       "0.01       1\n",
       "0.04       1\n",
       "0.06       1\n",
       "Name: Discount, dtype: int64"
      ]
     },
     "execution_count": 47,
     "metadata": {},
     "output_type": "execute_result"
    }
   ],
   "source": [
    "df3.Discount.value_counts()"
   ]
  },
  {
   "cell_type": "markdown",
   "metadata": {},
   "source": [
    "Due to the rare cases in some discount levels I'll drop these and work only with the no-discount group and the 5 groups of discount that have s substantial size of cases:"
   ]
  },
  {
   "cell_type": "code",
   "execution_count": 48,
   "metadata": {},
   "outputs": [
    {
     "data": {
      "text/plain": [
       "0.00    1317\n",
       "0.05     185\n",
       "0.10     173\n",
       "0.20     161\n",
       "0.15     157\n",
       "0.25     154\n",
       "Name: Discount, dtype: int64"
      ]
     },
     "execution_count": 48,
     "metadata": {},
     "output_type": "execute_result"
    }
   ],
   "source": [
    "crit = (df3.Discount == 0.00) | (df3.Discount == 0.05) | (df3.Discount == 0.10) | (df3.Discount == 0.15) | (df3.Discount == 0.20) | (df3.Discount == 0.25)\n",
    "\n",
    "df3_test = df3.loc[crit]\n",
    "df3_test.Discount.value_counts()"
   ]
  },
  {
   "cell_type": "code",
   "execution_count": 49,
   "metadata": {
    "scrolled": false
   },
   "outputs": [
    {
     "data": {
      "image/png": "[encoded data removed]",
      "text/plain": [
       "<Figure size 432x288 with 1 Axes>"
      ]
     },
     "metadata": {
      "needs_background": "light"
     },
     "output_type": "display_data"
    }
   ],
   "source": [
    "df3_test.Discount.hist(figsize=(6, 4));"
   ]
  },
  {
   "cell_type": "markdown",
   "metadata": {},
   "source": [
    "--> Most customers don't get any discount and the five different discout levels itself are represented quiet evenly."
   ]
  },
  {
   "cell_type": "code",
   "execution_count": 50,
   "metadata": {
    "scrolled": true
   },
   "outputs": [
    {
     "data": {
      "image/png": "[encoded data removed]",
      "text/plain": [
       "<Figure size 720x360 with 1 Axes>"
      ]
     },
     "metadata": {
      "needs_background": "light"
     },
     "output_type": "display_data"
    }
   ],
   "source": [
    "df3_test.boxplot('Quantity', by='Discount', figsize=(10, 5));"
   ]
  },
  {
   "cell_type": "markdown",
   "metadata": {},
   "source": [
    "--> There are no outliers in each discount group with respect to the quantity."
   ]
  },
  {
   "cell_type": "code",
   "execution_count": 51,
   "metadata": {},
   "outputs": [
    {
     "data": {
      "image/png": "[encoded data removed]",
      "text/plain": [
       "<Figure size 720x720 with 6 Axes>"
      ]
     },
     "metadata": {
      "needs_background": "light"
     },
     "output_type": "display_data"
    }
   ],
   "source": [
    "df3_test.hist('Quantity', by='Discount', figsize=(10, 10), color='grey');"
   ]
  },
  {
   "cell_type": "markdown",
   "metadata": {},
   "source": [
    "### 3.2 - Hypothesis"
   ]
  },
  {
   "cell_type": "markdown",
   "metadata": {},
   "source": [
    "$H_0$: The average number of products in an order is equal for all levels of discount.\n",
    "\n",
    "> $H_0: \\mu_1 = \\mu_2 = \\mu_3 =  ...  = \\mu_i ...  = \\mu_j$\n",
    "\n",
    "$H_1$: The average number of products in an order differs between at least two levels of discount.\n",
    "\n",
    "> $H_0: \\mu_i \\neq \\mu_j$\n",
    "\n",
    "I set my significance level: \n",
    "\n",
    "> **$\\alpha$ = 0.05**"
   ]
  },
  {
   "cell_type": "markdown",
   "metadata": {},
   "source": [
    "### 3.3 - Statistical Analysis"
   ]
  },
  {
   "cell_type": "markdown",
   "metadata": {},
   "source": [
    "### Appropriate Test"
   ]
  },
  {
   "cell_type": "markdown",
   "metadata": {},
   "source": [
    "The analysis of variance or **one-way ANOVA** is used when one wants to compare the means of a condition between 2+ groups. It can be thought of as an extension to the t-test that is used to compare the means of a condition between 2 groups. ANOVA is an omnibus test, meaning it tests the data as a whole. Another way to say that is this, ANOVA tests if there is a difference in the mean somewhere in the model (testing if there was an overall effect), but it does not tell one where the difference is if the there is one. To find out where the difference is between the groups, one has to conduct post-hoc tests. \n",
    "\n",
    "Although it can be thought of as an extension of the t-test, in terms of when to use it, mathematically speaking, it’s more of a regression model and is considered a generalized linear model (GLM).\n",
    "\n",
    "The test statistic F follows an **F-Distribution with $q$ - 1 degrees of freedom** with $q$ being the number of groups. \n",
    "\n",
    "Because of the F-Distribution's shape, the significance level is always specified on the right (no one-tailed or two-tailed specification is necessary)."
   ]
  },
  {
   "cell_type": "markdown",
   "metadata": {},
   "source": [
    "### ANOVA Assumptions"
   ]
  },
  {
   "cell_type": "markdown",
   "metadata": {},
   "source": [
    "There are 3 assumptions that need to be met for the results of an ANOVA test to be considered accurate and trust worthy. It’s important to note that **two assumptions apply to the residuals** and not the variables themselves. The ANOVA assumptions are the same as for linear regression and are:\n",
    "\n",
    "\n",
    "* **Normality** <br> Caveat to this is, if group sizes are equal, the F-statistic is robust to violations of normality.\n",
    "    \n",
    "* **Homogeneity of variance** <br> Same caveat as above, if group sizes are equal, the F-statistic is robust to this violation.\n",
    "\n",
    "* **Independent observations**\n",
    "\n",
    "If possible, it is best to have groups the same size so corrections to the data do not need to be made. Fortunately, we deal with equally sized groups here.\n",
    "\n",
    "As two of the assumptions apply to the residuals, they are tested after conducting the ANOVA. The independence of oberservations can be assumed!"
   ]
  },
  {
   "cell_type": "markdown",
   "metadata": {},
   "source": [
    "### Test Statistic"
   ]
  },
  {
   "cell_type": "code",
   "execution_count": 52,
   "metadata": {
    "scrolled": true
   },
   "outputs": [
    {
     "data": {
      "text/html": [
       "<div>\n",
       "<style scoped>\n",
       "    .dataframe tbody tr th:only-of-type {\n",
       "        vertical-align: middle;\n",
       "    }\n",
       "\n",
       "    .dataframe tbody tr th {\n",
       "        vertical-align: top;\n",
       "    }\n",
       "\n",
       "    .dataframe thead th {\n",
       "        text-align: right;\n",
       "    }\n",
       "</style>\n",
       "<table border=\"1\" class=\"dataframe\">\n",
       "  <thead>\n",
       "    <tr style=\"text-align: right;\">\n",
       "      <th></th>\n",
       "      <th>sum_sq</th>\n",
       "      <th>df</th>\n",
       "      <th>F</th>\n",
       "      <th>PR(&gt;F)</th>\n",
       "    </tr>\n",
       "  </thead>\n",
       "  <tbody>\n",
       "    <tr>\n",
       "      <th>Discount</th>\n",
       "      <td>12621.238965</td>\n",
       "      <td>1.0</td>\n",
       "      <td>35.487951</td>\n",
       "      <td>2.991487e-09</td>\n",
       "    </tr>\n",
       "    <tr>\n",
       "      <th>Residual</th>\n",
       "      <td>762866.181622</td>\n",
       "      <td>2145.0</td>\n",
       "      <td>NaN</td>\n",
       "      <td>NaN</td>\n",
       "    </tr>\n",
       "  </tbody>\n",
       "</table>\n",
       "</div>"
      ],
      "text/plain": [
       "                 sum_sq      df          F        PR(>F)\n",
       "Discount   12621.238965     1.0  35.487951  2.991487e-09\n",
       "Residual  762866.181622  2145.0        NaN           NaN"
      ]
     },
     "execution_count": 52,
     "metadata": {},
     "output_type": "execute_result"
    }
   ],
   "source": [
    "import statsmodels.api as sm\n",
    "from statsmodels.formula.api import ols\n",
    "\n",
    "# syntax for defining the ANOVA-model\n",
    "anova = ols('Quantity ~ Discount', data=df3_test).fit()\n",
    "table = sm.stats.anova_lm(anova, typ=2)\n",
    "table"
   ]
  },
  {
   "cell_type": "markdown",
   "metadata": {},
   "source": [
    "On the left, we have our discount factor, and on the right, the probability that this factor is indeed influential. \n",
    "\n",
    "Values < .05 (i.e. our α) indicate rejection of the null hypothesis. **We can see the discount factor appears to be highly influential.**"
   ]
  },
  {
   "cell_type": "markdown",
   "metadata": {},
   "source": [
    "**Assumption of Homogeneity of residuals' variance:**"
   ]
  },
  {
   "cell_type": "code",
   "execution_count": 53,
   "metadata": {},
   "outputs": [
    {
     "data": {
      "text/plain": [
       "LeveneResult(statistic=2.9943951679841643, pvalue=0.010664285577385134)"
      ]
     },
     "execution_count": 53,
     "metadata": {},
     "output_type": "execute_result"
    }
   ],
   "source": [
    "# using Levene’s test to test for equal variances between groups\n",
    "from scipy import stats\n",
    "stats.levene(df3_test['Quantity'][df3_test['Discount'] == 0.00],\n",
    "             df3_test['Quantity'][df3_test['Discount'] == 0.05],\n",
    "             df3_test['Quantity'][df3_test['Discount'] == 0.10],\n",
    "             df3_test['Quantity'][df3_test['Discount'] == 0.15],\n",
    "             df3_test['Quantity'][df3_test['Discount'] == 0.20],\n",
    "             df3_test['Quantity'][df3_test['Discount'] == 0.25])"
   ]
  },
  {
   "cell_type": "markdown",
   "metadata": {},
   "source": [
    "--> Levene’s test for homogeneity of variance is significant which indicates that the **groups don't have equal variances**. But as stated earlier, if group sizes are equal, the F-statistic is robust to this violation.\n",
    "\n",
    "**Assumption of Normality of residuals:**"
   ]
  },
  {
   "cell_type": "code",
   "execution_count": 54,
   "metadata": {},
   "outputs": [
    {
     "data": {
      "text/plain": [
       "(0.8587857484817505, 3.172497684277456e-40)"
      ]
     },
     "execution_count": 54,
     "metadata": {},
     "output_type": "execute_result"
    }
   ],
   "source": [
    "# using Shapiro-Wilk method\n",
    "stats.shapiro(anova.resid)"
   ]
  },
  {
   "cell_type": "markdown",
   "metadata": {},
   "source": [
    "--> The output is not labelled, but the numbers are the test statistic value followed by the p-value. The results from the Shapiro-Wilk test is statistically significant which indicates that the **residuals are not normally distributed**. But same as above: if group sizes are equal, the F-statistic is robust to violation of normality."
   ]
  },
  {
   "cell_type": "markdown",
   "metadata": {},
   "source": [
    "### Effect Size"
   ]
  },
  {
   "cell_type": "markdown",
   "metadata": {},
   "source": [
    "There are a few different effect sizes for an ANOVA one can use: **eta squared (η2)**, and **omega squared (ω2)**. Omega squared is considered a better measure of effect size than eta squared because it is unbiased in it’s calculation.\n",
    "\n",
    "+++ Something to note: For some reason R2 is called eta squared within the ANOVA framework, but they are the same thing. R2 is a measure of how much variance is explained by the model and is calculated by taking the explained variance and dividing it by the total variance. +++\n",
    "\n",
    "The following code uses the ANOVA table produced by statsmodels and appends the effect size measures of eta-squared (η2) and omega-squared (ω2)."
   ]
  },
  {
   "cell_type": "code",
   "execution_count": 55,
   "metadata": {
    "scrolled": false
   },
   "outputs": [
    {
     "data": {
      "text/html": [
       "<div>\n",
       "<style scoped>\n",
       "    .dataframe tbody tr th:only-of-type {\n",
       "        vertical-align: middle;\n",
       "    }\n",
       "\n",
       "    .dataframe tbody tr th {\n",
       "        vertical-align: top;\n",
       "    }\n",
       "\n",
       "    .dataframe thead th {\n",
       "        text-align: right;\n",
       "    }\n",
       "</style>\n",
       "<table border=\"1\" class=\"dataframe\">\n",
       "  <thead>\n",
       "    <tr style=\"text-align: right;\">\n",
       "      <th></th>\n",
       "      <th>sum_sq</th>\n",
       "      <th>df</th>\n",
       "      <th>F</th>\n",
       "      <th>PR(&gt;F)</th>\n",
       "      <th>mean_sq</th>\n",
       "      <th>eta_sq</th>\n",
       "      <th>omega_sq</th>\n",
       "    </tr>\n",
       "  </thead>\n",
       "  <tbody>\n",
       "    <tr>\n",
       "      <th>Discount</th>\n",
       "      <td>12621.238965</td>\n",
       "      <td>1.0</td>\n",
       "      <td>35.487951</td>\n",
       "      <td>2.991487e-09</td>\n",
       "      <td>12621.238965</td>\n",
       "      <td>0.016275</td>\n",
       "      <td>0.015809</td>\n",
       "    </tr>\n",
       "    <tr>\n",
       "      <th>Residual</th>\n",
       "      <td>762866.181622</td>\n",
       "      <td>2145.0</td>\n",
       "      <td>NaN</td>\n",
       "      <td>NaN</td>\n",
       "      <td>355.648570</td>\n",
       "      <td>NaN</td>\n",
       "      <td>NaN</td>\n",
       "    </tr>\n",
       "  </tbody>\n",
       "</table>\n",
       "</div>"
      ],
      "text/plain": [
       "                 sum_sq      df          F        PR(>F)       mean_sq  \\\n",
       "Discount   12621.238965     1.0  35.487951  2.991487e-09  12621.238965   \n",
       "Residual  762866.181622  2145.0        NaN           NaN    355.648570   \n",
       "\n",
       "            eta_sq  omega_sq  \n",
       "Discount  0.016275  0.015809  \n",
       "Residual       NaN       NaN  "
      ]
     },
     "execution_count": 55,
     "metadata": {},
     "output_type": "execute_result"
    }
   ],
   "source": [
    "def anova_effect_size(aov):       \n",
    "    \"\"\" This function takes the Anova table performed with statsmodels\n",
    "    and appends two effect size measures: eta-squared and omega-squared. \"\"\"\n",
    "    \n",
    "    # mean squared\n",
    "    aov['mean_sq'] = aov[:]['sum_sq']/aov[:]['df']\n",
    "    \n",
    "    # eta-squared (η2) \n",
    "    aov['eta_sq'] = aov[:-1]['sum_sq']/sum(aov['sum_sq'])\n",
    "    \n",
    "    # omega-squared (ω2)\n",
    "    num = (aov[:-1]['sum_sq'] - (aov[:-1]['df']*aov['mean_sq'][-1]))\n",
    "    denom = (sum(aov['sum_sq']) + aov['mean_sq'][-1])\n",
    "    aov['omega_sq'] = num / denom    \n",
    "    \n",
    "    return aov\n",
    "\n",
    "anova_effect_size(table)"
   ]
  },
  {
   "cell_type": "markdown",
   "metadata": {},
   "source": [
    "According to both measures (around 0.016), the discount has only a **small effect**."
   ]
  },
  {
   "cell_type": "markdown",
   "metadata": {},
   "source": [
    "### Post-hoc Testing\n",
    "\n",
    "The overall model was significant, now we want to know **which groups actually differ**. \n",
    "\n",
    "Tukey’s HSD is one method that can be used. The Tukey HSD post-hoc comparison test controls for type I error and maintains the familywise error rate at 0.05. \n",
    "\n",
    "(Unfortunately, this method currently does not provide the t-statistic so treatment effect size cannot be calculated.)"
   ]
  },
  {
   "cell_type": "code",
   "execution_count": 56,
   "metadata": {
    "scrolled": false
   },
   "outputs": [],
   "source": [
    "from statsmodels.stats.multicomp import pairwise_tukeyhsd\n",
    "from statsmodels.stats.multicomp import MultiComparison\n",
    "\n",
    "mc = MultiComparison(df3_test['Quantity'], df3_test['Discount'])\n",
    "mc_results = mc.tukeyhsd()"
   ]
  },
  {
   "cell_type": "code",
   "execution_count": 57,
   "metadata": {
    "scrolled": true
   },
   "outputs": [
    {
     "data": {
      "image/png": "[encoded data removed]",
      "text/plain": [
       "<Figure size 432x288 with 1 Axes>"
      ]
     },
     "metadata": {
      "needs_background": "light"
     },
     "output_type": "display_data"
    }
   ],
   "source": [
    "# let's compare all levels with 0.0 (blue)\n",
    "# all groups that are significantly different from 0.0 are color coded red, all insignificant groups gray\n",
    "mc_results.plot_simultaneous(comparison_name=0.0, figsize=(6,4), \n",
    "                             ylabel='Discount Level\\n', xlabel='\\nAverage Number of Products in Order');"
   ]
  },
  {
   "cell_type": "markdown",
   "metadata": {},
   "source": [
    "--> **All discount levels significantly differ from NO DISCOUNT - except the 0.1% discount.**"
   ]
  },
  {
   "cell_type": "code",
   "execution_count": 58,
   "metadata": {},
   "outputs": [
    {
     "data": {
      "image/png": "[encoded data removed]",
      "text/plain": [
       "<Figure size 432x288 with 1 Axes>"
      ]
     },
     "metadata": {
      "needs_background": "light"
     },
     "output_type": "display_data"
    }
   ],
   "source": [
    "# let's compare all levels with 0.05 (blue)\n",
    "# all groups that are significantly different are color coded red, all insignificant groups gray\n",
    "mc_results.plot_simultaneous(comparison_name=0.05, figsize=(6,4),                            \n",
    "                             ylabel='Discount Level\\n', xlabel='\\nAverage Number of Products in Order');"
   ]
  },
  {
   "cell_type": "code",
   "execution_count": 59,
   "metadata": {},
   "outputs": [
    {
     "data": {
      "image/png": "[encoded data removed]",
      "text/plain": [
       "<Figure size 432x288 with 1 Axes>"
      ]
     },
     "metadata": {
      "needs_background": "light"
     },
     "output_type": "display_data"
    }
   ],
   "source": [
    "# let's compare all levels with 0.1 (blue)\n",
    "# all groups that are significantly different are color coded red, all insignificant groups gray\n",
    "mc_results.plot_simultaneous(comparison_name=0.1, figsize=(6,4), \n",
    "                             ylabel='Discount Level\\n', xlabel='\\nAverage Number of Products in Order');"
   ]
  },
  {
   "cell_type": "code",
   "execution_count": 60,
   "metadata": {},
   "outputs": [
    {
     "data": {
      "image/png": "[encoded data removed]",
      "text/plain": [
       "<Figure size 432x288 with 1 Axes>"
      ]
     },
     "metadata": {
      "needs_background": "light"
     },
     "output_type": "display_data"
    }
   ],
   "source": [
    "# let's compare all levels with 0.15 (blue)\n",
    "# all groups that are significantly different are color coded red, all insignificant groups gray\n",
    "mc_results.plot_simultaneous(comparison_name=0.15, figsize=(6,4), \n",
    "                             ylabel='Discount Level\\n', xlabel='\\nAverage Number of Products in Order');"
   ]
  },
  {
   "cell_type": "code",
   "execution_count": 61,
   "metadata": {},
   "outputs": [
    {
     "data": {
      "image/png": "[encoded data removed]",
      "text/plain": [
       "<Figure size 432x288 with 1 Axes>"
      ]
     },
     "metadata": {
      "needs_background": "light"
     },
     "output_type": "display_data"
    }
   ],
   "source": [
    "# let's compare all levels with 0.2 (blue)\n",
    "# all groups that are significantly different are color coded red, all insignificant groups gray\n",
    "mc_results.plot_simultaneous(comparison_name=0.2, figsize=(6,4), \n",
    "                             ylabel='Discount Level\\n', xlabel='\\nAverage Number of Products in Order');"
   ]
  },
  {
   "cell_type": "code",
   "execution_count": 62,
   "metadata": {},
   "outputs": [
    {
     "data": {
      "image/png": "[encoded data removed]",
      "text/plain": [
       "<Figure size 432x288 with 1 Axes>"
      ]
     },
     "metadata": {
      "needs_background": "light"
     },
     "output_type": "display_data"
    }
   ],
   "source": [
    "# let's compare all levels with 0.25 (blue)\n",
    "# all groups that are significantly different are color coded red, all insignificant groups gray\n",
    "mc_results.plot_simultaneous(comparison_name=0.25, figsize=(6,4), \n",
    "                             ylabel='Discount Level\\n', xlabel='\\nAverage Number of Products in Order');"
   ]
  },
  {
   "cell_type": "markdown",
   "metadata": {},
   "source": [
    "--> **Some levels though seem to have an unwanted effect, e.g. 0.2: The number of ordered products becomes even less compared 0.15 or 0.05!**"
   ]
  },
  {
   "cell_type": "markdown",
   "metadata": {},
   "source": [
    "### 3.4 - Conclusions"
   ]
  },
  {
   "cell_type": "markdown",
   "metadata": {},
   "source": [
    "**An one-way ANOVA on an $\\alpha$ = 0.05 was used to analyze the effect of discount levels on the number of items in an order:**\n",
    "\n",
    "* There was a **statistically highly significant difference** between the discount levels with p = 2.991487e-09.\n",
    "\n",
    "* Therefore I may reject the null hypothesis in support of the alternative: The average number of ordered products in an order differs between at least two levels of discounts. It seems that the number of items can't be increased by offering more discount than 0.05.\n",
    "\n",
    "* Post-hoc testing revealed interesting details though in which groups actually differ. Further investigation may be needed but there is some evidence for e.g. a discount of 0.1 may be less productive than one of 0.15 or 0.25 (double-digits).\n",
    "\n",
    "* However, the effect size is only small pointing to a **low practical significance**.\n",
    "\n",
    "* My $\\alpha$ = 0.05 effectively is the probability that I mistakenly reject the null hypothesis when it is actually true. This is called the \"Type 1 Error\". <br> With 5% I accept only a very small probability for Type 1 Error. The opposite is the \"Type 2 Error\" where I may mistakenly support the null hypothesis when the alternative is actually true.\n",
    "\n",
    "**The results could be used to further investigate and maybe test the effect of different discount levels in their use to be productive revenue booster.**"
   ]
  },
  {
   "cell_type": "markdown",
   "metadata": {},
   "source": [
    "## 4. Question: Influence of Gender and Categories on Sales"
   ]
  },
  {
   "cell_type": "markdown",
   "metadata": {},
   "source": [
    "> What influence does have the gender and product category on the amount of sales? Are their interactions in that a specific gender responds well to specific categories?"
   ]
  },
  {
   "cell_type": "markdown",
   "metadata": {},
   "source": [
    "### 4.1 - Exploratory Research"
   ]
  },
  {
   "cell_type": "code",
   "execution_count": 63,
   "metadata": {},
   "outputs": [],
   "source": [
    "# joining \"Order\", \"OrderDetail\", \"Customer\", \"Product\" and \"Category\" tables\n",
    "# using the pd.read_sql_query() method and giving them meaningful column names in that step\n",
    "\n",
    "df4 = pd.read_sql_query('''SELECT c.Id customer_id, c.contactname contact_name, c.contacttitle title, \n",
    "                            o.Id order_id, od.Quantity quantity, od.UnitPrice unit_price, od.Discount discount,\n",
    "                            cat.Id cat_id, cat. CategoryName cat_name\n",
    "                            FROM OrderDetail od \n",
    "                            JOIN [Order] o ON od.OrderId = o.Id\n",
    "                            JOIN Customer c ON o.CustomerId = c.Id\n",
    "                            JOIN Product p ON od.ProductId = p.Id\n",
    "                            JOIN Category cat ON p.categoryId = cat.Id\n",
    "                            ;''', engine)"
   ]
  },
  {
   "cell_type": "code",
   "execution_count": 64,
   "metadata": {},
   "outputs": [
    {
     "name": "stdout",
     "output_type": "stream",
     "text": [
      "1. Rows and Columns:\n",
      "(2078, 9)\n",
      "...............................\n",
      "\n",
      "2. Info:\n",
      "<class 'pandas.core.frame.DataFrame'>\n",
      "RangeIndex: 2078 entries, 0 to 2077\n",
      "Data columns (total 9 columns):\n",
      "customer_id     2078 non-null object\n",
      "contact_name    2078 non-null object\n",
      "title           2078 non-null object\n",
      "order_id        2078 non-null int64\n",
      "quantity        2078 non-null int64\n",
      "unit_price      2078 non-null float64\n",
      "discount        2078 non-null float64\n",
      "cat_id          2078 non-null int64\n",
      "cat_name        2078 non-null object\n",
      "dtypes: float64(2), int64(3), object(4)\n",
      "memory usage: 146.2+ KB\n",
      "None\n",
      "...............................\n",
      "\n",
      "3. Dataframe:\n"
     ]
    },
    {
     "data": {
      "text/html": [
       "<div>\n",
       "<style scoped>\n",
       "    .dataframe tbody tr th:only-of-type {\n",
       "        vertical-align: middle;\n",
       "    }\n",
       "\n",
       "    .dataframe tbody tr th {\n",
       "        vertical-align: top;\n",
       "    }\n",
       "\n",
       "    .dataframe thead th {\n",
       "        text-align: right;\n",
       "    }\n",
       "</style>\n",
       "<table border=\"1\" class=\"dataframe\">\n",
       "  <thead>\n",
       "    <tr style=\"text-align: right;\">\n",
       "      <th></th>\n",
       "      <th>customer_id</th>\n",
       "      <th>contact_name</th>\n",
       "      <th>title</th>\n",
       "      <th>order_id</th>\n",
       "      <th>quantity</th>\n",
       "      <th>unit_price</th>\n",
       "      <th>discount</th>\n",
       "      <th>cat_id</th>\n",
       "      <th>cat_name</th>\n",
       "    </tr>\n",
       "  </thead>\n",
       "  <tbody>\n",
       "    <tr>\n",
       "      <th>0</th>\n",
       "      <td>VINET</td>\n",
       "      <td>Paul Henriot</td>\n",
       "      <td>Accounting Manager</td>\n",
       "      <td>10248</td>\n",
       "      <td>12</td>\n",
       "      <td>14.0</td>\n",
       "      <td>0.0</td>\n",
       "      <td>4</td>\n",
       "      <td>Dairy Products</td>\n",
       "    </tr>\n",
       "    <tr>\n",
       "      <th>1</th>\n",
       "      <td>VINET</td>\n",
       "      <td>Paul Henriot</td>\n",
       "      <td>Accounting Manager</td>\n",
       "      <td>10248</td>\n",
       "      <td>10</td>\n",
       "      <td>9.8</td>\n",
       "      <td>0.0</td>\n",
       "      <td>5</td>\n",
       "      <td>Grains/Cereals</td>\n",
       "    </tr>\n",
       "    <tr>\n",
       "      <th>2</th>\n",
       "      <td>VINET</td>\n",
       "      <td>Paul Henriot</td>\n",
       "      <td>Accounting Manager</td>\n",
       "      <td>10248</td>\n",
       "      <td>5</td>\n",
       "      <td>34.8</td>\n",
       "      <td>0.0</td>\n",
       "      <td>4</td>\n",
       "      <td>Dairy Products</td>\n",
       "    </tr>\n",
       "    <tr>\n",
       "      <th>3</th>\n",
       "      <td>TOMSP</td>\n",
       "      <td>Karin Josephs</td>\n",
       "      <td>Marketing Manager</td>\n",
       "      <td>10249</td>\n",
       "      <td>9</td>\n",
       "      <td>18.6</td>\n",
       "      <td>0.0</td>\n",
       "      <td>7</td>\n",
       "      <td>Produce</td>\n",
       "    </tr>\n",
       "    <tr>\n",
       "      <th>4</th>\n",
       "      <td>TOMSP</td>\n",
       "      <td>Karin Josephs</td>\n",
       "      <td>Marketing Manager</td>\n",
       "      <td>10249</td>\n",
       "      <td>40</td>\n",
       "      <td>42.4</td>\n",
       "      <td>0.0</td>\n",
       "      <td>7</td>\n",
       "      <td>Produce</td>\n",
       "    </tr>\n",
       "  </tbody>\n",
       "</table>\n",
       "</div>"
      ],
      "text/plain": [
       "  customer_id   contact_name               title  order_id  quantity  \\\n",
       "0       VINET   Paul Henriot  Accounting Manager     10248        12   \n",
       "1       VINET   Paul Henriot  Accounting Manager     10248        10   \n",
       "2       VINET   Paul Henriot  Accounting Manager     10248         5   \n",
       "3       TOMSP  Karin Josephs   Marketing Manager     10249         9   \n",
       "4       TOMSP  Karin Josephs   Marketing Manager     10249        40   \n",
       "\n",
       "   unit_price  discount  cat_id        cat_name  \n",
       "0        14.0       0.0       4  Dairy Products  \n",
       "1         9.8       0.0       5  Grains/Cereals  \n",
       "2        34.8       0.0       4  Dairy Products  \n",
       "3        18.6       0.0       7         Produce  \n",
       "4        42.4       0.0       7         Produce  "
      ]
     },
     "execution_count": 64,
     "metadata": {},
     "output_type": "execute_result"
    }
   ],
   "source": [
    "print('1. Rows and Columns:')\n",
    "print(df4.shape)\n",
    "print('...............................')\n",
    "print('\\n2. Info:')\n",
    "print(df4.info())\n",
    "print('...............................\\n\\n3. Dataframe:')\n",
    "df4.head()"
   ]
  },
  {
   "cell_type": "code",
   "execution_count": 65,
   "metadata": {},
   "outputs": [
    {
     "name": "stdout",
     "output_type": "stream",
     "text": [
      "['Dairy Products' 'Grains/Cereals' 'Produce' 'Seafood' 'Condiments'\n",
      " 'Confections' 'Beverages' 'Meat/Poultry']\n"
     ]
    }
   ],
   "source": [
    "print(df4.cat_name.unique())"
   ]
  },
  {
   "cell_type": "markdown",
   "metadata": {},
   "source": [
    "### Feature Engineering"
   ]
  },
  {
   "cell_type": "code",
   "execution_count": 66,
   "metadata": {},
   "outputs": [
    {
     "data": {
      "text/plain": [
       "85"
      ]
     },
     "execution_count": 66,
     "metadata": {},
     "output_type": "execute_result"
    }
   ],
   "source": [
    "# check the number of unique names\n",
    "len(df4.contact_name.unique())"
   ]
  },
  {
   "cell_type": "code",
   "execution_count": 67,
   "metadata": {},
   "outputs": [
    {
     "data": {
      "text/plain": [
       "array(['Paul Henriot', 'Karin Josephs', 'Mario Pontes', 'Mary Saveley',\n",
       "       'Pascale Cartrain', 'Yang Wang', 'Michael Holz', 'Paula Parente',\n",
       "       'Carlos Hernández', 'Roland Mendel', 'Francisco Chang',\n",
       "       'Henriette Pfalzheim', 'Bernardo Batista', 'Paula Wilson',\n",
       "       'Maria Larsson', 'Frédérique Citeaux', 'Pirkko Koskitalo',\n",
       "       'Peter Franken', 'Manuel Pereira', 'Karl Jablonski',\n",
       "       'Art Braunschweiger', 'Horst Kloss', 'Giovanni Rovelli',\n",
       "       'Miguel Angel Paolino', 'Alexander Feuer', 'Christina Berglund',\n",
       "       'Renate Messner', 'Alejandra Camino', 'Carlos González',\n",
       "       'Janete Limeira', 'Maurizio Moroni', 'Victoria Ashworth',\n",
       "       'Pedro Afonso', 'Anabela Domingues', 'Patricia McKenna',\n",
       "       'Rita Müller', 'José Pedro Freyre', 'Rene Phillips', 'Fran Wilson',\n",
       "       'Ana Trujillo', 'Liz Nixon', 'Helen Bennett',\n",
       "       'Guillermo Fernández', 'Philip Cramer', 'Jose Pavarotti',\n",
       "       'Martín Sommer', 'Lino Rodriguez', 'Laurence Lebihan',\n",
       "       'Jean Fresnière', 'Isabel de Castro', 'Jytte Petersen',\n",
       "       'Aria Cruz', 'Annette Roulet', 'Georg Pipps', 'Thomas Hardy',\n",
       "       'Hari Kumar', 'Sven Ottlieb', 'Ann Devon', 'Eduardo Saavedra',\n",
       "       'Palle Ibsen', 'Zbyszek Piestrzeniewicz', 'Yoshi Latimer',\n",
       "       'Jonas Bergulfsen', 'Elizabeth Lincoln', 'Felipe Izquierdo',\n",
       "       'Martine Rancé', 'Paolo Accorti', 'André Fonseca',\n",
       "       'Elizabeth Brown', 'Sergio Gutiérrez', 'John Steel',\n",
       "       'Yoshi Tannamuri', 'Hanna Moos', 'Simon Crowther',\n",
       "       'Patricio Simpson', 'Howard Snyder', 'Catherine Dewey',\n",
       "       'Helvetius Nagy', 'Jaime Yorres', 'Matti Karttunen', 'Liu Wong',\n",
       "       'Maria Anders', 'Carine Schmitt', 'Dominique Perrier',\n",
       "       'Daniel Tonini'], dtype=object)"
      ]
     },
     "execution_count": 67,
     "metadata": {},
     "output_type": "execute_result"
    }
   ],
   "source": [
    "# check the names itself\n",
    "df4.contact_name.unique()"
   ]
  },
  {
   "cell_type": "code",
   "execution_count": 68,
   "metadata": {},
   "outputs": [
    {
     "data": {
      "text/html": [
       "<div>\n",
       "<style scoped>\n",
       "    .dataframe tbody tr th:only-of-type {\n",
       "        vertical-align: middle;\n",
       "    }\n",
       "\n",
       "    .dataframe tbody tr th {\n",
       "        vertical-align: top;\n",
       "    }\n",
       "\n",
       "    .dataframe thead th {\n",
       "        text-align: right;\n",
       "    }\n",
       "</style>\n",
       "<table border=\"1\" class=\"dataframe\">\n",
       "  <thead>\n",
       "    <tr style=\"text-align: right;\">\n",
       "      <th></th>\n",
       "      <th>customer_id</th>\n",
       "      <th>contact_name</th>\n",
       "      <th>title</th>\n",
       "      <th>order_id</th>\n",
       "      <th>quantity</th>\n",
       "      <th>unit_price</th>\n",
       "      <th>discount</th>\n",
       "      <th>cat_id</th>\n",
       "      <th>cat_name</th>\n",
       "      <th>gender</th>\n",
       "      <th>spend_gross</th>\n",
       "      <th>spend_net</th>\n",
       "    </tr>\n",
       "  </thead>\n",
       "  <tbody>\n",
       "    <tr>\n",
       "      <th>0</th>\n",
       "      <td>VINET</td>\n",
       "      <td>Paul Henriot</td>\n",
       "      <td>Accounting Manager</td>\n",
       "      <td>10248</td>\n",
       "      <td>12</td>\n",
       "      <td>14.0</td>\n",
       "      <td>0.0</td>\n",
       "      <td>4</td>\n",
       "      <td>Dairy Products</td>\n",
       "      <td>m</td>\n",
       "      <td>168.0</td>\n",
       "      <td>168.0</td>\n",
       "    </tr>\n",
       "    <tr>\n",
       "      <th>1</th>\n",
       "      <td>VINET</td>\n",
       "      <td>Paul Henriot</td>\n",
       "      <td>Accounting Manager</td>\n",
       "      <td>10248</td>\n",
       "      <td>10</td>\n",
       "      <td>9.8</td>\n",
       "      <td>0.0</td>\n",
       "      <td>5</td>\n",
       "      <td>Grains/Cereals</td>\n",
       "      <td>m</td>\n",
       "      <td>98.0</td>\n",
       "      <td>98.0</td>\n",
       "    </tr>\n",
       "    <tr>\n",
       "      <th>2</th>\n",
       "      <td>VINET</td>\n",
       "      <td>Paul Henriot</td>\n",
       "      <td>Accounting Manager</td>\n",
       "      <td>10248</td>\n",
       "      <td>5</td>\n",
       "      <td>34.8</td>\n",
       "      <td>0.0</td>\n",
       "      <td>4</td>\n",
       "      <td>Dairy Products</td>\n",
       "      <td>m</td>\n",
       "      <td>174.0</td>\n",
       "      <td>174.0</td>\n",
       "    </tr>\n",
       "    <tr>\n",
       "      <th>3</th>\n",
       "      <td>TOMSP</td>\n",
       "      <td>Karin Josephs</td>\n",
       "      <td>Marketing Manager</td>\n",
       "      <td>10249</td>\n",
       "      <td>9</td>\n",
       "      <td>18.6</td>\n",
       "      <td>0.0</td>\n",
       "      <td>7</td>\n",
       "      <td>Produce</td>\n",
       "      <td>f</td>\n",
       "      <td>167.4</td>\n",
       "      <td>167.4</td>\n",
       "    </tr>\n",
       "    <tr>\n",
       "      <th>4</th>\n",
       "      <td>TOMSP</td>\n",
       "      <td>Karin Josephs</td>\n",
       "      <td>Marketing Manager</td>\n",
       "      <td>10249</td>\n",
       "      <td>40</td>\n",
       "      <td>42.4</td>\n",
       "      <td>0.0</td>\n",
       "      <td>7</td>\n",
       "      <td>Produce</td>\n",
       "      <td>f</td>\n",
       "      <td>1696.0</td>\n",
       "      <td>1696.0</td>\n",
       "    </tr>\n",
       "  </tbody>\n",
       "</table>\n",
       "</div>"
      ],
      "text/plain": [
       "  customer_id   contact_name               title  order_id  quantity  \\\n",
       "0       VINET   Paul Henriot  Accounting Manager     10248        12   \n",
       "1       VINET   Paul Henriot  Accounting Manager     10248        10   \n",
       "2       VINET   Paul Henriot  Accounting Manager     10248         5   \n",
       "3       TOMSP  Karin Josephs   Marketing Manager     10249         9   \n",
       "4       TOMSP  Karin Josephs   Marketing Manager     10249        40   \n",
       "\n",
       "   unit_price  discount  cat_id        cat_name gender  spend_gross  spend_net  \n",
       "0        14.0       0.0       4  Dairy Products      m        168.0      168.0  \n",
       "1         9.8       0.0       5  Grains/Cereals      m         98.0       98.0  \n",
       "2        34.8       0.0       4  Dairy Products      m        174.0      174.0  \n",
       "3        18.6       0.0       7         Produce      f        167.4      167.4  \n",
       "4        42.4       0.0       7         Produce      f       1696.0     1696.0  "
      ]
     },
     "execution_count": 68,
     "metadata": {},
     "output_type": "execute_result"
    }
   ],
   "source": [
    "# define all male customers:\n",
    "male_names = ['Paul Henriot','Mario Pontes', 'Pascale Cartrain', 'Yang Wang', 'Michael Holz',\n",
    "              'Carlos Hernández', 'Roland Mendel', 'Francisco Chang', 'Bernardo Batista', \n",
    "              'Frédérique Citeaux', 'Pirkko Koskitalo', 'Peter Franken', 'Manuel Pereira', \n",
    "              'Karl Jablonski', 'Art Braunschweiger', 'Horst Kloss', 'Giovanni Rovelli',\n",
    "              'Miguel Angel Paolino', 'Alexander Feuer', 'Carlos González', 'Maurizio Moroni',\n",
    "              'Pedro Afonso', 'José Pedro Freyre', 'Rene Phillips', 'Fran Wilson', 'Guillermo Fernández', \n",
    "              'Philip Cramer', 'Jose Pavarotti','Martín Sommer', 'Lino Rodriguez', 'Laurence Lebihan', \n",
    "              'Jean Fresnière', 'Georg Pipps', 'Thomas Hardy', 'Hari Kumar', 'Sven Ottlieb', \n",
    "              'Eduardo Saavedra', 'Palle Ibsen', 'Zbyszek Piestrzeniewicz', 'Yoshi Latimer', \n",
    "              'Jonas Bergulfsen', 'Felipe Izquierdo', 'Paolo Accorti', 'André Fonseca', 'Sergio Gutiérrez', \n",
    "              'John Steel', 'Yoshi Tannamuri', 'Simon Crowther','Patricio Simpson', 'Howard Snyder', \n",
    "              'Helvetius Nagy', 'Jaime Yorres', 'Matti Karttunen', 'Dominique Perrier', 'Daniel Tonini']\n",
    "\n",
    "# create a new column \"gender\"\n",
    "# when contact name is found in the list of male names, label the gender 'm', else: 'f'\n",
    "df4['gender'] = np.where(df4['contact_name'].isin(male_names), 'm', 'f')\n",
    "\n",
    "# multiplying quantity and unit price to get a column with gross spendings\n",
    "df4['spend_gross'] = np.multiply(df4['quantity'], df4['unit_price'])\n",
    "# subtracting discount to get net spendings\n",
    "df4['spend_net'] = np.subtract(df4['spend_gross'], df4['discount'])\n",
    "\n",
    "df4.head()"
   ]
  },
  {
   "cell_type": "markdown",
   "metadata": {},
   "source": [
    "### 4.2 - Hypothesis"
   ]
  },
  {
   "cell_type": "markdown",
   "metadata": {},
   "source": [
    "**Main effect of factor A (product category)**:\n",
    "> $H_0$: The mean sales are equal for all 8 product categories.\n",
    "<br>$H_1$: The mean sales of at least one product category are different.\n",
    "\n",
    "**Main effect of factor B (gender)**:\n",
    "> $H_0$: The mean sales are equal for both women and men.\n",
    "<br>$H_1$: The mean sales between women and men are different.\n",
    "\n",
    "**Factor A x factor B interactions**:\n",
    "> $H_0$: There is no interaction between product category and gender.\n",
    "<br>$H_1$: There is interaction between product category and gender.\n",
    "\n",
    "I set my significance level: \n",
    "\n",
    "> **$\\alpha$ = 0.05**"
   ]
  },
  {
   "cell_type": "markdown",
   "metadata": {},
   "source": [
    "### 4.3 -  Statistical Analysis"
   ]
  },
  {
   "cell_type": "markdown",
   "metadata": {},
   "source": [
    "### Appropriate Test"
   ]
  },
  {
   "cell_type": "markdown",
   "metadata": {},
   "source": [
    "The **two-way ANOVA** is an extension of the one-way ANOVA that examines the influence of two different categorical independent variables on one continuous dependent variable. The two-way ANOVA not only aims at assessing the main effect of each independent variable but also if there is any interaction between them. \n",
    "\n",
    "The test statistic F follows an **F-Distribution with k-1 degrees of freedom for main effect A, m-1 degrees of freedom for main effect B and (k-1)(m-1) degrees of freedom for the interaction**, with k being the number of groups within factor A and m the number of groups within factor B. \n",
    "\n",
    "Because of the F-Distribution's shape, the significance level is always specified on the right (no one-tailed or two-tailed specification is necessary)."
   ]
  },
  {
   "cell_type": "markdown",
   "metadata": {},
   "source": [
    "### ANOVA Assumptions"
   ]
  },
  {
   "cell_type": "markdown",
   "metadata": {},
   "source": [
    "There are the same 3 assumptions for a two-way ANOVA as for the one-way ANOVA:\n",
    "\n",
    "\n",
    "* **Normality** <br> Caveat to this is, if group sizes are equal, the F-statistic is robust to violations of normality.\n",
    "    \n",
    "* **Homogeneity of variance** <br> Same caveat as above, if group sizes are equal, the F-statistic is robust to this violation.\n",
    "\n",
    "* **Independent observations** <br> Could be assumed."
   ]
  },
  {
   "cell_type": "markdown",
   "metadata": {},
   "source": [
    "### Test Statistic"
   ]
  },
  {
   "cell_type": "code",
   "execution_count": 69,
   "metadata": {},
   "outputs": [
    {
     "name": "stdout",
     "output_type": "stream",
     "text": [
      "Overall model F( 15, 2062) =  4.103, p =  0.0000\n"
     ]
    }
   ],
   "source": [
    "import statsmodels.api as sm\n",
    "from statsmodels.formula.api import ols\n",
    "\n",
    "# Fit the model with the interaction term\n",
    "# This will also automatically include the main effects for each factor\n",
    "model = ols('spend_net ~ C(gender)*C(cat_name)', df4).fit()\n",
    "\n",
    "# Seeing if the OVERALL model is significant\n",
    "print(f\"Overall model F({model.df_model: .0f},{model.df_resid: .0f}) = {model.fvalue: .3f}, p = {model.f_pvalue: .4f}\")"
   ]
  },
  {
   "cell_type": "markdown",
   "metadata": {},
   "source": [
    "Excellent, the **overall model is significant**. \n",
    "\n",
    "Now we need to check the assumptions of the ANOVA.  Statsmodels already provides model diagnostics in the model summary table. The summary table is also going to output information that we don’t necessarily care about coming from the ANOVA framework so we can ignore this and just look at the diagnostic information at the **bottom of the table.**\n",
    "\n",
    "**Assumptions of ANOVA:**"
   ]
  },
  {
   "cell_type": "code",
   "execution_count": 70,
   "metadata": {},
   "outputs": [
    {
     "data": {
      "text/html": [
       "<table class=\"simpletable\">\n",
       "<caption>OLS Regression Results</caption>\n",
       "<tr>\n",
       "  <th>Dep. Variable:</th>        <td>spend_net</td>    <th>  R-squared:         </th> <td>   0.029</td> \n",
       "</tr>\n",
       "<tr>\n",
       "  <th>Model:</th>                   <td>OLS</td>       <th>  Adj. R-squared:    </th> <td>   0.022</td> \n",
       "</tr>\n",
       "<tr>\n",
       "  <th>Method:</th>             <td>Least Squares</td>  <th>  F-statistic:       </th> <td>   4.103</td> \n",
       "</tr>\n",
       "<tr>\n",
       "  <th>Date:</th>             <td>Wed, 05 Dec 2018</td> <th>  Prob (F-statistic):</th> <td>1.82e-07</td> \n",
       "</tr>\n",
       "<tr>\n",
       "  <th>Time:</th>                 <td>11:31:21</td>     <th>  Log-Likelihood:    </th> <td> -17348.</td> \n",
       "</tr>\n",
       "<tr>\n",
       "  <th>No. Observations:</th>      <td>  2078</td>      <th>  AIC:               </th> <td>3.473e+04</td>\n",
       "</tr>\n",
       "<tr>\n",
       "  <th>Df Residuals:</th>          <td>  2062</td>      <th>  BIC:               </th> <td>3.482e+04</td>\n",
       "</tr>\n",
       "<tr>\n",
       "  <th>Df Model:</th>              <td>    15</td>      <th>                     </th>     <td> </td>    \n",
       "</tr>\n",
       "<tr>\n",
       "  <th>Covariance Type:</th>      <td>nonrobust</td>    <th>                     </th>     <td> </td>    \n",
       "</tr>\n",
       "</table>\n",
       "<table class=\"simpletable\">\n",
       "<tr>\n",
       "                        <td></td>                          <th>coef</th>     <th>std err</th>      <th>t</th>      <th>P>|t|</th>  <th>[0.025</th>    <th>0.975]</th>  \n",
       "</tr>\n",
       "<tr>\n",
       "  <th>Intercept</th>                                    <td>  556.2397</td> <td>   87.971</td> <td>    6.323</td> <td> 0.000</td> <td>  383.718</td> <td>  728.761</td>\n",
       "</tr>\n",
       "<tr>\n",
       "  <th>C(gender)[T.m]</th>                               <td>  217.2095</td> <td>  109.082</td> <td>    1.991</td> <td> 0.047</td> <td>    3.287</td> <td>  431.132</td>\n",
       "</tr>\n",
       "<tr>\n",
       "  <th>C(cat_name)[T.Condiments]</th>                    <td> -128.1318</td> <td>  148.851</td> <td>   -0.861</td> <td> 0.389</td> <td> -420.045</td> <td>  163.782</td>\n",
       "</tr>\n",
       "<tr>\n",
       "  <th>C(cat_name)[T.Confections]</th>                   <td>  -55.3333</td> <td>  133.638</td> <td>   -0.414</td> <td> 0.679</td> <td> -317.412</td> <td>  206.745</td>\n",
       "</tr>\n",
       "<tr>\n",
       "  <th>C(cat_name)[T.Dairy Products]</th>                <td>   21.7906</td> <td>  128.490</td> <td>    0.170</td> <td> 0.865</td> <td> -230.193</td> <td>  273.774</td>\n",
       "</tr>\n",
       "<tr>\n",
       "  <th>C(cat_name)[T.Grains/Cereals]</th>                <td> -159.7577</td> <td>  158.998</td> <td>   -1.005</td> <td> 0.315</td> <td> -471.571</td> <td>  152.056</td>\n",
       "</tr>\n",
       "<tr>\n",
       "  <th>C(cat_name)[T.Meat/Poultry]</th>                  <td>  505.2961</td> <td>  161.875</td> <td>    3.122</td> <td> 0.002</td> <td>  187.840</td> <td>  822.752</td>\n",
       "</tr>\n",
       "<tr>\n",
       "  <th>C(cat_name)[T.Produce]</th>                       <td>  206.7118</td> <td>  176.430</td> <td>    1.172</td> <td> 0.241</td> <td> -139.288</td> <td>  552.711</td>\n",
       "</tr>\n",
       "<tr>\n",
       "  <th>C(cat_name)[T.Seafood]</th>                       <td> -184.2509</td> <td>  132.572</td> <td>   -1.390</td> <td> 0.165</td> <td> -444.239</td> <td>   75.737</td>\n",
       "</tr>\n",
       "<tr>\n",
       "  <th>C(gender)[T.m]:C(cat_name)[T.Condiments]</th>     <td>  -61.5961</td> <td>  184.541</td> <td>   -0.334</td> <td> 0.739</td> <td> -423.503</td> <td>  300.311</td>\n",
       "</tr>\n",
       "<tr>\n",
       "  <th>C(gender)[T.m]:C(cat_name)[T.Confections]</th>    <td> -171.9892</td> <td>  163.918</td> <td>   -1.049</td> <td> 0.294</td> <td> -493.452</td> <td>  149.474</td>\n",
       "</tr>\n",
       "<tr>\n",
       "  <th>C(gender)[T.m]:C(cat_name)[T.Dairy Products]</th> <td>  -39.6722</td> <td>  158.889</td> <td>   -0.250</td> <td> 0.803</td> <td> -351.272</td> <td>  271.927</td>\n",
       "</tr>\n",
       "<tr>\n",
       "  <th>C(gender)[T.m]:C(cat_name)[T.Grains/Cereals]</th> <td>  -43.6953</td> <td>  193.743</td> <td>   -0.226</td> <td> 0.822</td> <td> -423.648</td> <td>  336.258</td>\n",
       "</tr>\n",
       "<tr>\n",
       "  <th>C(gender)[T.m]:C(cat_name)[T.Meat/Poultry]</th>   <td> -241.5042</td> <td>  199.614</td> <td>   -1.210</td> <td> 0.226</td> <td> -632.969</td> <td>  149.961</td>\n",
       "</tr>\n",
       "<tr>\n",
       "  <th>C(gender)[T.m]:C(cat_name)[T.Produce]</th>        <td> -191.2754</td> <td>  217.681</td> <td>   -0.879</td> <td> 0.380</td> <td> -618.174</td> <td>  235.623</td>\n",
       "</tr>\n",
       "<tr>\n",
       "  <th>C(gender)[T.m]:C(cat_name)[T.Seafood]</th>        <td> -119.8162</td> <td>  163.401</td> <td>   -0.733</td> <td> 0.463</td> <td> -440.264</td> <td>  200.632</td>\n",
       "</tr>\n",
       "</table>\n",
       "<table class=\"simpletable\">\n",
       "<tr>\n",
       "  <th>Omnibus:</th>       <td>2623.054</td> <th>  Durbin-Watson:     </th>  <td>   1.910</td> \n",
       "</tr>\n",
       "<tr>\n",
       "  <th>Prob(Omnibus):</th>  <td> 0.000</td>  <th>  Jarque-Bera (JB):  </th> <td>441065.134</td>\n",
       "</tr>\n",
       "<tr>\n",
       "  <th>Skew:</th>           <td> 6.748</td>  <th>  Prob(JB):          </th>  <td>    0.00</td> \n",
       "</tr>\n",
       "<tr>\n",
       "  <th>Kurtosis:</th>       <td>73.085</td>  <th>  Cond. No.          </th>  <td>    24.0</td> \n",
       "</tr>\n",
       "</table><br/><br/>Warnings:<br/>[1] Standard Errors assume that the covariance matrix of the errors is correctly specified."
      ],
      "text/plain": [
       "<class 'statsmodels.iolib.summary.Summary'>\n",
       "\"\"\"\n",
       "                            OLS Regression Results                            \n",
       "==============================================================================\n",
       "Dep. Variable:              spend_net   R-squared:                       0.029\n",
       "Model:                            OLS   Adj. R-squared:                  0.022\n",
       "Method:                 Least Squares   F-statistic:                     4.103\n",
       "Date:                Wed, 05 Dec 2018   Prob (F-statistic):           1.82e-07\n",
       "Time:                        11:31:21   Log-Likelihood:                -17348.\n",
       "No. Observations:                2078   AIC:                         3.473e+04\n",
       "Df Residuals:                    2062   BIC:                         3.482e+04\n",
       "Df Model:                          15                                         \n",
       "Covariance Type:            nonrobust                                         \n",
       "================================================================================================================\n",
       "                                                   coef    std err          t      P>|t|      [0.025      0.975]\n",
       "----------------------------------------------------------------------------------------------------------------\n",
       "Intercept                                      556.2397     87.971      6.323      0.000     383.718     728.761\n",
       "C(gender)[T.m]                                 217.2095    109.082      1.991      0.047       3.287     431.132\n",
       "C(cat_name)[T.Condiments]                     -128.1318    148.851     -0.861      0.389    -420.045     163.782\n",
       "C(cat_name)[T.Confections]                     -55.3333    133.638     -0.414      0.679    -317.412     206.745\n",
       "C(cat_name)[T.Dairy Products]                   21.7906    128.490      0.170      0.865    -230.193     273.774\n",
       "C(cat_name)[T.Grains/Cereals]                 -159.7577    158.998     -1.005      0.315    -471.571     152.056\n",
       "C(cat_name)[T.Meat/Poultry]                    505.2961    161.875      3.122      0.002     187.840     822.752\n",
       "C(cat_name)[T.Produce]                         206.7118    176.430      1.172      0.241    -139.288     552.711\n",
       "C(cat_name)[T.Seafood]                        -184.2509    132.572     -1.390      0.165    -444.239      75.737\n",
       "C(gender)[T.m]:C(cat_name)[T.Condiments]       -61.5961    184.541     -0.334      0.739    -423.503     300.311\n",
       "C(gender)[T.m]:C(cat_name)[T.Confections]     -171.9892    163.918     -1.049      0.294    -493.452     149.474\n",
       "C(gender)[T.m]:C(cat_name)[T.Dairy Products]   -39.6722    158.889     -0.250      0.803    -351.272     271.927\n",
       "C(gender)[T.m]:C(cat_name)[T.Grains/Cereals]   -43.6953    193.743     -0.226      0.822    -423.648     336.258\n",
       "C(gender)[T.m]:C(cat_name)[T.Meat/Poultry]    -241.5042    199.614     -1.210      0.226    -632.969     149.961\n",
       "C(gender)[T.m]:C(cat_name)[T.Produce]         -191.2754    217.681     -0.879      0.380    -618.174     235.623\n",
       "C(gender)[T.m]:C(cat_name)[T.Seafood]         -119.8162    163.401     -0.733      0.463    -440.264     200.632\n",
       "==============================================================================\n",
       "Omnibus:                     2623.054   Durbin-Watson:                   1.910\n",
       "Prob(Omnibus):                  0.000   Jarque-Bera (JB):           441065.134\n",
       "Skew:                           6.748   Prob(JB):                         0.00\n",
       "Kurtosis:                      73.085   Cond. No.                         24.0\n",
       "==============================================================================\n",
       "\n",
       "Warnings:\n",
       "[1] Standard Errors assume that the covariance matrix of the errors is correctly specified.\n",
       "\"\"\""
      ]
     },
     "execution_count": 70,
     "metadata": {},
     "output_type": "execute_result"
    }
   ],
   "source": [
    "model.summary()"
   ]
  },
  {
   "cell_type": "markdown",
   "metadata": {},
   "source": [
    "Jarque-Bera tests the **assumption of normality**: <br>\n",
    "-->  The result is not statistically significant which indicates that the **residuals are normally distributed**.\n",
    "\n",
    "Omnibus tests the **assumption of homogeneity of variance**: <br> \n",
    "--> The result is not statistically significant which indicates that the **groups have equal variances**."
   ]
  },
  {
   "cell_type": "code",
   "execution_count": 71,
   "metadata": {},
   "outputs": [
    {
     "data": {
      "text/html": [
       "<div>\n",
       "<style scoped>\n",
       "    .dataframe tbody tr th:only-of-type {\n",
       "        vertical-align: middle;\n",
       "    }\n",
       "\n",
       "    .dataframe tbody tr th {\n",
       "        vertical-align: top;\n",
       "    }\n",
       "\n",
       "    .dataframe thead th {\n",
       "        text-align: right;\n",
       "    }\n",
       "</style>\n",
       "<table border=\"1\" class=\"dataframe\">\n",
       "  <thead>\n",
       "    <tr style=\"text-align: right;\">\n",
       "      <th></th>\n",
       "      <th>sum_sq</th>\n",
       "      <th>df</th>\n",
       "      <th>F</th>\n",
       "      <th>PR(&gt;F)</th>\n",
       "    </tr>\n",
       "  </thead>\n",
       "  <tbody>\n",
       "    <tr>\n",
       "      <th>C(gender)</th>\n",
       "      <td>7.162728e+06</td>\n",
       "      <td>1.0</td>\n",
       "      <td>6.805508</td>\n",
       "      <td>9.153366e-03</td>\n",
       "    </tr>\n",
       "    <tr>\n",
       "      <th>C(cat_name)</th>\n",
       "      <td>5.521224e+07</td>\n",
       "      <td>7.0</td>\n",
       "      <td>7.494099</td>\n",
       "      <td>6.206935e-09</td>\n",
       "    </tr>\n",
       "    <tr>\n",
       "      <th>C(gender):C(cat_name)</th>\n",
       "      <td>2.742717e+06</td>\n",
       "      <td>7.0</td>\n",
       "      <td>0.372276</td>\n",
       "      <td>9.187916e-01</td>\n",
       "    </tr>\n",
       "    <tr>\n",
       "      <th>Residual</th>\n",
       "      <td>2.170234e+09</td>\n",
       "      <td>2062.0</td>\n",
       "      <td>NaN</td>\n",
       "      <td>NaN</td>\n",
       "    </tr>\n",
       "  </tbody>\n",
       "</table>\n",
       "</div>"
      ],
      "text/plain": [
       "                             sum_sq      df         F        PR(>F)\n",
       "C(gender)              7.162728e+06     1.0  6.805508  9.153366e-03\n",
       "C(cat_name)            5.521224e+07     7.0  7.494099  6.206935e-09\n",
       "C(gender):C(cat_name)  2.742717e+06     7.0  0.372276  9.187916e-01\n",
       "Residual               2.170234e+09  2062.0       NaN           NaN"
      ]
     },
     "execution_count": 71,
     "metadata": {},
     "output_type": "execute_result"
    }
   ],
   "source": [
    "# Creating the ANOVA table\n",
    "result = sm.stats.anova_lm(model, typ=2)\n",
    "result"
   ]
  },
  {
   "cell_type": "markdown",
   "metadata": {},
   "source": [
    "The **interaction term is not significant (p = 0.918)**. \n",
    "\n",
    "This indicates that there is **no interaction effect between the gender and the product category** on the mean spending. \n",
    "\n",
    "That is why the interaction term will be removed from the model and the model needs to be re-ran so we can look at the main effects of each factor independently."
   ]
  },
  {
   "cell_type": "code",
   "execution_count": 72,
   "metadata": {},
   "outputs": [
    {
     "name": "stdout",
     "output_type": "stream",
     "text": [
      "Overall model F( 8, 2069) =  7.382, p =  0.0000\n"
     ]
    }
   ],
   "source": [
    "# Fit the model again\n",
    "model2 = ols('spend_net ~ C(gender) + C(cat_name)', df4).fit()\n",
    "\n",
    "print(f\"Overall model F({model2.df_model: .0f},{model2.df_resid: .0f}) = {model2.fvalue: .3f}, p = {model2.f_pvalue: .4f}\")"
   ]
  },
  {
   "cell_type": "markdown",
   "metadata": {},
   "source": [
    "Excellent, the **model is still significant**. \n",
    "\n",
    "Again, let’s look at the model’s summary table **to check the assumptions:**"
   ]
  },
  {
   "cell_type": "code",
   "execution_count": 73,
   "metadata": {},
   "outputs": [
    {
     "data": {
      "text/html": [
       "<table class=\"simpletable\">\n",
       "<caption>OLS Regression Results</caption>\n",
       "<tr>\n",
       "  <th>Dep. Variable:</th>        <td>spend_net</td>    <th>  R-squared:         </th> <td>   0.028</td> \n",
       "</tr>\n",
       "<tr>\n",
       "  <th>Model:</th>                   <td>OLS</td>       <th>  Adj. R-squared:    </th> <td>   0.024</td> \n",
       "</tr>\n",
       "<tr>\n",
       "  <th>Method:</th>             <td>Least Squares</td>  <th>  F-statistic:       </th> <td>   7.382</td> \n",
       "</tr>\n",
       "<tr>\n",
       "  <th>Date:</th>             <td>Wed, 05 Dec 2018</td> <th>  Prob (F-statistic):</th> <td>9.97e-10</td> \n",
       "</tr>\n",
       "<tr>\n",
       "  <th>Time:</th>                 <td>11:31:22</td>     <th>  Log-Likelihood:    </th> <td> -17349.</td> \n",
       "</tr>\n",
       "<tr>\n",
       "  <th>No. Observations:</th>      <td>  2078</td>      <th>  AIC:               </th> <td>3.472e+04</td>\n",
       "</tr>\n",
       "<tr>\n",
       "  <th>Df Residuals:</th>          <td>  2069</td>      <th>  BIC:               </th> <td>3.477e+04</td>\n",
       "</tr>\n",
       "<tr>\n",
       "  <th>Df Model:</th>              <td>     8</td>      <th>                     </th>     <td> </td>    \n",
       "</tr>\n",
       "<tr>\n",
       "  <th>Covariance Type:</th>      <td>nonrobust</td>    <th>                     </th>     <td> </td>    \n",
       "</tr>\n",
       "</table>\n",
       "<table class=\"simpletable\">\n",
       "<tr>\n",
       "                <td></td>                   <th>coef</th>     <th>std err</th>      <th>t</th>      <th>P>|t|</th>  <th>[0.025</th>    <th>0.975]</th>  \n",
       "</tr>\n",
       "<tr>\n",
       "  <th>Intercept</th>                     <td>  616.7544</td> <td>   60.466</td> <td>   10.200</td> <td> 0.000</td> <td>  498.174</td> <td>  735.334</td>\n",
       "</tr>\n",
       "<tr>\n",
       "  <th>C(gender)[T.m]</th>                <td>  124.1652</td> <td>   47.545</td> <td>    2.612</td> <td> 0.009</td> <td>   30.924</td> <td>  217.407</td>\n",
       "</tr>\n",
       "<tr>\n",
       "  <th>C(cat_name)[T.Condiments]</th>     <td> -168.1825</td> <td>   87.892</td> <td>   -1.914</td> <td> 0.056</td> <td> -340.549</td> <td>    4.184</td>\n",
       "</tr>\n",
       "<tr>\n",
       "  <th>C(cat_name)[T.Confections]</th>    <td> -169.2157</td> <td>   77.286</td> <td>   -2.189</td> <td> 0.029</td> <td> -320.783</td> <td>  -17.648</td>\n",
       "</tr>\n",
       "<tr>\n",
       "  <th>C(cat_name)[T.Dairy Products]</th> <td>   -3.6510</td> <td>   75.503</td> <td>   -0.048</td> <td> 0.961</td> <td> -151.721</td> <td>  144.419</td>\n",
       "</tr>\n",
       "<tr>\n",
       "  <th>C(cat_name)[T.Grains/Cereals]</th> <td> -186.5073</td> <td>   90.720</td> <td>   -2.056</td> <td> 0.040</td> <td> -364.419</td> <td>   -8.595</td>\n",
       "</tr>\n",
       "<tr>\n",
       "  <th>C(cat_name)[T.Meat/Poultry]</th>   <td>  346.6918</td> <td>   94.613</td> <td>    3.664</td> <td> 0.000</td> <td>  161.145</td> <td>  532.239</td>\n",
       "</tr>\n",
       "<tr>\n",
       "  <th>C(cat_name)[T.Produce]</th>        <td>   81.4539</td> <td>  103.230</td> <td>    0.789</td> <td> 0.430</td> <td> -120.992</td> <td>  283.900</td>\n",
       "</tr>\n",
       "<tr>\n",
       "  <th>C(cat_name)[T.Seafood]</th>        <td> -262.5576</td> <td>   77.412</td> <td>   -3.392</td> <td> 0.001</td> <td> -414.372</td> <td> -110.743</td>\n",
       "</tr>\n",
       "</table>\n",
       "<table class=\"simpletable\">\n",
       "<tr>\n",
       "  <th>Omnibus:</th>       <td>2627.951</td> <th>  Durbin-Watson:     </th>  <td>   1.905</td> \n",
       "</tr>\n",
       "<tr>\n",
       "  <th>Prob(Omnibus):</th>  <td> 0.000</td>  <th>  Jarque-Bera (JB):  </th> <td>444949.498</td>\n",
       "</tr>\n",
       "<tr>\n",
       "  <th>Skew:</th>           <td> 6.769</td>  <th>  Prob(JB):          </th>  <td>    0.00</td> \n",
       "</tr>\n",
       "<tr>\n",
       "  <th>Kurtosis:</th>       <td>73.397</td>  <th>  Cond. No.          </th>  <td>    9.15</td> \n",
       "</tr>\n",
       "</table><br/><br/>Warnings:<br/>[1] Standard Errors assume that the covariance matrix of the errors is correctly specified."
      ],
      "text/plain": [
       "<class 'statsmodels.iolib.summary.Summary'>\n",
       "\"\"\"\n",
       "                            OLS Regression Results                            \n",
       "==============================================================================\n",
       "Dep. Variable:              spend_net   R-squared:                       0.028\n",
       "Model:                            OLS   Adj. R-squared:                  0.024\n",
       "Method:                 Least Squares   F-statistic:                     7.382\n",
       "Date:                Wed, 05 Dec 2018   Prob (F-statistic):           9.97e-10\n",
       "Time:                        11:31:22   Log-Likelihood:                -17349.\n",
       "No. Observations:                2078   AIC:                         3.472e+04\n",
       "Df Residuals:                    2069   BIC:                         3.477e+04\n",
       "Df Model:                           8                                         \n",
       "Covariance Type:            nonrobust                                         \n",
       "=================================================================================================\n",
       "                                    coef    std err          t      P>|t|      [0.025      0.975]\n",
       "-------------------------------------------------------------------------------------------------\n",
       "Intercept                       616.7544     60.466     10.200      0.000     498.174     735.334\n",
       "C(gender)[T.m]                  124.1652     47.545      2.612      0.009      30.924     217.407\n",
       "C(cat_name)[T.Condiments]      -168.1825     87.892     -1.914      0.056    -340.549       4.184\n",
       "C(cat_name)[T.Confections]     -169.2157     77.286     -2.189      0.029    -320.783     -17.648\n",
       "C(cat_name)[T.Dairy Products]    -3.6510     75.503     -0.048      0.961    -151.721     144.419\n",
       "C(cat_name)[T.Grains/Cereals]  -186.5073     90.720     -2.056      0.040    -364.419      -8.595\n",
       "C(cat_name)[T.Meat/Poultry]     346.6918     94.613      3.664      0.000     161.145     532.239\n",
       "C(cat_name)[T.Produce]           81.4539    103.230      0.789      0.430    -120.992     283.900\n",
       "C(cat_name)[T.Seafood]         -262.5576     77.412     -3.392      0.001    -414.372    -110.743\n",
       "==============================================================================\n",
       "Omnibus:                     2627.951   Durbin-Watson:                   1.905\n",
       "Prob(Omnibus):                  0.000   Jarque-Bera (JB):           444949.498\n",
       "Skew:                           6.769   Prob(JB):                         0.00\n",
       "Kurtosis:                      73.397   Cond. No.                         9.15\n",
       "==============================================================================\n",
       "\n",
       "Warnings:\n",
       "[1] Standard Errors assume that the covariance matrix of the errors is correctly specified.\n",
       "\"\"\""
      ]
     },
     "execution_count": 73,
     "metadata": {},
     "output_type": "execute_result"
    }
   ],
   "source": [
    "model2.summary()"
   ]
  },
  {
   "cell_type": "markdown",
   "metadata": {},
   "source": [
    "--> Just as with before, the model without the interaction term **passes both assumption of normality and homogeneity of variance** check: Jarque-Bera is not statistically significant, neither is Omnibus."
   ]
  },
  {
   "cell_type": "code",
   "execution_count": 74,
   "metadata": {},
   "outputs": [
    {
     "data": {
      "text/html": [
       "<div>\n",
       "<style scoped>\n",
       "    .dataframe tbody tr th:only-of-type {\n",
       "        vertical-align: middle;\n",
       "    }\n",
       "\n",
       "    .dataframe tbody tr th {\n",
       "        vertical-align: top;\n",
       "    }\n",
       "\n",
       "    .dataframe thead th {\n",
       "        text-align: right;\n",
       "    }\n",
       "</style>\n",
       "<table border=\"1\" class=\"dataframe\">\n",
       "  <thead>\n",
       "    <tr style=\"text-align: right;\">\n",
       "      <th></th>\n",
       "      <th>sum_sq</th>\n",
       "      <th>df</th>\n",
       "      <th>F</th>\n",
       "      <th>PR(&gt;F)</th>\n",
       "    </tr>\n",
       "  </thead>\n",
       "  <tbody>\n",
       "    <tr>\n",
       "      <th>C(gender)</th>\n",
       "      <td>7.162728e+06</td>\n",
       "      <td>1.0</td>\n",
       "      <td>6.819992</td>\n",
       "      <td>9.079449e-03</td>\n",
       "    </tr>\n",
       "    <tr>\n",
       "      <th>C(cat_name)</th>\n",
       "      <td>5.521224e+07</td>\n",
       "      <td>7.0</td>\n",
       "      <td>7.510049</td>\n",
       "      <td>5.902098e-09</td>\n",
       "    </tr>\n",
       "    <tr>\n",
       "      <th>Residual</th>\n",
       "      <td>2.172977e+09</td>\n",
       "      <td>2069.0</td>\n",
       "      <td>NaN</td>\n",
       "      <td>NaN</td>\n",
       "    </tr>\n",
       "  </tbody>\n",
       "</table>\n",
       "</div>"
      ],
      "text/plain": [
       "                   sum_sq      df         F        PR(>F)\n",
       "C(gender)    7.162728e+06     1.0  6.819992  9.079449e-03\n",
       "C(cat_name)  5.521224e+07     7.0  7.510049  5.902098e-09\n",
       "Residual     2.172977e+09  2069.0       NaN           NaN"
      ]
     },
     "execution_count": 74,
     "metadata": {},
     "output_type": "execute_result"
    }
   ],
   "source": [
    "# Create the ANOVA table\n",
    "result2 = sm.stats.anova_lm(model2, typ=2)\n",
    "result2"
   ]
  },
  {
   "cell_type": "markdown",
   "metadata": {},
   "source": [
    "**Each factor**, gender and product category, **has an independent significant effect on the mean net expenditures.**"
   ]
  },
  {
   "cell_type": "markdown",
   "metadata": {},
   "source": [
    "### Effect Size"
   ]
  },
  {
   "cell_type": "code",
   "execution_count": 75,
   "metadata": {},
   "outputs": [
    {
     "data": {
      "text/html": [
       "<div>\n",
       "<style scoped>\n",
       "    .dataframe tbody tr th:only-of-type {\n",
       "        vertical-align: middle;\n",
       "    }\n",
       "\n",
       "    .dataframe tbody tr th {\n",
       "        vertical-align: top;\n",
       "    }\n",
       "\n",
       "    .dataframe thead th {\n",
       "        text-align: right;\n",
       "    }\n",
       "</style>\n",
       "<table border=\"1\" class=\"dataframe\">\n",
       "  <thead>\n",
       "    <tr style=\"text-align: right;\">\n",
       "      <th></th>\n",
       "      <th>sum_sq</th>\n",
       "      <th>df</th>\n",
       "      <th>F</th>\n",
       "      <th>PR(&gt;F)</th>\n",
       "      <th>mean_sq</th>\n",
       "      <th>eta_sq</th>\n",
       "      <th>omega_sq</th>\n",
       "    </tr>\n",
       "  </thead>\n",
       "  <tbody>\n",
       "    <tr>\n",
       "      <th>C(gender)</th>\n",
       "      <td>7.162728e+06</td>\n",
       "      <td>1.0</td>\n",
       "      <td>6.819992</td>\n",
       "      <td>9.079449e-03</td>\n",
       "      <td>7.162728e+06</td>\n",
       "      <td>0.003204</td>\n",
       "      <td>0.002733</td>\n",
       "    </tr>\n",
       "    <tr>\n",
       "      <th>C(cat_name)</th>\n",
       "      <td>5.521224e+07</td>\n",
       "      <td>7.0</td>\n",
       "      <td>7.510049</td>\n",
       "      <td>5.902098e-09</td>\n",
       "      <td>7.887463e+06</td>\n",
       "      <td>0.024700</td>\n",
       "      <td>0.021401</td>\n",
       "    </tr>\n",
       "    <tr>\n",
       "      <th>Residual</th>\n",
       "      <td>2.172977e+09</td>\n",
       "      <td>2069.0</td>\n",
       "      <td>NaN</td>\n",
       "      <td>NaN</td>\n",
       "      <td>1.050255e+06</td>\n",
       "      <td>NaN</td>\n",
       "      <td>NaN</td>\n",
       "    </tr>\n",
       "  </tbody>\n",
       "</table>\n",
       "</div>"
      ],
      "text/plain": [
       "                   sum_sq      df         F        PR(>F)       mean_sq  \\\n",
       "C(gender)    7.162728e+06     1.0  6.819992  9.079449e-03  7.162728e+06   \n",
       "C(cat_name)  5.521224e+07     7.0  7.510049  5.902098e-09  7.887463e+06   \n",
       "Residual     2.172977e+09  2069.0       NaN           NaN  1.050255e+06   \n",
       "\n",
       "               eta_sq  omega_sq  \n",
       "C(gender)    0.003204  0.002733  \n",
       "C(cat_name)  0.024700  0.021401  \n",
       "Residual          NaN       NaN  "
      ]
     },
     "execution_count": 75,
     "metadata": {},
     "output_type": "execute_result"
    }
   ],
   "source": [
    "# use effect size function again to get eta-squared (η2) and omega-squared (ω2)\n",
    "anova_effect_size(result2)"
   ]
  },
  {
   "cell_type": "markdown",
   "metadata": {},
   "source": [
    "Each factor, gender and product category, has only a **small effect** on the mean net spending."
   ]
  },
  {
   "cell_type": "markdown",
   "metadata": {},
   "source": [
    "### Post-hoc Testing\n",
    "\n",
    "To find the difference between groups of factors, I use Tukey’s HSD where I have to test for difference for each factor separately:"
   ]
  },
  {
   "cell_type": "code",
   "execution_count": 76,
   "metadata": {},
   "outputs": [
    {
     "name": "stdout",
     "output_type": "stream",
     "text": [
      "\n",
      " Multiple Comparison of Means - Tukey HSD,FWER=0.05\n",
      "==============================================\n",
      "group1 group2 meandiff  lower   upper   reject\n",
      "----------------------------------------------\n",
      "  f      m    121.0616 26.8273 215.2958  True \n",
      "----------------------------------------------\n"
     ]
    }
   ],
   "source": [
    "import statsmodels.stats.multicomp\n",
    "\n",
    "# for comparing the gender with only 2 categories, we use the table \n",
    "mc = statsmodels.stats.multicomp.MultiComparison(df4['spend_net'], df4['gender'])\n",
    "mc_results = mc.tukeyhsd()\n",
    "print('\\n', mc_results)"
   ]
  },
  {
   "cell_type": "markdown",
   "metadata": {},
   "source": [
    "*Explanation:*\n",
    "* The meandiff column is the difference in means of the two groups being calculated as **group2 – group1**.\n",
    "* The lower/upper columns are the lower/upper boundaries of the 95% confidence interval.\n",
    "* And the reject column states whether or not the null hypothesis should be rejected.\n",
    "\n",
    "There is a statistically significant difference in the mean net spending between women and men: **men spend significantly more than women**."
   ]
  },
  {
   "cell_type": "code",
   "execution_count": 77,
   "metadata": {
    "scrolled": false
   },
   "outputs": [],
   "source": [
    "# for comparing the product categories, we use visualizations\n",
    "mc = statsmodels.stats.multicomp.MultiComparison(df4['spend_net'], df4['cat_name'])\n",
    "mc_results = mc.tukeyhsd()"
   ]
  },
  {
   "cell_type": "code",
   "execution_count": 78,
   "metadata": {},
   "outputs": [
    {
     "data": {
      "image/png": "[encoded data removed]",
      "text/plain": [
       "<Figure size 432x288 with 1 Axes>"
      ]
     },
     "metadata": {
      "needs_background": "light"
     },
     "output_type": "display_data"
    }
   ],
   "source": [
    "# let's compare all levels with Meat/Poultry (blue)\n",
    "# all groups that are significantly different are color coded red, all insignificant groups gray\n",
    "mc_results.plot_simultaneous(comparison_name='Meat/Poultry', figsize=(6,4));"
   ]
  },
  {
   "cell_type": "code",
   "execution_count": 79,
   "metadata": {
    "scrolled": true
   },
   "outputs": [
    {
     "data": {
      "image/png": "[encoded data removed]",
      "text/plain": [
       "<Figure size 432x288 with 1 Axes>"
      ]
     },
     "metadata": {
      "needs_background": "light"
     },
     "output_type": "display_data"
    }
   ],
   "source": [
    "# let's compare all levels with Produce (blue)\n",
    "# all groups that are significantly different are color coded red, all insignificant groups gray\n",
    "mc_results.plot_simultaneous(comparison_name='Produce', figsize=(6,4));"
   ]
  },
  {
   "cell_type": "code",
   "execution_count": 80,
   "metadata": {},
   "outputs": [
    {
     "data": {
      "image/png": "[encoded data removed]",
      "text/plain": [
       "<Figure size 432x288 with 1 Axes>"
      ]
     },
     "metadata": {
      "needs_background": "light"
     },
     "output_type": "display_data"
    }
   ],
   "source": [
    "# let's compare all levels with Dairy Products (blue)\n",
    "# all groups that are significantly different are color coded red, all insignificant groups gray\n",
    "mc_results.plot_simultaneous(comparison_name='Dairy Products', figsize=(6,4));"
   ]
  },
  {
   "cell_type": "code",
   "execution_count": 81,
   "metadata": {},
   "outputs": [
    {
     "data": {
      "image/png": "[encoded data removed]",
      "text/plain": [
       "<Figure size 432x288 with 1 Axes>"
      ]
     },
     "metadata": {
      "needs_background": "light"
     },
     "output_type": "display_data"
    }
   ],
   "source": [
    "# let's compare all levels with Beverages (blue)\n",
    "# all groups that are significantly different are color coded red, all insignificant groups gray\n",
    "mc_results.plot_simultaneous(comparison_name='Beverages', figsize=(6,4));"
   ]
  },
  {
   "cell_type": "code",
   "execution_count": 82,
   "metadata": {},
   "outputs": [
    {
     "data": {
      "image/png": "[encoded data removed]",
      "text/plain": [
       "<Figure size 432x288 with 1 Axes>"
      ]
     },
     "metadata": {
      "needs_background": "light"
     },
     "output_type": "display_data"
    }
   ],
   "source": [
    "# let's compare all levels with Seafood (blue)\n",
    "# all groups that are significantly different are color coded red, all insignificant groups gray\n",
    "mc_results.plot_simultaneous(comparison_name='Seafood', figsize=(6,4));"
   ]
  },
  {
   "cell_type": "markdown",
   "metadata": {},
   "source": [
    "Meat and poultry gain the highest spending."
   ]
  },
  {
   "cell_type": "markdown",
   "metadata": {},
   "source": [
    "### 4.4 - Conclusions"
   ]
  },
  {
   "cell_type": "markdown",
   "metadata": {},
   "source": [
    "**A two-way ANOVA on an $\\alpha$ = 0.05 was conducted to analyze the effect of gender and product category on net spending:**\n",
    "\n",
    "* **Each factor**, gender and product category, has a **statistically highly significant effect** on the mean net expenditures: for gender with a p = 9.079449e-03 and for product category with a p = 5.902098e-09.\n",
    "\n",
    "* The interaction term, though, was not significant (p = 0.918), indicating **no interaction effect** between gender and product category on mean expenditures. \n",
    "\n",
    "* Therefore I may partly reject the null hypothesis in support of the alternative: The mean spending between women and men are different. So are the mean spending for some of the product categories. Concerning the interaction effect, I support the null hypothesis.\n",
    "\n",
    "* Post-hoc testing revealed interesting details in which groups actually differ: 1. Men spend significantly more than women. 2. Meat and poultry outperform most of the other product categories.\n",
    "\n",
    "* However, the effect size is only small pointing to a **low practical significance**.\n",
    "\n",
    "* My $\\alpha$ = 0.05 effectively is the probability that I mistakenly reject the null hypothesis when it is actually true. This is called the \"Type 1 Error\". <br> With 5% I accept only a very small probability for Type 1 Error. The opposite is the \"Type 2 Error\" where I may mistakenly support the null hypothesis when the alternative is actually true.\n",
    "\n",
    "**The results may be used to perhaps focus more on a male target group or draft marketing strategies to lift women's spending. Besides, the shop may also consider to diversify meat and poultry offers.**"
   ]
  },
  {
   "cell_type": "markdown",
   "metadata": {},
   "source": [
    "## 5. Question: Different Volumes of Suppliers"
   ]
  },
  {
   "cell_type": "markdown",
   "metadata": {},
   "source": [
    "> After analyzing so far 4 ideas to generate more money, now comes one that might help saving costs: <br> Are each shipping company's share in one region according to its overall share, i.e. is there no specific relationship between shipping company and region? <br> If not, may each shipper increasingly provided with higher volumes and/or freights in regions he already has an outstanding share - for the \"admission fee\" of sinking shipping costs?"
   ]
  },
  {
   "cell_type": "markdown",
   "metadata": {},
   "source": [
    "### 5.1 - Exploratory Research"
   ]
  },
  {
   "cell_type": "code",
   "execution_count": 83,
   "metadata": {
    "scrolled": true
   },
   "outputs": [
    {
     "name": "stdout",
     "output_type": "stream",
     "text": [
      "Table Name: Shipper\n",
      "\n",
      "Name: Id \t Type: INTEGER\n",
      "Name: CompanyName \t Type: VARCHAR(8000)\n",
      "Name: Phone \t Type: VARCHAR(8000)\n"
     ]
    }
   ],
   "source": [
    "get_columns_info('Shipper')"
   ]
  },
  {
   "cell_type": "code",
   "execution_count": 84,
   "metadata": {},
   "outputs": [],
   "source": [
    "# joining \"Order\" and \"Shipper\" tables using the pd.read_sql_query() method\n",
    "df5 = pd.read_sql_query('''SELECT * \n",
    "                            FROM [Order] o\n",
    "                            JOIN Shipper s ON s.Id = o.ShipVia;''', engine)"
   ]
  },
  {
   "cell_type": "code",
   "execution_count": 85,
   "metadata": {},
   "outputs": [
    {
     "name": "stdout",
     "output_type": "stream",
     "text": [
      "1. Rows and Columns:\n",
      "(830, 17)\n",
      "...............................\n",
      "\n",
      "2. Info:\n",
      "<class 'pandas.core.frame.DataFrame'>\n",
      "RangeIndex: 830 entries, 0 to 829\n",
      "Data columns (total 17 columns):\n",
      "Id                830 non-null int64\n",
      "CustomerId        830 non-null object\n",
      "EmployeeId        830 non-null int64\n",
      "OrderDate         830 non-null object\n",
      "RequiredDate      830 non-null object\n",
      "ShippedDate       809 non-null object\n",
      "ShipVia           830 non-null int64\n",
      "Freight           830 non-null float64\n",
      "ShipName          830 non-null object\n",
      "ShipAddress       830 non-null object\n",
      "ShipCity          830 non-null object\n",
      "ShipRegion        830 non-null object\n",
      "ShipPostalCode    811 non-null object\n",
      "ShipCountry       830 non-null object\n",
      "Id                830 non-null int64\n",
      "CompanyName       830 non-null object\n",
      "Phone             830 non-null object\n",
      "dtypes: float64(1), int64(4), object(12)\n",
      "memory usage: 110.3+ KB\n",
      "None\n",
      "...............................\n",
      "\n",
      "3. Dataframe:\n"
     ]
    },
    {
     "data": {
      "text/html": [
       "<div>\n",
       "<style scoped>\n",
       "    .dataframe tbody tr th:only-of-type {\n",
       "        vertical-align: middle;\n",
       "    }\n",
       "\n",
       "    .dataframe tbody tr th {\n",
       "        vertical-align: top;\n",
       "    }\n",
       "\n",
       "    .dataframe thead th {\n",
       "        text-align: right;\n",
       "    }\n",
       "</style>\n",
       "<table border=\"1\" class=\"dataframe\">\n",
       "  <thead>\n",
       "    <tr style=\"text-align: right;\">\n",
       "      <th></th>\n",
       "      <th>Id</th>\n",
       "      <th>CustomerId</th>\n",
       "      <th>EmployeeId</th>\n",
       "      <th>OrderDate</th>\n",
       "      <th>RequiredDate</th>\n",
       "      <th>ShippedDate</th>\n",
       "      <th>ShipVia</th>\n",
       "      <th>Freight</th>\n",
       "      <th>ShipName</th>\n",
       "      <th>ShipAddress</th>\n",
       "      <th>ShipCity</th>\n",
       "      <th>ShipRegion</th>\n",
       "      <th>ShipPostalCode</th>\n",
       "      <th>ShipCountry</th>\n",
       "      <th>Id</th>\n",
       "      <th>CompanyName</th>\n",
       "      <th>Phone</th>\n",
       "    </tr>\n",
       "  </thead>\n",
       "  <tbody>\n",
       "    <tr>\n",
       "      <th>0</th>\n",
       "      <td>10248</td>\n",
       "      <td>VINET</td>\n",
       "      <td>5</td>\n",
       "      <td>2012-07-04</td>\n",
       "      <td>2012-08-01</td>\n",
       "      <td>2012-07-16</td>\n",
       "      <td>3</td>\n",
       "      <td>32.38</td>\n",
       "      <td>Vins et alcools Chevalier</td>\n",
       "      <td>59 rue de l'Abbaye</td>\n",
       "      <td>Reims</td>\n",
       "      <td>Western Europe</td>\n",
       "      <td>51100</td>\n",
       "      <td>France</td>\n",
       "      <td>3</td>\n",
       "      <td>Federal Shipping</td>\n",
       "      <td>(503) 555-9931</td>\n",
       "    </tr>\n",
       "    <tr>\n",
       "      <th>1</th>\n",
       "      <td>10249</td>\n",
       "      <td>TOMSP</td>\n",
       "      <td>6</td>\n",
       "      <td>2012-07-05</td>\n",
       "      <td>2012-08-16</td>\n",
       "      <td>2012-07-10</td>\n",
       "      <td>1</td>\n",
       "      <td>11.61</td>\n",
       "      <td>Toms Spezialitäten</td>\n",
       "      <td>Luisenstr. 48</td>\n",
       "      <td>Münster</td>\n",
       "      <td>Western Europe</td>\n",
       "      <td>44087</td>\n",
       "      <td>Germany</td>\n",
       "      <td>1</td>\n",
       "      <td>Speedy Express</td>\n",
       "      <td>(503) 555-9831</td>\n",
       "    </tr>\n",
       "    <tr>\n",
       "      <th>2</th>\n",
       "      <td>10250</td>\n",
       "      <td>HANAR</td>\n",
       "      <td>4</td>\n",
       "      <td>2012-07-08</td>\n",
       "      <td>2012-08-05</td>\n",
       "      <td>2012-07-12</td>\n",
       "      <td>2</td>\n",
       "      <td>65.83</td>\n",
       "      <td>Hanari Carnes</td>\n",
       "      <td>Rua do Paço, 67</td>\n",
       "      <td>Rio de Janeiro</td>\n",
       "      <td>South America</td>\n",
       "      <td>05454-876</td>\n",
       "      <td>Brazil</td>\n",
       "      <td>2</td>\n",
       "      <td>United Package</td>\n",
       "      <td>(503) 555-3199</td>\n",
       "    </tr>\n",
       "    <tr>\n",
       "      <th>3</th>\n",
       "      <td>10251</td>\n",
       "      <td>VICTE</td>\n",
       "      <td>3</td>\n",
       "      <td>2012-07-08</td>\n",
       "      <td>2012-08-05</td>\n",
       "      <td>2012-07-15</td>\n",
       "      <td>1</td>\n",
       "      <td>41.34</td>\n",
       "      <td>Victuailles en stock</td>\n",
       "      <td>2, rue du Commerce</td>\n",
       "      <td>Lyon</td>\n",
       "      <td>Western Europe</td>\n",
       "      <td>69004</td>\n",
       "      <td>France</td>\n",
       "      <td>1</td>\n",
       "      <td>Speedy Express</td>\n",
       "      <td>(503) 555-9831</td>\n",
       "    </tr>\n",
       "    <tr>\n",
       "      <th>4</th>\n",
       "      <td>10252</td>\n",
       "      <td>SUPRD</td>\n",
       "      <td>4</td>\n",
       "      <td>2012-07-09</td>\n",
       "      <td>2012-08-06</td>\n",
       "      <td>2012-07-11</td>\n",
       "      <td>2</td>\n",
       "      <td>51.30</td>\n",
       "      <td>Suprêmes délices</td>\n",
       "      <td>Boulevard Tirou, 255</td>\n",
       "      <td>Charleroi</td>\n",
       "      <td>Western Europe</td>\n",
       "      <td>B-6000</td>\n",
       "      <td>Belgium</td>\n",
       "      <td>2</td>\n",
       "      <td>United Package</td>\n",
       "      <td>(503) 555-3199</td>\n",
       "    </tr>\n",
       "  </tbody>\n",
       "</table>\n",
       "</div>"
      ],
      "text/plain": [
       "      Id CustomerId  EmployeeId   OrderDate RequiredDate ShippedDate  ShipVia  \\\n",
       "0  10248      VINET           5  2012-07-04   2012-08-01  2012-07-16        3   \n",
       "1  10249      TOMSP           6  2012-07-05   2012-08-16  2012-07-10        1   \n",
       "2  10250      HANAR           4  2012-07-08   2012-08-05  2012-07-12        2   \n",
       "3  10251      VICTE           3  2012-07-08   2012-08-05  2012-07-15        1   \n",
       "4  10252      SUPRD           4  2012-07-09   2012-08-06  2012-07-11        2   \n",
       "\n",
       "   Freight                   ShipName           ShipAddress        ShipCity  \\\n",
       "0    32.38  Vins et alcools Chevalier    59 rue de l'Abbaye           Reims   \n",
       "1    11.61         Toms Spezialitäten         Luisenstr. 48         Münster   \n",
       "2    65.83              Hanari Carnes       Rua do Paço, 67  Rio de Janeiro   \n",
       "3    41.34       Victuailles en stock    2, rue du Commerce            Lyon   \n",
       "4    51.30           Suprêmes délices  Boulevard Tirou, 255       Charleroi   \n",
       "\n",
       "       ShipRegion ShipPostalCode ShipCountry  Id       CompanyName  \\\n",
       "0  Western Europe          51100      France   3  Federal Shipping   \n",
       "1  Western Europe          44087     Germany   1    Speedy Express   \n",
       "2   South America      05454-876      Brazil   2    United Package   \n",
       "3  Western Europe          69004      France   1    Speedy Express   \n",
       "4  Western Europe         B-6000     Belgium   2    United Package   \n",
       "\n",
       "            Phone  \n",
       "0  (503) 555-9931  \n",
       "1  (503) 555-9831  \n",
       "2  (503) 555-3199  \n",
       "3  (503) 555-9831  \n",
       "4  (503) 555-3199  "
      ]
     },
     "execution_count": 85,
     "metadata": {},
     "output_type": "execute_result"
    }
   ],
   "source": [
    "print('1. Rows and Columns:')\n",
    "print(df5.shape)\n",
    "print('...............................')\n",
    "print('\\n2. Info:')\n",
    "print(df5.info())\n",
    "print('...............................\\n\\n3. Dataframe:')\n",
    "df5.head()"
   ]
  },
  {
   "cell_type": "code",
   "execution_count": 86,
   "metadata": {},
   "outputs": [
    {
     "data": {
      "text/plain": [
       "array(['Western Europe', 'South America', 'Central America',\n",
       "       'North America', 'Northern Europe', 'Scandinavia',\n",
       "       'Southern Europe', 'British Isles', 'Eastern Europe'], dtype=object)"
      ]
     },
     "execution_count": 86,
     "metadata": {},
     "output_type": "execute_result"
    }
   ],
   "source": [
    "df5.ShipRegion.unique()"
   ]
  },
  {
   "cell_type": "markdown",
   "metadata": {},
   "source": [
    "### Feature Engineering"
   ]
  },
  {
   "cell_type": "markdown",
   "metadata": {},
   "source": [
    "We have to create a dataframe with the observed values per shipping company per region:"
   ]
  },
  {
   "cell_type": "code",
   "execution_count": 87,
   "metadata": {},
   "outputs": [
    {
     "data": {
      "text/html": [
       "<div>\n",
       "<style scoped>\n",
       "    .dataframe tbody tr th:only-of-type {\n",
       "        vertical-align: middle;\n",
       "    }\n",
       "\n",
       "    .dataframe tbody tr th {\n",
       "        vertical-align: top;\n",
       "    }\n",
       "\n",
       "    .dataframe thead th {\n",
       "        text-align: right;\n",
       "    }\n",
       "</style>\n",
       "<table border=\"1\" class=\"dataframe\">\n",
       "  <thead>\n",
       "    <tr style=\"text-align: right;\">\n",
       "      <th>ShipRegion</th>\n",
       "      <th>British Isles</th>\n",
       "      <th>Central America</th>\n",
       "      <th>Eastern Europe</th>\n",
       "      <th>North America</th>\n",
       "      <th>Northern Europe</th>\n",
       "      <th>Scandinavia</th>\n",
       "      <th>South America</th>\n",
       "      <th>Southern Europe</th>\n",
       "      <th>Western Europe</th>\n",
       "      <th>ROW_TOTAL</th>\n",
       "    </tr>\n",
       "    <tr>\n",
       "      <th>Sample</th>\n",
       "      <th></th>\n",
       "      <th></th>\n",
       "      <th></th>\n",
       "      <th></th>\n",
       "      <th></th>\n",
       "      <th></th>\n",
       "      <th></th>\n",
       "      <th></th>\n",
       "      <th></th>\n",
       "      <th></th>\n",
       "    </tr>\n",
       "  </thead>\n",
       "  <tbody>\n",
       "    <tr>\n",
       "      <th>Federal Shipping</th>\n",
       "      <td>1586.83</td>\n",
       "      <td>418.34</td>\n",
       "      <td>66.06</td>\n",
       "      <td>6546.28</td>\n",
       "      <td>912.43</td>\n",
       "      <td>271.94</td>\n",
       "      <td>1640.30</td>\n",
       "      <td>587.92</td>\n",
       "      <td>8482.41</td>\n",
       "      <td>20512.51</td>\n",
       "    </tr>\n",
       "    <tr>\n",
       "      <th>Speedy Express</th>\n",
       "      <td>998.59</td>\n",
       "      <td>176.31</td>\n",
       "      <td>8.72</td>\n",
       "      <td>2578.82</td>\n",
       "      <td>1369.54</td>\n",
       "      <td>291.38</td>\n",
       "      <td>2496.23</td>\n",
       "      <td>705.70</td>\n",
       "      <td>7560.04</td>\n",
       "      <td>16185.33</td>\n",
       "    </tr>\n",
       "    <tr>\n",
       "      <th>United Package</th>\n",
       "      <td>3124.09</td>\n",
       "      <td>528.13</td>\n",
       "      <td>100.96</td>\n",
       "      <td>6844.28</td>\n",
       "      <td>2351.82</td>\n",
       "      <td>623.07</td>\n",
       "      <td>4077.42</td>\n",
       "      <td>1076.24</td>\n",
       "      <td>9518.84</td>\n",
       "      <td>28244.85</td>\n",
       "    </tr>\n",
       "  </tbody>\n",
       "</table>\n",
       "</div>"
      ],
      "text/plain": [
       "ShipRegion        British Isles  Central America  Eastern Europe  \\\n",
       "Sample                                                             \n",
       "Federal Shipping        1586.83           418.34           66.06   \n",
       "Speedy Express           998.59           176.31            8.72   \n",
       "United Package          3124.09           528.13          100.96   \n",
       "\n",
       "ShipRegion        North America  Northern Europe  Scandinavia  South America  \\\n",
       "Sample                                                                         \n",
       "Federal Shipping        6546.28           912.43       271.94        1640.30   \n",
       "Speedy Express          2578.82          1369.54       291.38        2496.23   \n",
       "United Package          6844.28          2351.82       623.07        4077.42   \n",
       "\n",
       "ShipRegion        Southern Europe  Western Europe  ROW_TOTAL  \n",
       "Sample                                                        \n",
       "Federal Shipping           587.92         8482.41   20512.51  \n",
       "Speedy Express             705.70         7560.04   16185.33  \n",
       "United Package            1076.24         9518.84   28244.85  "
      ]
     },
     "execution_count": 87,
     "metadata": {},
     "output_type": "execute_result"
    }
   ],
   "source": [
    "# oberserved values for each shipper by grouping\n",
    "df5_observed = df5.groupby(['CompanyName', 'ShipRegion'])['Freight'].sum()\n",
    "# unstack dataframe for more readability\n",
    "df5_observed = df5_observed.unstack()\n",
    "# add row sum\n",
    "df5_observed['ROW_TOTAL'] = df5_observed.sum(axis=1)\n",
    "# change index column's name\n",
    "df5_observed.index.names = ['Sample']\n",
    "df5_observed.head()"
   ]
  },
  {
   "cell_type": "markdown",
   "metadata": {},
   "source": [
    "Secondly, we have to build a dataframe with the expected values - to compare oberserved vs. expected volume:"
   ]
  },
  {
   "cell_type": "code",
   "execution_count": 88,
   "metadata": {
    "scrolled": true
   },
   "outputs": [
    {
     "data": {
      "text/html": [
       "<div>\n",
       "<style scoped>\n",
       "    .dataframe tbody tr th:only-of-type {\n",
       "        vertical-align: middle;\n",
       "    }\n",
       "\n",
       "    .dataframe tbody tr th {\n",
       "        vertical-align: top;\n",
       "    }\n",
       "\n",
       "    .dataframe thead th {\n",
       "        text-align: right;\n",
       "    }\n",
       "</style>\n",
       "<table border=\"1\" class=\"dataframe\">\n",
       "  <thead>\n",
       "    <tr style=\"text-align: right;\">\n",
       "      <th>ShipRegion</th>\n",
       "      <th>British Isles</th>\n",
       "      <th>Central America</th>\n",
       "      <th>Eastern Europe</th>\n",
       "      <th>North America</th>\n",
       "      <th>Northern Europe</th>\n",
       "      <th>Scandinavia</th>\n",
       "      <th>South America</th>\n",
       "      <th>Southern Europe</th>\n",
       "      <th>Western Europe</th>\n",
       "      <th>ROW_TOTAL</th>\n",
       "    </tr>\n",
       "    <tr>\n",
       "      <th>Sample</th>\n",
       "      <th></th>\n",
       "      <th></th>\n",
       "      <th></th>\n",
       "      <th></th>\n",
       "      <th></th>\n",
       "      <th></th>\n",
       "      <th></th>\n",
       "      <th></th>\n",
       "      <th></th>\n",
       "      <th></th>\n",
       "    </tr>\n",
       "  </thead>\n",
       "  <tbody>\n",
       "    <tr>\n",
       "      <th>COLUM_TOTAL</th>\n",
       "      <td>5709.51</td>\n",
       "      <td>1122.78</td>\n",
       "      <td>175.74</td>\n",
       "      <td>15969.38</td>\n",
       "      <td>4633.79</td>\n",
       "      <td>1186.39</td>\n",
       "      <td>8213.95</td>\n",
       "      <td>2369.86</td>\n",
       "      <td>25561.29</td>\n",
       "      <td>64942.69</td>\n",
       "    </tr>\n",
       "  </tbody>\n",
       "</table>\n",
       "</div>"
      ],
      "text/plain": [
       "ShipRegion   British Isles  Central America  Eastern Europe  North America  \\\n",
       "Sample                                                                       \n",
       "COLUM_TOTAL        5709.51          1122.78          175.74       15969.38   \n",
       "\n",
       "ShipRegion   Northern Europe  Scandinavia  South America  Southern Europe  \\\n",
       "Sample                                                                      \n",
       "COLUM_TOTAL          4633.79      1186.39        8213.95          2369.86   \n",
       "\n",
       "ShipRegion   Western Europe  ROW_TOTAL  \n",
       "Sample                                  \n",
       "COLUM_TOTAL        25561.29   64942.69  "
      ]
     },
     "execution_count": 88,
     "metadata": {},
     "output_type": "execute_result"
    }
   ],
   "source": [
    "# adding the \"sample\" column to the original dataframe df5 ...\n",
    "df5['Sample'] = 'COLUM_TOTAL'\n",
    "\n",
    "# ... to make the same unstacking possible for the expected values as we did with the observed\n",
    "\n",
    "# create expected values:\n",
    "df5_expected = df5.groupby(['Sample', 'ShipRegion'])['Freight'].sum()\n",
    "# unstack dataframe for more readability\n",
    "df5_expected = df5_expected.unstack()\n",
    "# add row sum\n",
    "df5_expected['ROW_TOTAL'] = df5_expected.sum(axis=1)\n",
    "\n",
    "df5_expected"
   ]
  },
  {
   "cell_type": "code",
   "execution_count": 89,
   "metadata": {},
   "outputs": [
    {
     "data": {
      "text/html": [
       "<div>\n",
       "<style scoped>\n",
       "    .dataframe tbody tr th:only-of-type {\n",
       "        vertical-align: middle;\n",
       "    }\n",
       "\n",
       "    .dataframe tbody tr th {\n",
       "        vertical-align: top;\n",
       "    }\n",
       "\n",
       "    .dataframe thead th {\n",
       "        text-align: right;\n",
       "    }\n",
       "</style>\n",
       "<table border=\"1\" class=\"dataframe\">\n",
       "  <thead>\n",
       "    <tr style=\"text-align: right;\">\n",
       "      <th>ShipRegion</th>\n",
       "      <th>British Isles</th>\n",
       "      <th>Central America</th>\n",
       "      <th>Eastern Europe</th>\n",
       "      <th>North America</th>\n",
       "      <th>Northern Europe</th>\n",
       "      <th>Scandinavia</th>\n",
       "      <th>South America</th>\n",
       "      <th>Southern Europe</th>\n",
       "      <th>Western Europe</th>\n",
       "      <th>ROW_TOTAL</th>\n",
       "    </tr>\n",
       "    <tr>\n",
       "      <th>Sample</th>\n",
       "      <th></th>\n",
       "      <th></th>\n",
       "      <th></th>\n",
       "      <th></th>\n",
       "      <th></th>\n",
       "      <th></th>\n",
       "      <th></th>\n",
       "      <th></th>\n",
       "      <th></th>\n",
       "      <th></th>\n",
       "    </tr>\n",
       "  </thead>\n",
       "  <tbody>\n",
       "    <tr>\n",
       "      <th>Federal Shipping</th>\n",
       "      <td>1586.83</td>\n",
       "      <td>418.34</td>\n",
       "      <td>66.06</td>\n",
       "      <td>6546.28</td>\n",
       "      <td>912.43</td>\n",
       "      <td>271.94</td>\n",
       "      <td>1640.30</td>\n",
       "      <td>587.92</td>\n",
       "      <td>8482.41</td>\n",
       "      <td>20512.51</td>\n",
       "    </tr>\n",
       "    <tr>\n",
       "      <th>Speedy Express</th>\n",
       "      <td>998.59</td>\n",
       "      <td>176.31</td>\n",
       "      <td>8.72</td>\n",
       "      <td>2578.82</td>\n",
       "      <td>1369.54</td>\n",
       "      <td>291.38</td>\n",
       "      <td>2496.23</td>\n",
       "      <td>705.70</td>\n",
       "      <td>7560.04</td>\n",
       "      <td>16185.33</td>\n",
       "    </tr>\n",
       "    <tr>\n",
       "      <th>United Package</th>\n",
       "      <td>3124.09</td>\n",
       "      <td>528.13</td>\n",
       "      <td>100.96</td>\n",
       "      <td>6844.28</td>\n",
       "      <td>2351.82</td>\n",
       "      <td>623.07</td>\n",
       "      <td>4077.42</td>\n",
       "      <td>1076.24</td>\n",
       "      <td>9518.84</td>\n",
       "      <td>28244.85</td>\n",
       "    </tr>\n",
       "    <tr>\n",
       "      <th>COLUM_TOTAL</th>\n",
       "      <td>5709.51</td>\n",
       "      <td>1122.78</td>\n",
       "      <td>175.74</td>\n",
       "      <td>15969.38</td>\n",
       "      <td>4633.79</td>\n",
       "      <td>1186.39</td>\n",
       "      <td>8213.95</td>\n",
       "      <td>2369.86</td>\n",
       "      <td>25561.29</td>\n",
       "      <td>64942.69</td>\n",
       "    </tr>\n",
       "  </tbody>\n",
       "</table>\n",
       "</div>"
      ],
      "text/plain": [
       "ShipRegion        British Isles  Central America  Eastern Europe  \\\n",
       "Sample                                                             \n",
       "Federal Shipping        1586.83           418.34           66.06   \n",
       "Speedy Express           998.59           176.31            8.72   \n",
       "United Package          3124.09           528.13          100.96   \n",
       "COLUM_TOTAL             5709.51          1122.78          175.74   \n",
       "\n",
       "ShipRegion        North America  Northern Europe  Scandinavia  South America  \\\n",
       "Sample                                                                         \n",
       "Federal Shipping        6546.28           912.43       271.94        1640.30   \n",
       "Speedy Express          2578.82          1369.54       291.38        2496.23   \n",
       "United Package          6844.28          2351.82       623.07        4077.42   \n",
       "COLUM_TOTAL            15969.38          4633.79      1186.39        8213.95   \n",
       "\n",
       "ShipRegion        Southern Europe  Western Europe  ROW_TOTAL  \n",
       "Sample                                                        \n",
       "Federal Shipping           587.92         8482.41   20512.51  \n",
       "Speedy Express             705.70         7560.04   16185.33  \n",
       "United Package            1076.24         9518.84   28244.85  \n",
       "COLUM_TOTAL               2369.86        25561.29   64942.69  "
      ]
     },
     "execution_count": 89,
     "metadata": {},
     "output_type": "execute_result"
    }
   ],
   "source": [
    "# concat both tables to ONE frequency table\n",
    "df5_crosstab = pd.concat([df5_observed, df5_expected], axis=0)\n",
    "df5_crosstab"
   ]
  },
  {
   "cell_type": "markdown",
   "metadata": {},
   "source": [
    "### 5.2 - Hypothesis"
   ]
  },
  {
   "cell_type": "markdown",
   "metadata": {},
   "source": [
    "$H_0$: There is no relationship between each shipping company's freight volume and its supplied regions. Both categorical variables are probabilistically independent and each company has the same share in each region as it has globally:\n",
    "\n",
    "> $H_0: X_1 = X_2, ..., = X_m$\n",
    "\n",
    "$H_1$: There is a relationship between each shipping company's freight volume and its supplied regions.\n",
    "\n",
    "> $H_1: X_i \\neq X_j$\n",
    "\n",
    "I set my significance level: \n",
    "\n",
    "> **$\\alpha$ = 0.05**"
   ]
  },
  {
   "cell_type": "markdown",
   "metadata": {},
   "source": [
    "### 5.3 - Statistical Analysis"
   ]
  },
  {
   "cell_type": "markdown",
   "metadata": {},
   "source": [
    "### Appropriate Test"
   ]
  },
  {
   "cell_type": "markdown",
   "metadata": {},
   "source": [
    "To determine whether the proportions of all three shippers in the nine regions are the same, a **$\\chi^2$ - Test of Independence** is appropriate.\n",
    "\n",
    "Because of the $\\chi^2$ - Distribution's shape, the significance level is always specified on the right (no one-tailed or two-tailed specification is necessary)."
   ]
  },
  {
   "cell_type": "markdown",
   "metadata": {},
   "source": [
    "####  Chi-Square's Assumptions"
   ]
  },
  {
   "cell_type": "markdown",
   "metadata": {},
   "source": [
    "* When testing the data, the cells should be **frequencies** or counts of cases and not percentages. --> Okay.\n",
    "\n",
    "* The levels (categories) of the variables being tested are **mutually exclusive**. --> Okay.\n",
    "\n",
    "* Each participant contributes to only one cell within the Chi-square table. --> Okay.\n",
    "\n",
    "* The groups being tested must be **independent**. --> Okay.\n",
    "\n",
    "* The value of **expected cells should be greater than 5.** --> Assumption is met, see calculation below."
   ]
  },
  {
   "cell_type": "markdown",
   "metadata": {},
   "source": [
    "### Test Statistic"
   ]
  },
  {
   "cell_type": "code",
   "execution_count": 90,
   "metadata": {},
   "outputs": [
    {
     "data": {
      "text/html": [
       "<div>\n",
       "<style scoped>\n",
       "    .dataframe tbody tr th:only-of-type {\n",
       "        vertical-align: middle;\n",
       "    }\n",
       "\n",
       "    .dataframe tbody tr th {\n",
       "        vertical-align: top;\n",
       "    }\n",
       "\n",
       "    .dataframe thead th {\n",
       "        text-align: right;\n",
       "    }\n",
       "</style>\n",
       "<table border=\"1\" class=\"dataframe\">\n",
       "  <thead>\n",
       "    <tr style=\"text-align: right;\">\n",
       "      <th>ShipRegion</th>\n",
       "      <th>British Isles</th>\n",
       "      <th>Central America</th>\n",
       "      <th>Eastern Europe</th>\n",
       "      <th>North America</th>\n",
       "      <th>Northern Europe</th>\n",
       "      <th>Scandinavia</th>\n",
       "      <th>South America</th>\n",
       "      <th>Southern Europe</th>\n",
       "      <th>Western Europe</th>\n",
       "      <th>ROW_TOTAL</th>\n",
       "    </tr>\n",
       "    <tr>\n",
       "      <th>Sample</th>\n",
       "      <th></th>\n",
       "      <th></th>\n",
       "      <th></th>\n",
       "      <th></th>\n",
       "      <th></th>\n",
       "      <th></th>\n",
       "      <th></th>\n",
       "      <th></th>\n",
       "      <th></th>\n",
       "      <th></th>\n",
       "    </tr>\n",
       "  </thead>\n",
       "  <tbody>\n",
       "    <tr>\n",
       "      <th>Federal Shipping</th>\n",
       "      <td>1586.83</td>\n",
       "      <td>418.34</td>\n",
       "      <td>66.06</td>\n",
       "      <td>6546.28</td>\n",
       "      <td>912.43</td>\n",
       "      <td>271.94</td>\n",
       "      <td>1640.30</td>\n",
       "      <td>587.92</td>\n",
       "      <td>8482.41</td>\n",
       "      <td>20512.51</td>\n",
       "    </tr>\n",
       "    <tr>\n",
       "      <th>Speedy Express</th>\n",
       "      <td>998.59</td>\n",
       "      <td>176.31</td>\n",
       "      <td>8.72</td>\n",
       "      <td>2578.82</td>\n",
       "      <td>1369.54</td>\n",
       "      <td>291.38</td>\n",
       "      <td>2496.23</td>\n",
       "      <td>705.70</td>\n",
       "      <td>7560.04</td>\n",
       "      <td>16185.33</td>\n",
       "    </tr>\n",
       "    <tr>\n",
       "      <th>United Package</th>\n",
       "      <td>3124.09</td>\n",
       "      <td>528.13</td>\n",
       "      <td>100.96</td>\n",
       "      <td>6844.28</td>\n",
       "      <td>2351.82</td>\n",
       "      <td>623.07</td>\n",
       "      <td>4077.42</td>\n",
       "      <td>1076.24</td>\n",
       "      <td>9518.84</td>\n",
       "      <td>28244.85</td>\n",
       "    </tr>\n",
       "    <tr>\n",
       "      <th>COLUM_TOTAL</th>\n",
       "      <td>5709.51</td>\n",
       "      <td>1122.78</td>\n",
       "      <td>175.74</td>\n",
       "      <td>15969.38</td>\n",
       "      <td>4633.79</td>\n",
       "      <td>1186.39</td>\n",
       "      <td>8213.95</td>\n",
       "      <td>2369.86</td>\n",
       "      <td>25561.29</td>\n",
       "      <td>64942.69</td>\n",
       "    </tr>\n",
       "  </tbody>\n",
       "</table>\n",
       "</div>"
      ],
      "text/plain": [
       "ShipRegion        British Isles  Central America  Eastern Europe  \\\n",
       "Sample                                                             \n",
       "Federal Shipping        1586.83           418.34           66.06   \n",
       "Speedy Express           998.59           176.31            8.72   \n",
       "United Package          3124.09           528.13          100.96   \n",
       "COLUM_TOTAL             5709.51          1122.78          175.74   \n",
       "\n",
       "ShipRegion        North America  Northern Europe  Scandinavia  South America  \\\n",
       "Sample                                                                         \n",
       "Federal Shipping        6546.28           912.43       271.94        1640.30   \n",
       "Speedy Express          2578.82          1369.54       291.38        2496.23   \n",
       "United Package          6844.28          2351.82       623.07        4077.42   \n",
       "COLUM_TOTAL            15969.38          4633.79      1186.39        8213.95   \n",
       "\n",
       "ShipRegion        Southern Europe  Western Europe  ROW_TOTAL  \n",
       "Sample                                                        \n",
       "Federal Shipping           587.92         8482.41   20512.51  \n",
       "Speedy Express             705.70         7560.04   16185.33  \n",
       "United Package            1076.24         9518.84   28244.85  \n",
       "COLUM_TOTAL               2369.86        25561.29   64942.69  "
      ]
     },
     "execution_count": 90,
     "metadata": {},
     "output_type": "execute_result"
    }
   ],
   "source": [
    "# using the crosstab I built\n",
    "df5_crosstab"
   ]
  },
  {
   "cell_type": "markdown",
   "metadata": {},
   "source": [
    "As I had some joy, I built my own **function to calculate the test statistic**:"
   ]
  },
  {
   "cell_type": "code",
   "execution_count": 91,
   "metadata": {},
   "outputs": [],
   "source": [
    "def chi_statistic(dataframe):\n",
    "    \"\"\" Function that takes in the dataframe and calculates the Chi Statistic \n",
    "    for Chi-Square test of homogeneity by:\n",
    "    \n",
    "    a) computing the expected frequency:\n",
    "    E(i,j) = (Row Total * Column Total) / Grand Total\n",
    "    \n",
    "    b) calculating Chi-Squared:\n",
    "    squaring the product of observed (O) and the expected (E) frequencies, \n",
    "    dividing it by E and \n",
    "    summing all values up:\n",
    "    chi = Σ of ( (O(i,j) * E(i,j)) **2 ) / E(i,j) \"\"\"\n",
    "    \n",
    "    # calculate grand\n",
    "    grand_total = dataframe.iloc[3, 9]    \n",
    "    \n",
    "    # define an empty list for ALL expected chi-values\n",
    "    chi_total = []\n",
    "    \n",
    "    # iterate through all rows (=samples)\n",
    "    for row_j in range(0,3):\n",
    "        \n",
    "        # calculate row_total for each row\n",
    "        row_total = dataframe.iloc[row_j, 9]\n",
    "        \n",
    "        # define an empty list for the expected chi-values per single row\n",
    "        chi_per_row = []\n",
    "        \n",
    "        # iterate through all columns in that row (= features)\n",
    "        for column_i in range(0,10):\n",
    "            \n",
    "            # calculate the column total\n",
    "            col_total = dataframe.iloc[3, column_i]\n",
    "            # grab the observed value\n",
    "            obs_value = dataframe.iloc[row_j, column_i]\n",
    "            # calculate first the expected frequency\n",
    "            exp_value = (row_total * col_total) / grand_total\n",
    "            # calculate secondly \"single\" chi value\n",
    "            single_chi = ((obs_value-exp_value)**2) / exp_value\n",
    "            # append them to the list\n",
    "            chi_per_row.append(single_chi)\n",
    "        \n",
    "        # append the sum of row-wise chi-values to the overall list\n",
    "        chi_total.append(sum(chi_per_row))\n",
    "    \n",
    "    # sum all values up to get the chi-squared\n",
    "    return sum(chi_total)"
   ]
  },
  {
   "cell_type": "code",
   "execution_count": 92,
   "metadata": {},
   "outputs": [
    {
     "data": {
      "text/plain": [
       "2757.5246458453066"
      ]
     },
     "execution_count": 92,
     "metadata": {},
     "output_type": "execute_result"
    }
   ],
   "source": [
    "# and now let's run it:\n",
    "chi_statistic(df5_crosstab)"
   ]
  },
  {
   "cell_type": "code",
   "execution_count": 93,
   "metadata": {},
   "outputs": [
    {
     "data": {
      "text/plain": [
       "16"
      ]
     },
     "execution_count": 93,
     "metadata": {},
     "output_type": "execute_result"
    }
   ],
   "source": [
    "# getting the degrees of freedom: df = (n − 1) * (m − 1) where n=samples and m=features\n",
    "df = (3-1) * (9-1)\n",
    "df"
   ]
  },
  {
   "cell_type": "markdown",
   "metadata": {},
   "source": [
    "Checking a Chi table, it reveals: \n",
    "\n",
    "For df = 16 and $\\alpha = 0.05$ the critical value of chi-squared is 26.296 - even for $\\alpha = 0.01$ the value is 32.000, i.e. our test statistics is much higher and **we can reject the null hypothesis**."
   ]
  },
  {
   "cell_type": "code",
   "execution_count": 94,
   "metadata": {},
   "outputs": [
    {
     "name": "stdout",
     "output_type": "stream",
     "text": [
      "Chi Statistic:        2757.5246458453066\n",
      "p-value (two-tailed): 0.000000000000\n"
     ]
    }
   ],
   "source": [
    "# using ALSO the built-in chi contingency function to get the p value\n",
    "chi, p, df, exp_frequencies = stats.chi2_contingency(df5_crosstab)\n",
    "print(f\"Chi Statistic:        {chi}\")\n",
    "print(f\"p-value (two-tailed): {p:.12f}\")"
   ]
  },
  {
   "cell_type": "markdown",
   "metadata": {},
   "source": [
    "The Chi-square value matches the one we calculated in our function. And the p-value indicates a **highly significantly result**."
   ]
  },
  {
   "cell_type": "code",
   "execution_count": 95,
   "metadata": {},
   "outputs": [
    {
     "name": "stdout",
     "output_type": "stream",
     "text": [
      "Expected Frequencies: [[1.80338050e+03 3.54636311e+02 5.55084569e+01 5.04401753e+03\n",
      "  1.46360836e+03 3.74727883e+02 2.59442181e+03 7.48533468e+02\n",
      "  8.07367568e+03 2.05125100e+04]\n",
      " [1.42295158e+03 2.79824639e+02 4.37987693e+01 3.97996580e+03\n",
      "  1.15485546e+03 2.95677830e+02 2.04712018e+03 5.90627924e+02\n",
      "  6.37050781e+03 1.61853300e+04]\n",
      " [2.48317791e+03 4.88319050e+02 7.64327739e+01 6.94539667e+03\n",
      "  2.01532618e+03 5.15984287e+02 3.57240801e+03 1.03069861e+03\n",
      "  1.11171065e+04 2.82448500e+04]\n",
      " [5.70951000e+03 1.12278000e+03 1.75740000e+02 1.59693800e+04\n",
      "  4.63379000e+03 1.18639000e+03 8.21395000e+03 2.36986000e+03\n",
      "  2.55612900e+04 6.49426900e+04]]\n"
     ]
    }
   ],
   "source": [
    "print(\"Expected Frequencies:\", exp_frequencies)"
   ]
  },
  {
   "cell_type": "markdown",
   "metadata": {},
   "source": [
    "--> Since **all of the expected frequencies are greater than 5**, the chi2 test results can be trusted."
   ]
  },
  {
   "cell_type": "markdown",
   "metadata": {},
   "source": [
    "#### Effect Size"
   ]
  },
  {
   "cell_type": "markdown",
   "metadata": {},
   "source": [
    "The effect size for a Chi-square test can be calculated with Cramer’s V:\n",
    "> #### $V= \\sqrt{ \\frac{\\chi^2} {n * df} } $"
   ]
  },
  {
   "cell_type": "code",
   "execution_count": 96,
   "metadata": {},
   "outputs": [
    {
     "data": {
      "text/plain": [
       "0.35078318989327995"
      ]
     },
     "execution_count": 96,
     "metadata": {},
     "output_type": "execute_result"
    }
   ],
   "source": [
    "import math\n",
    "\n",
    "# chi-value we calculated with our function\n",
    "chi = chi_statistic(df5_crosstab)\n",
    "\n",
    "# observations, i.e. the length of original dataframe\n",
    "n = df5.shape[0]\n",
    "\n",
    "# df = degress of freedom we calculated above\n",
    "df = df\n",
    "\n",
    "v = math.sqrt(chi/(n*df))\n",
    "v"
   ]
  },
  {
   "cell_type": "markdown",
   "metadata": {},
   "source": [
    "According to Cohen, this constitutes an almost **median effect**."
   ]
  },
  {
   "cell_type": "markdown",
   "metadata": {},
   "source": [
    "### 5.4 - Conclusions"
   ]
  },
  {
   "cell_type": "markdown",
   "metadata": {},
   "source": [
    "**A Chi-Square Test of Independence on an $\\alpha$ = 0.05 was used to analyze, whether the variables \"shipping company\" and \"region\" are probabilistically independent and so whether each shipping company has the same share in each region as it has globally:**\n",
    "\n",
    "* There was a **statistically highly significant difference** between n = 3 shipping companies and m = 9 regions with p = 0.0000000.\n",
    "\n",
    "* Therefore I may reject the null hypothesis in support of the alternative: There is indeed a relationship between each shipping company's freight volume and supplied regions.\n",
    "\n",
    "* The effect size points to a median effect so we explored a **medium practical significance**.\n",
    "\n",
    "* My $\\alpha$ = 0.05 effectively is the probability that I mistakenly reject the null hypothesis when it is actually true. This is called the \"Type 1 Error\". <br> With 5% I accept only a very small probability for Type 1 Error. The opposite is the \"Type 2 Error\" where I may mistakenly support the null hypothesis when the alternative is actually true.\n",
    "\n",
    "**The results could be used to provide shipping companies with already high volumes and/or freights in specific regions with increasing shares in exchange for reduced shipping costs. Examples: Federal Shipping has an already high share in North America, Speedy Express in Western Europe etc.**"
   ]
  },
  {
   "cell_type": "code",
   "execution_count": 97,
   "metadata": {
    "scrolled": true
   },
   "outputs": [
    {
     "data": {
      "text/html": [
       "<div>\n",
       "<style scoped>\n",
       "    .dataframe tbody tr th:only-of-type {\n",
       "        vertical-align: middle;\n",
       "    }\n",
       "\n",
       "    .dataframe tbody tr th {\n",
       "        vertical-align: top;\n",
       "    }\n",
       "\n",
       "    .dataframe thead th {\n",
       "        text-align: right;\n",
       "    }\n",
       "</style>\n",
       "<table border=\"1\" class=\"dataframe\">\n",
       "  <thead>\n",
       "    <tr style=\"text-align: right;\">\n",
       "      <th>ShipRegion</th>\n",
       "      <th>British Isles</th>\n",
       "      <th>Central America</th>\n",
       "      <th>Eastern Europe</th>\n",
       "      <th>North America</th>\n",
       "      <th>Northern Europe</th>\n",
       "      <th>Scandinavia</th>\n",
       "      <th>South America</th>\n",
       "      <th>Southern Europe</th>\n",
       "      <th>Western Europe</th>\n",
       "      <th>ROW_TOTAL</th>\n",
       "    </tr>\n",
       "    <tr>\n",
       "      <th>Sample</th>\n",
       "      <th></th>\n",
       "      <th></th>\n",
       "      <th></th>\n",
       "      <th></th>\n",
       "      <th></th>\n",
       "      <th></th>\n",
       "      <th></th>\n",
       "      <th></th>\n",
       "      <th></th>\n",
       "      <th></th>\n",
       "    </tr>\n",
       "  </thead>\n",
       "  <tbody>\n",
       "    <tr>\n",
       "      <th>Federal Shipping</th>\n",
       "      <td>1586.83</td>\n",
       "      <td>418.34</td>\n",
       "      <td>66.06</td>\n",
       "      <td>6546.28</td>\n",
       "      <td>912.43</td>\n",
       "      <td>271.94</td>\n",
       "      <td>1640.30</td>\n",
       "      <td>587.92</td>\n",
       "      <td>8482.41</td>\n",
       "      <td>20512.51</td>\n",
       "    </tr>\n",
       "    <tr>\n",
       "      <th>Speedy Express</th>\n",
       "      <td>998.59</td>\n",
       "      <td>176.31</td>\n",
       "      <td>8.72</td>\n",
       "      <td>2578.82</td>\n",
       "      <td>1369.54</td>\n",
       "      <td>291.38</td>\n",
       "      <td>2496.23</td>\n",
       "      <td>705.70</td>\n",
       "      <td>7560.04</td>\n",
       "      <td>16185.33</td>\n",
       "    </tr>\n",
       "    <tr>\n",
       "      <th>United Package</th>\n",
       "      <td>3124.09</td>\n",
       "      <td>528.13</td>\n",
       "      <td>100.96</td>\n",
       "      <td>6844.28</td>\n",
       "      <td>2351.82</td>\n",
       "      <td>623.07</td>\n",
       "      <td>4077.42</td>\n",
       "      <td>1076.24</td>\n",
       "      <td>9518.84</td>\n",
       "      <td>28244.85</td>\n",
       "    </tr>\n",
       "    <tr>\n",
       "      <th>COLUM_TOTAL</th>\n",
       "      <td>5709.51</td>\n",
       "      <td>1122.78</td>\n",
       "      <td>175.74</td>\n",
       "      <td>15969.38</td>\n",
       "      <td>4633.79</td>\n",
       "      <td>1186.39</td>\n",
       "      <td>8213.95</td>\n",
       "      <td>2369.86</td>\n",
       "      <td>25561.29</td>\n",
       "      <td>64942.69</td>\n",
       "    </tr>\n",
       "  </tbody>\n",
       "</table>\n",
       "</div>"
      ],
      "text/plain": [
       "ShipRegion        British Isles  Central America  Eastern Europe  \\\n",
       "Sample                                                             \n",
       "Federal Shipping        1586.83           418.34           66.06   \n",
       "Speedy Express           998.59           176.31            8.72   \n",
       "United Package          3124.09           528.13          100.96   \n",
       "COLUM_TOTAL             5709.51          1122.78          175.74   \n",
       "\n",
       "ShipRegion        North America  Northern Europe  Scandinavia  South America  \\\n",
       "Sample                                                                         \n",
       "Federal Shipping        6546.28           912.43       271.94        1640.30   \n",
       "Speedy Express          2578.82          1369.54       291.38        2496.23   \n",
       "United Package          6844.28          2351.82       623.07        4077.42   \n",
       "COLUM_TOTAL            15969.38          4633.79      1186.39        8213.95   \n",
       "\n",
       "ShipRegion        Southern Europe  Western Europe  ROW_TOTAL  \n",
       "Sample                                                        \n",
       "Federal Shipping           587.92         8482.41   20512.51  \n",
       "Speedy Express             705.70         7560.04   16185.33  \n",
       "United Package            1076.24         9518.84   28244.85  \n",
       "COLUM_TOTAL               2369.86        25561.29   64942.69  "
      ]
     },
     "execution_count": 97,
     "metadata": {},
     "output_type": "execute_result"
    }
   ],
   "source": [
    "# original crosstable\n",
    "df5_crosstab"
   ]
  },
  {
   "cell_type": "code",
   "execution_count": 98,
   "metadata": {},
   "outputs": [
    {
     "data": {
      "text/html": [
       "<div>\n",
       "<style scoped>\n",
       "    .dataframe tbody tr th:only-of-type {\n",
       "        vertical-align: middle;\n",
       "    }\n",
       "\n",
       "    .dataframe tbody tr th {\n",
       "        vertical-align: top;\n",
       "    }\n",
       "\n",
       "    .dataframe thead th {\n",
       "        text-align: right;\n",
       "    }\n",
       "</style>\n",
       "<table border=\"1\" class=\"dataframe\">\n",
       "  <thead>\n",
       "    <tr style=\"text-align: right;\">\n",
       "      <th>ShipRegion</th>\n",
       "      <th>British Isles</th>\n",
       "      <th>Central America</th>\n",
       "      <th>Eastern Europe</th>\n",
       "      <th>North America</th>\n",
       "      <th>Northern Europe</th>\n",
       "      <th>Scandinavia</th>\n",
       "      <th>South America</th>\n",
       "      <th>Southern Europe</th>\n",
       "      <th>Western Europe</th>\n",
       "      <th>ROW_TOTAL</th>\n",
       "    </tr>\n",
       "    <tr>\n",
       "      <th>Sample</th>\n",
       "      <th></th>\n",
       "      <th></th>\n",
       "      <th></th>\n",
       "      <th></th>\n",
       "      <th></th>\n",
       "      <th></th>\n",
       "      <th></th>\n",
       "      <th></th>\n",
       "      <th></th>\n",
       "      <th></th>\n",
       "    </tr>\n",
       "  </thead>\n",
       "  <tbody>\n",
       "    <tr>\n",
       "      <th>Federal Shipping</th>\n",
       "      <td>7.735913</td>\n",
       "      <td>2.039438</td>\n",
       "      <td>0.322047</td>\n",
       "      <td>31.913598</td>\n",
       "      <td>4.448164</td>\n",
       "      <td>1.325728</td>\n",
       "      <td>7.996584</td>\n",
       "      <td>2.866153</td>\n",
       "      <td>41.352375</td>\n",
       "      <td>100.0</td>\n",
       "    </tr>\n",
       "    <tr>\n",
       "      <th>Speedy Express</th>\n",
       "      <td>6.169723</td>\n",
       "      <td>1.089320</td>\n",
       "      <td>0.053876</td>\n",
       "      <td>15.933070</td>\n",
       "      <td>8.461613</td>\n",
       "      <td>1.800272</td>\n",
       "      <td>15.422793</td>\n",
       "      <td>4.360121</td>\n",
       "      <td>46.709211</td>\n",
       "      <td>100.0</td>\n",
       "    </tr>\n",
       "    <tr>\n",
       "      <th>United Package</th>\n",
       "      <td>11.060742</td>\n",
       "      <td>1.869828</td>\n",
       "      <td>0.357446</td>\n",
       "      <td>24.231957</td>\n",
       "      <td>8.326544</td>\n",
       "      <td>2.205960</td>\n",
       "      <td>14.435977</td>\n",
       "      <td>3.810394</td>\n",
       "      <td>33.701153</td>\n",
       "      <td>100.0</td>\n",
       "    </tr>\n",
       "    <tr>\n",
       "      <th>COLUM_TOTAL</th>\n",
       "      <td>8.791613</td>\n",
       "      <td>1.728878</td>\n",
       "      <td>0.270608</td>\n",
       "      <td>24.589958</td>\n",
       "      <td>7.135199</td>\n",
       "      <td>1.826826</td>\n",
       "      <td>12.647998</td>\n",
       "      <td>3.649156</td>\n",
       "      <td>39.359765</td>\n",
       "      <td>100.0</td>\n",
       "    </tr>\n",
       "  </tbody>\n",
       "</table>\n",
       "</div>"
      ],
      "text/plain": [
       "ShipRegion        British Isles  Central America  Eastern Europe  \\\n",
       "Sample                                                             \n",
       "Federal Shipping       7.735913         2.039438        0.322047   \n",
       "Speedy Express         6.169723         1.089320        0.053876   \n",
       "United Package        11.060742         1.869828        0.357446   \n",
       "COLUM_TOTAL            8.791613         1.728878        0.270608   \n",
       "\n",
       "ShipRegion        North America  Northern Europe  Scandinavia  South America  \\\n",
       "Sample                                                                         \n",
       "Federal Shipping      31.913598         4.448164     1.325728       7.996584   \n",
       "Speedy Express        15.933070         8.461613     1.800272      15.422793   \n",
       "United Package        24.231957         8.326544     2.205960      14.435977   \n",
       "COLUM_TOTAL           24.589958         7.135199     1.826826      12.647998   \n",
       "\n",
       "ShipRegion        Southern Europe  Western Europe  ROW_TOTAL  \n",
       "Sample                                                        \n",
       "Federal Shipping         2.866153       41.352375      100.0  \n",
       "Speedy Express           4.360121       46.709211      100.0  \n",
       "United Package           3.810394       33.701153      100.0  \n",
       "COLUM_TOTAL              3.649156       39.359765      100.0  "
      ]
     },
     "execution_count": 98,
     "metadata": {},
     "output_type": "execute_result"
    }
   ],
   "source": [
    "# unelegant way to transform all values into percentages (row-wise calculated!)\n",
    "df5_crosstab['British Isles'] = (df5_crosstab['British Isles'] / df5_crosstab['ROW_TOTAL'])*100\n",
    "df5_crosstab['Central America'] = (df5_crosstab['Central America'] / df5_crosstab['ROW_TOTAL'])*100\n",
    "df5_crosstab['Eastern Europe'] = (df5_crosstab['Eastern Europe'] / df5_crosstab['ROW_TOTAL'])*100\n",
    "df5_crosstab['North America'] = (df5_crosstab['North America'] / df5_crosstab['ROW_TOTAL'])*100\n",
    "df5_crosstab['Northern Europe'] = (df5_crosstab['Northern Europe'] / df5_crosstab['ROW_TOTAL'])*100\n",
    "df5_crosstab['Scandinavia'] = (df5_crosstab['Scandinavia'] / df5_crosstab['ROW_TOTAL'])*100\n",
    "df5_crosstab['South America'] = (df5_crosstab['South America'] / df5_crosstab['ROW_TOTAL'])*100\n",
    "df5_crosstab['Southern Europe'] = (df5_crosstab['Southern Europe'] / df5_crosstab['ROW_TOTAL'])*100\n",
    "df5_crosstab['Western Europe'] = (df5_crosstab['Western Europe'] / df5_crosstab['ROW_TOTAL'])*100\n",
    "df5_crosstab['ROW_TOTAL'] = (df5_crosstab['ROW_TOTAL'] / df5_crosstab['ROW_TOTAL'])*100\n",
    "df5_crosstab"
   ]
  },
  {
   "cell_type": "code",
   "execution_count": null,
   "metadata": {},
   "outputs": [],
   "source": []
  }
 ],
 "metadata": {
  "kernelspec": {
   "display_name": "Python 3",
   "language": "python",
   "name": "python3"
  },
  "language_info": {
   "codemirror_mode": {
    "name": "ipython",
    "version": 3
   },
   "file_extension": ".py",
   "mimetype": "text/x-python",
   "name": "python",
   "nbconvert_exporter": "python",
   "pygments_lexer": "ipython3",
   "version": "3.6.6"
  }
 },
 "nbformat": 4,
 "nbformat_minor": 2
}
